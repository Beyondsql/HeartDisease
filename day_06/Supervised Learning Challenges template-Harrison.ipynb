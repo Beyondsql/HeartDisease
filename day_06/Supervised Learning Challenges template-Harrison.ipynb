{
 "cells": [
  {
   "cell_type": "markdown",
   "metadata": {},
   "source": [
    "# Supervised Learning Challenges\n",
    "\n",
    "\n",
    "Get the [congressional votes data](house-votes-84.csv) in your repo.\n",
    "\n",
    "These are votes of U.S. House of Representatives Congressmen on 16 key\n",
    "issues in 1984. You can find more information about it [here](house-votes-84-description.txt).\n",
    "\n",
    "We will try to see if we can predict the house members' party based on\n",
    "their votes.   \n",
    "We will also use some of the general machine learning tools we learned.\n",
    "\n",
    "#### Challenge 1 `[Python]`\n",
    "Load the data into a pandas dataframe. Replace `'y'`s with `1`s, `'n'`s with\n",
    "`0`s.\n",
    "\n",
    "Now, almost every representative has a `?`. This represents a no vote\n",
    "(they were absent or some other similar reason). If we dropped all the\n",
    "rows that had a `?`, we would throw out most of our data. Instead, we\n",
    "will replace `?` with the _best guess_ (in the Bayesian sense): in the\n",
    "absence of any other information, we will say that the probability of\n",
    "the representative saying YES is the ratio of others that said YES\n",
    "over the whole votes.\n",
    "\n",
    "So, convert each `?` to this probability (when yes=1 and no=0, this is\n",
    "the mean of the column)"
   ]
  },
  {
   "cell_type": "code",
   "execution_count": 40,
   "metadata": {
    "collapsed": false
   },
   "outputs": [],
   "source": [
    "import pandas as pd\n",
    "import numpy as np\n",
    "\n",
    "names_list = ['party']\n",
    "for i in range(1,17):\n",
    "    names_list.append('vote'+str(i))"
   ]
  },
  {
   "cell_type": "code",
   "execution_count": 41,
   "metadata": {
    "collapsed": false
   },
   "outputs": [],
   "source": [
    "df = pd.read_csv('house-votes-84.csv', header=None, names = names_list)"
   ]
  },
  {
   "cell_type": "code",
   "execution_count": 52,
   "metadata": {
    "collapsed": false
   },
   "outputs": [
    {
     "data": {
      "text/html": [
       "<div>\n",
       "<table border=\"1\" class=\"dataframe\">\n",
       "  <thead>\n",
       "    <tr style=\"text-align: right;\">\n",
       "      <th></th>\n",
       "      <th>party</th>\n",
       "      <th>vote1</th>\n",
       "      <th>vote2</th>\n",
       "      <th>vote3</th>\n",
       "      <th>vote4</th>\n",
       "      <th>vote5</th>\n",
       "      <th>vote6</th>\n",
       "      <th>vote7</th>\n",
       "      <th>vote8</th>\n",
       "      <th>vote9</th>\n",
       "      <th>vote10</th>\n",
       "      <th>vote11</th>\n",
       "      <th>vote12</th>\n",
       "      <th>vote13</th>\n",
       "      <th>vote14</th>\n",
       "      <th>vote15</th>\n",
       "      <th>vote16</th>\n",
       "    </tr>\n",
       "  </thead>\n",
       "  <tbody>\n",
       "    <tr>\n",
       "      <th>0</th>\n",
       "      <td>republican</td>\n",
       "      <td>0.0</td>\n",
       "      <td>1.0</td>\n",
       "      <td>0.0</td>\n",
       "      <td>1.0</td>\n",
       "      <td>1.0</td>\n",
       "      <td>1.0</td>\n",
       "      <td>0.0</td>\n",
       "      <td>0.0</td>\n",
       "      <td>0.0</td>\n",
       "      <td>1.0</td>\n",
       "      <td>NaN</td>\n",
       "      <td>1.0</td>\n",
       "      <td>1.0</td>\n",
       "      <td>1.0</td>\n",
       "      <td>0.0</td>\n",
       "      <td>1.0</td>\n",
       "    </tr>\n",
       "    <tr>\n",
       "      <th>1</th>\n",
       "      <td>republican</td>\n",
       "      <td>0.0</td>\n",
       "      <td>1.0</td>\n",
       "      <td>0.0</td>\n",
       "      <td>1.0</td>\n",
       "      <td>1.0</td>\n",
       "      <td>1.0</td>\n",
       "      <td>0.0</td>\n",
       "      <td>0.0</td>\n",
       "      <td>0.0</td>\n",
       "      <td>0.0</td>\n",
       "      <td>0.0</td>\n",
       "      <td>1.0</td>\n",
       "      <td>1.0</td>\n",
       "      <td>1.0</td>\n",
       "      <td>0.0</td>\n",
       "      <td>NaN</td>\n",
       "    </tr>\n",
       "    <tr>\n",
       "      <th>2</th>\n",
       "      <td>democrat</td>\n",
       "      <td>NaN</td>\n",
       "      <td>1.0</td>\n",
       "      <td>1.0</td>\n",
       "      <td>NaN</td>\n",
       "      <td>1.0</td>\n",
       "      <td>1.0</td>\n",
       "      <td>0.0</td>\n",
       "      <td>0.0</td>\n",
       "      <td>0.0</td>\n",
       "      <td>0.0</td>\n",
       "      <td>1.0</td>\n",
       "      <td>0.0</td>\n",
       "      <td>1.0</td>\n",
       "      <td>1.0</td>\n",
       "      <td>0.0</td>\n",
       "      <td>0.0</td>\n",
       "    </tr>\n",
       "    <tr>\n",
       "      <th>3</th>\n",
       "      <td>democrat</td>\n",
       "      <td>0.0</td>\n",
       "      <td>1.0</td>\n",
       "      <td>1.0</td>\n",
       "      <td>0.0</td>\n",
       "      <td>NaN</td>\n",
       "      <td>1.0</td>\n",
       "      <td>0.0</td>\n",
       "      <td>0.0</td>\n",
       "      <td>0.0</td>\n",
       "      <td>0.0</td>\n",
       "      <td>1.0</td>\n",
       "      <td>0.0</td>\n",
       "      <td>1.0</td>\n",
       "      <td>0.0</td>\n",
       "      <td>0.0</td>\n",
       "      <td>1.0</td>\n",
       "    </tr>\n",
       "    <tr>\n",
       "      <th>4</th>\n",
       "      <td>democrat</td>\n",
       "      <td>1.0</td>\n",
       "      <td>1.0</td>\n",
       "      <td>1.0</td>\n",
       "      <td>0.0</td>\n",
       "      <td>1.0</td>\n",
       "      <td>1.0</td>\n",
       "      <td>0.0</td>\n",
       "      <td>0.0</td>\n",
       "      <td>0.0</td>\n",
       "      <td>0.0</td>\n",
       "      <td>1.0</td>\n",
       "      <td>NaN</td>\n",
       "      <td>1.0</td>\n",
       "      <td>1.0</td>\n",
       "      <td>1.0</td>\n",
       "      <td>1.0</td>\n",
       "    </tr>\n",
       "  </tbody>\n",
       "</table>\n",
       "</div>"
      ],
      "text/plain": [
       "        party  vote1  vote2  vote3  vote4  vote5  vote6  vote7  vote8  vote9  \\\n",
       "0  republican    0.0    1.0    0.0    1.0    1.0    1.0    0.0    0.0    0.0   \n",
       "1  republican    0.0    1.0    0.0    1.0    1.0    1.0    0.0    0.0    0.0   \n",
       "2    democrat    NaN    1.0    1.0    NaN    1.0    1.0    0.0    0.0    0.0   \n",
       "3    democrat    0.0    1.0    1.0    0.0    NaN    1.0    0.0    0.0    0.0   \n",
       "4    democrat    1.0    1.0    1.0    0.0    1.0    1.0    0.0    0.0    0.0   \n",
       "\n",
       "   vote10  vote11  vote12  vote13  vote14  vote15  vote16  \n",
       "0     1.0     NaN     1.0     1.0     1.0     0.0     1.0  \n",
       "1     0.0     0.0     1.0     1.0     1.0     0.0     NaN  \n",
       "2     0.0     1.0     0.0     1.0     1.0     0.0     0.0  \n",
       "3     0.0     1.0     0.0     1.0     0.0     0.0     1.0  \n",
       "4     0.0     1.0     NaN     1.0     1.0     1.0     1.0  "
      ]
     },
     "execution_count": 52,
     "metadata": {},
     "output_type": "execute_result"
    }
   ],
   "source": [
    "df.head()"
   ]
  },
  {
   "cell_type": "code",
   "execution_count": 43,
   "metadata": {
    "collapsed": false
   },
   "outputs": [],
   "source": [
    "df = df.replace('n',0)\n",
    "df = df.replace('y',1)\n",
    "df = df.replace('?',np.nan)"
   ]
  },
  {
   "cell_type": "code",
   "execution_count": 53,
   "metadata": {
    "collapsed": false
   },
   "outputs": [],
   "source": [
    "df = df.fillna(df.mean())"
   ]
  },
  {
   "cell_type": "code",
   "execution_count": 54,
   "metadata": {
    "collapsed": false
   },
   "outputs": [
    {
     "data": {
      "text/html": [
       "<div>\n",
       "<table border=\"1\" class=\"dataframe\">\n",
       "  <thead>\n",
       "    <tr style=\"text-align: right;\">\n",
       "      <th></th>\n",
       "      <th>party</th>\n",
       "      <th>vote1</th>\n",
       "      <th>vote2</th>\n",
       "      <th>vote3</th>\n",
       "      <th>vote4</th>\n",
       "      <th>vote5</th>\n",
       "      <th>vote6</th>\n",
       "      <th>vote7</th>\n",
       "      <th>vote8</th>\n",
       "      <th>vote9</th>\n",
       "      <th>vote10</th>\n",
       "      <th>vote11</th>\n",
       "      <th>vote12</th>\n",
       "      <th>vote13</th>\n",
       "      <th>vote14</th>\n",
       "      <th>vote15</th>\n",
       "      <th>vote16</th>\n",
       "    </tr>\n",
       "  </thead>\n",
       "  <tbody>\n",
       "    <tr>\n",
       "      <th>0</th>\n",
       "      <td>republican</td>\n",
       "      <td>0.00000</td>\n",
       "      <td>1.0</td>\n",
       "      <td>0.0</td>\n",
       "      <td>1.000000</td>\n",
       "      <td>1.000000</td>\n",
       "      <td>1.0</td>\n",
       "      <td>0.0</td>\n",
       "      <td>0.0</td>\n",
       "      <td>0.0</td>\n",
       "      <td>1.0</td>\n",
       "      <td>0.362319</td>\n",
       "      <td>1.000000</td>\n",
       "      <td>1.0</td>\n",
       "      <td>1.0</td>\n",
       "      <td>0.0</td>\n",
       "      <td>1.000000</td>\n",
       "    </tr>\n",
       "    <tr>\n",
       "      <th>1</th>\n",
       "      <td>republican</td>\n",
       "      <td>0.00000</td>\n",
       "      <td>1.0</td>\n",
       "      <td>0.0</td>\n",
       "      <td>1.000000</td>\n",
       "      <td>1.000000</td>\n",
       "      <td>1.0</td>\n",
       "      <td>0.0</td>\n",
       "      <td>0.0</td>\n",
       "      <td>0.0</td>\n",
       "      <td>0.0</td>\n",
       "      <td>0.000000</td>\n",
       "      <td>1.000000</td>\n",
       "      <td>1.0</td>\n",
       "      <td>1.0</td>\n",
       "      <td>0.0</td>\n",
       "      <td>0.812689</td>\n",
       "    </tr>\n",
       "    <tr>\n",
       "      <th>2</th>\n",
       "      <td>democrat</td>\n",
       "      <td>0.44208</td>\n",
       "      <td>1.0</td>\n",
       "      <td>1.0</td>\n",
       "      <td>0.417453</td>\n",
       "      <td>1.000000</td>\n",
       "      <td>1.0</td>\n",
       "      <td>0.0</td>\n",
       "      <td>0.0</td>\n",
       "      <td>0.0</td>\n",
       "      <td>0.0</td>\n",
       "      <td>1.000000</td>\n",
       "      <td>0.000000</td>\n",
       "      <td>1.0</td>\n",
       "      <td>1.0</td>\n",
       "      <td>0.0</td>\n",
       "      <td>0.000000</td>\n",
       "    </tr>\n",
       "    <tr>\n",
       "      <th>3</th>\n",
       "      <td>democrat</td>\n",
       "      <td>0.00000</td>\n",
       "      <td>1.0</td>\n",
       "      <td>1.0</td>\n",
       "      <td>0.000000</td>\n",
       "      <td>0.504762</td>\n",
       "      <td>1.0</td>\n",
       "      <td>0.0</td>\n",
       "      <td>0.0</td>\n",
       "      <td>0.0</td>\n",
       "      <td>0.0</td>\n",
       "      <td>1.000000</td>\n",
       "      <td>0.000000</td>\n",
       "      <td>1.0</td>\n",
       "      <td>0.0</td>\n",
       "      <td>0.0</td>\n",
       "      <td>1.000000</td>\n",
       "    </tr>\n",
       "    <tr>\n",
       "      <th>4</th>\n",
       "      <td>democrat</td>\n",
       "      <td>1.00000</td>\n",
       "      <td>1.0</td>\n",
       "      <td>1.0</td>\n",
       "      <td>0.000000</td>\n",
       "      <td>1.000000</td>\n",
       "      <td>1.0</td>\n",
       "      <td>0.0</td>\n",
       "      <td>0.0</td>\n",
       "      <td>0.0</td>\n",
       "      <td>0.0</td>\n",
       "      <td>1.000000</td>\n",
       "      <td>0.423267</td>\n",
       "      <td>1.0</td>\n",
       "      <td>1.0</td>\n",
       "      <td>1.0</td>\n",
       "      <td>1.000000</td>\n",
       "    </tr>\n",
       "  </tbody>\n",
       "</table>\n",
       "</div>"
      ],
      "text/plain": [
       "        party    vote1  vote2  vote3     vote4     vote5  vote6  vote7  vote8  \\\n",
       "0  republican  0.00000    1.0    0.0  1.000000  1.000000    1.0    0.0    0.0   \n",
       "1  republican  0.00000    1.0    0.0  1.000000  1.000000    1.0    0.0    0.0   \n",
       "2    democrat  0.44208    1.0    1.0  0.417453  1.000000    1.0    0.0    0.0   \n",
       "3    democrat  0.00000    1.0    1.0  0.000000  0.504762    1.0    0.0    0.0   \n",
       "4    democrat  1.00000    1.0    1.0  0.000000  1.000000    1.0    0.0    0.0   \n",
       "\n",
       "   vote9  vote10    vote11    vote12  vote13  vote14  vote15    vote16  \n",
       "0    0.0     1.0  0.362319  1.000000     1.0     1.0     0.0  1.000000  \n",
       "1    0.0     0.0  0.000000  1.000000     1.0     1.0     0.0  0.812689  \n",
       "2    0.0     0.0  1.000000  0.000000     1.0     1.0     0.0  0.000000  \n",
       "3    0.0     0.0  1.000000  0.000000     1.0     0.0     0.0  1.000000  \n",
       "4    0.0     0.0  1.000000  0.423267     1.0     1.0     1.0  1.000000  "
      ]
     },
     "execution_count": 54,
     "metadata": {},
     "output_type": "execute_result"
    }
   ],
   "source": [
    "df.head()"
   ]
  },
  {
   "cell_type": "markdown",
   "metadata": {},
   "source": [
    "#### Challenge 2 `[Modeling]`\n",
    "Split the data into a test and training set. Use this\n",
    "function:\n",
    "\n",
    "    from sklearn.cross_validation import train_test_split"
   ]
  },
  {
   "cell_type": "code",
   "execution_count": 55,
   "metadata": {
    "collapsed": true
   },
   "outputs": [],
   "source": [
    "from sklearn.cross_validation import train_test_split"
   ]
  },
  {
   "cell_type": "code",
   "execution_count": 154,
   "metadata": {
    "collapsed": false
   },
   "outputs": [
    {
     "name": "stdout",
     "output_type": "stream",
     "text": [
      "304\n",
      "131\n"
     ]
    }
   ],
   "source": [
    "train, test = train_test_split(df, test_size = .3)\n",
    "print len(train)\n",
    "print len(test)"
   ]
  },
  {
   "cell_type": "markdown",
   "metadata": {},
   "source": [
    "#### Challenge 3 `[Modeling]`\n",
    "Using scikit.learn's KNN algorithm, train a model that predicts the\n",
    "party (republican/democrat):\n",
    "\n",
    "    from sklearn.neighbors import KNeighborsClassifier\n",
    "\n",
    "Read the [documentation](http://scikit-learn.org/stable/modules/generated/sklearn.neighbors.KNeighborsClassifier.html). \n",
    "Get your X (columns of features) and Y (target column) vectors ready for fitting and evaluating. \n",
    "Initiate the model with `knn_model = KNeighborsClassifier(n_neighbors=1)` (for a k=1 KNN). \n",
    "Call `.fit(X, Y)` on the `knn_model` with the X and Y from the training set.\n",
    "\n",
    "Try it with a lot of different k values (number of neighbors), from 1\n",
    "to 20, and on the test set calculate the accuracy (number of correct\n",
    "predictions / number of all predictions) for each k\n",
    "\n",
    "You can use this to calculate accuracy:\n",
    "\n",
    "    from sklearn.metrics import accuracy_score\n",
    "\n",
    "Which k value gives the highest accuracy?"
   ]
  },
  {
   "cell_type": "code",
   "execution_count": 155,
   "metadata": {
    "collapsed": false
   },
   "outputs": [
    {
     "name": "stdout",
     "output_type": "stream",
     "text": [
      "29       democrat\n",
      "240    republican\n",
      "59     republican\n",
      "230    republican\n",
      "69       democrat\n",
      "Name: party, dtype: object\n",
      "     vote1  vote2  vote3  vote4  vote5  vote6  vote7    vote8  vote9  vote10  \\\n",
      "29     1.0    1.0    1.0    0.0    0.0    0.0    1.0  1.00000    1.0     0.0   \n",
      "240    0.0    0.0    0.0    1.0    0.0    1.0    1.0  0.57619    1.0     0.0   \n",
      "59     0.0    1.0    0.0    1.0    1.0    1.0    0.0  0.00000    0.0     1.0   \n",
      "230    0.0    1.0    0.0    1.0    1.0    1.0    0.0  0.00000    0.0     0.0   \n",
      "69     1.0    1.0    1.0    0.0    0.0    0.0    1.0  1.00000    1.0     0.0   \n",
      "\n",
      "     vote11  vote12  vote13  vote14  vote15    vote16  \n",
      "29      1.0     0.0     0.0     0.0     1.0  1.000000  \n",
      "240     0.0     1.0     1.0     1.0     0.0  1.000000  \n",
      "59      0.0     1.0     1.0     1.0     0.0  0.812689  \n",
      "230     0.0     1.0     1.0     1.0     0.0  1.000000  \n",
      "69      0.0     0.0     0.0     0.0     1.0  1.000000  \n"
     ]
    }
   ],
   "source": [
    "from sklearn.neighbors import KNeighborsClassifier\n",
    "\n",
    "Y_train = train['party']\n",
    "Y_test = test['party']\n",
    "print Y.head()\n",
    "X_train = train.drop(['party'], axis = 1)\n",
    "X_test = test.drop(['party'], axis = 1)\n",
    "print X.head()"
   ]
  },
  {
   "cell_type": "code",
   "execution_count": 156,
   "metadata": {
    "collapsed": false
   },
   "outputs": [],
   "source": [
    "knn = KNeighborsClassifier(n_neighbors=1)"
   ]
  },
  {
   "cell_type": "code",
   "execution_count": 158,
   "metadata": {
    "collapsed": false
   },
   "outputs": [
    {
     "name": "stdout",
     "output_type": "stream",
     "text": [
      "[ 0.93548387  0.93548387  0.87096774  0.90322581  0.90322581  0.9\n",
      "  0.96666667  0.96666667  1.          0.89655172]\n"
     ]
    }
   ],
   "source": [
    "###TEST CV\n",
    "from sklearn.cross_validation import cross_val_score\n",
    "\n",
    "test = cross_val_score(knn, X_train, Y_train, cv=10)\n",
    "print test"
   ]
  },
  {
   "cell_type": "code",
   "execution_count": 78,
   "metadata": {
    "collapsed": false
   },
   "outputs": [
    {
     "data": {
      "text/plain": [
       "KNeighborsClassifier(algorithm='auto', leaf_size=30, metric='minkowski',\n",
       "           metric_params=None, n_jobs=1, n_neighbors=1, p=2,\n",
       "           weights='uniform')"
      ]
     },
     "execution_count": 78,
     "metadata": {},
     "output_type": "execute_result"
    }
   ],
   "source": [
    "knn.fit(X_train,Y_train)"
   ]
  },
  {
   "cell_type": "code",
   "execution_count": 82,
   "metadata": {
    "collapsed": false
   },
   "outputs": [
    {
     "name": "stdout",
     "output_type": "stream",
     "text": [
      "['democrat' 'republican' 'republican' 'democrat' 'republican']\n"
     ]
    }
   ],
   "source": [
    "Y_pred = knn.predict(X_test)\n",
    "print Y_pred[0:5]"
   ]
  },
  {
   "cell_type": "code",
   "execution_count": 83,
   "metadata": {
    "collapsed": false
   },
   "outputs": [
    {
     "data": {
      "text/plain": [
       "0.93129770992366412"
      ]
     },
     "execution_count": 83,
     "metadata": {},
     "output_type": "execute_result"
    }
   ],
   "source": [
    "from sklearn.metrics import accuracy_score\n",
    "\n",
    "accuracy_score(Y_test,Y_pred)"
   ]
  },
  {
   "cell_type": "code",
   "execution_count": 99,
   "metadata": {
    "collapsed": false
   },
   "outputs": [
    {
     "name": "stdout",
     "output_type": "stream",
     "text": [
      "1 0.923664122137\n",
      "2 0.931297709924\n",
      "3 0.946564885496\n",
      "4 0.93893129771\n",
      "5 0.946564885496\n",
      "6 0.93893129771\n",
      "7 0.923664122137\n",
      "8 0.923664122137\n",
      "9 0.923664122137\n",
      "10 0.923664122137\n",
      "11 0.923664122137\n",
      "12 0.923664122137\n",
      "13 0.923664122137\n",
      "14 0.923664122137\n",
      "15 0.923664122137\n",
      "16 0.923664122137\n",
      "17 0.923664122137\n",
      "18 0.923664122137\n",
      "19 0.923664122137\n",
      "20 0.923664122137\n"
     ]
    }
   ],
   "source": [
    "knn_list = range(1,21)\n",
    "def knn_accuracy(data, num_neigh, Y_col):\n",
    "    from sklearn.cross_validation import train_test_split\n",
    "    from sklearn.neighbors import KNeighborsClassifier\n",
    "    from sklearn.metrics import accuracy_score\n",
    "    Y = data[Y_col]\n",
    "    X = data.drop([Y_col], axis=1)\n",
    "    X_train, X_test, Y_train, Y_test = train_test_split(X, Y, test_size = .3, random_state = 42)\n",
    "    knn = KNeighborsClassifier(n_neighbors=num_neigh)\n",
    "    knn.fit(X_train,Y_train)\n",
    "    Y_pred = knn.predict(X_test)\n",
    "    return accuracy_score(Y_test, Y_pred)\n",
    "\n",
    "for num in knn_list:\n",
    "    print num, knn_accuracy(df, num, 'party')"
   ]
  },
  {
   "cell_type": "markdown",
   "metadata": {},
   "source": [
    "#### Challenge 4 `[Modeling]`\n",
    "Make a similar model but with scikit.learn's `LogisticRegression` instead. Calculate\n",
    "test accuracy. Google the documentation. The fit / predict interface is the same for all models in scikit.learn"
   ]
  },
  {
   "cell_type": "code",
   "execution_count": 100,
   "metadata": {
    "collapsed": false
   },
   "outputs": [
    {
     "name": "stdout",
     "output_type": "stream",
     "text": [
      "0.969465648855\n"
     ]
    }
   ],
   "source": [
    "def logreg_accuracy(data, Y_col):\n",
    "    from sklearn.cross_validation import train_test_split\n",
    "    from sklearn.linear_model import LogisticRegression\n",
    "    from sklearn.metrics import accuracy_score\n",
    "    Y = data[Y_col]\n",
    "    X = data.drop([Y_col], axis=1)\n",
    "    X_train, X_test, Y_train, Y_test = train_test_split(X, Y, test_size = .3, random_state = 42)\n",
    "    logreg = LogisticRegression()\n",
    "    logreg.fit(X_train,Y_train)\n",
    "    Y_pred = logreg.predict(X_test)\n",
    "    return accuracy_score(Y_test, Y_pred)\n",
    "\n",
    "print logreg_accuracy(df, 'party')"
   ]
  },
  {
   "cell_type": "markdown",
   "metadata": {},
   "source": [
    "#### Challenge 5 `[Python]`\n",
    "Make a bar graph of democrats and republicans. How many of each are\n",
    "there?\n",
    "\n",
    "Make a very simple predictor that predicts 'democrat' for every\n",
    "incoming example.   \n",
    "(Just make a function that takes in an `X`  --an array or matrix with\n",
    "input examples--, and returns an array of the same length as `X`, where\n",
    "each value is 'democrat'. For example, if `X` is three rows, your\n",
    "function should return `['democrat','democrat','democrat']`) Make a\n",
    "`y_predicted` vector using this and measure its accuracy.\n",
    "\n",
    "Do the same with predicting 'republican' all the time and measure its\n",
    "accuracy."
   ]
  },
  {
   "cell_type": "code",
   "execution_count": 118,
   "metadata": {
    "collapsed": true
   },
   "outputs": [],
   "source": [
    "import matplotlib.pyplot as plt\n",
    "%matplotlib inline"
   ]
  },
  {
   "cell_type": "code",
   "execution_count": 132,
   "metadata": {
    "collapsed": false
   },
   "outputs": [
    {
     "data": {
      "text/plain": [
       "<matplotlib.axes._subplots.AxesSubplot at 0xc74d7f0>"
      ]
     },
     "execution_count": 132,
     "metadata": {},
     "output_type": "execute_result"
    },
    {
     "data": {
      "image/png": "[encoded data removed]",
      "text/plain": [
       "<matplotlib.figure.Figure at 0xc2dec50>"
      ]
     },
     "metadata": {},
     "output_type": "display_data"
    }
   ],
   "source": [
    "plt.figure()\n",
    "df.groupby('party').size().plot(kind='bar')"
   ]
  },
  {
   "cell_type": "code",
   "execution_count": 133,
   "metadata": {
    "collapsed": true
   },
   "outputs": [],
   "source": [
    "def dem_accuracy(x):\n",
    "    return ['democrat']*len(x)"
   ]
  },
  {
   "cell_type": "code",
   "execution_count": 148,
   "metadata": {
    "collapsed": false
   },
   "outputs": [
    {
     "name": "stdout",
     "output_type": "stream",
     "text": [
      "0.648854961832\n"
     ]
    }
   ],
   "source": [
    "Y_pred = dem_pred(X_test)\n",
    "print accuracy_score(Y_test, Y_pred)"
   ]
  },
  {
   "cell_type": "markdown",
   "metadata": {},
   "source": [
    "#### Challenge 6 `[Visualization]`\n",
    "Plot the accuracies of each predictor as a function of k. Since k only matters for KNN,\n",
    "your logistic regression accuracy, 'democrat' predictor accuracy and\n",
    "'republican' predictor accuracy will stay the same over all k, so each\n",
    "of these three will be a horizontal line. But the KNN accuracy will\n",
    "change with k."
   ]
  },
  {
   "cell_type": "code",
   "execution_count": 152,
   "metadata": {
    "collapsed": false,
    "scrolled": false
   },
   "outputs": [
    {
     "name": "stdout",
     "output_type": "stream",
     "text": [
      "[1, 2, 3, 4, 5, 6, 7, 8, 9, 10, 11, 12, 13, 14, 15, 16, 17, 18, 19, 20]\n",
      "[0.92366412213740456, 0.93129770992366412, 0.94656488549618323, 0.93893129770992367, 0.94656488549618323, 0.93893129770992367, 0.92366412213740456, 0.92366412213740456, 0.92366412213740456, 0.92366412213740456, 0.92366412213740456, 0.92366412213740456, 0.92366412213740456, 0.92366412213740456, 0.92366412213740456, 0.92366412213740456, 0.92366412213740456, 0.92366412213740456, 0.92366412213740456, 0.92366412213740456]\n"
     ]
    },
    {
     "data": {
      "text/plain": [
       "[<matplotlib.lines.Line2D at 0xed58cf8>,\n",
       " <matplotlib.lines.Line2D at 0xed58eb8>,\n",
       " <matplotlib.lines.Line2D at 0xed684e0>]"
      ]
     },
     "execution_count": 152,
     "metadata": {},
     "output_type": "execute_result"
    },
    {
     "data": {
      "image/png": "[encoded data removed]",
      "text/plain": [
       "<matplotlib.figure.Figure at 0xebd4f60>"
      ]
     },
     "metadata": {},
     "output_type": "display_data"
    }
   ],
   "source": [
    "n = range(1,21)\n",
    "knn_acc = []\n",
    "for num in knn_list:\n",
    "    knn_acc.append(knn_accuracy(df, num, 'party'))\n",
    "    \n",
    "log_acc = logreg_accuracy(df, 'party')\n",
    "\n",
    "Y_pred = dem_pred(X_test)\n",
    "dem_acc = accuracy_score(Y_test, Y_pred)\n",
    "\n",
    "print n\n",
    "print knn_acc\n",
    "\n",
    "plt.plot(n, knn_acc, n, [log_acc]*20, n, [dem_acc]*20)"
   ]
  },
  {
   "cell_type": "markdown",
   "metadata": {},
   "source": [
    "#### Challenge 7 `[Modeling]`\n",
    "When you found the k value with highest test accuracy in Challenge 3, you used a single test set. \n",
    "Use scikit.learn's cross-validation tools to get a range of accuracies for each k. \n",
    "Using the average cross validation accuracy, does the best k change? \n",
    "Can you imagine cases where it might and might not change?"
   ]
  },
  {
   "cell_type": "code",
   "execution_count": null,
   "metadata": {
    "collapsed": true
   },
   "outputs": [],
   "source": [
    "knn_list = range(1,21)\n",
    "def knn_accuracy(data, num_neigh, Y_col):\n",
    "    from sklearn.cross_validation import train_test_split\n",
    "    from sklearn.neighbors import KNeighborsClassifier\n",
    "    from sklearn.metrics import accuracy_score\n",
    "    Y = data[Y_col]\n",
    "    X = data.drop([Y_col], axis=1)\n",
    "    X_train, X_test, Y_train, Y_test = train_test_split(X, Y, test_size = .3, random_state = 42)\n",
    "    knn = KNeighborsClassifier(n_neighbors=num_neigh)\n",
    "    knn.fit(X_train,Y_train)\n",
    "    Y_pred = knn.predict(X_test)\n",
    "    return accuracy_score(Y_test, Y_pred)\n",
    "\n",
    "for num in knn_list:\n",
    "    print num, knn_accuracy(df, num, 'party')"
   ]
  },
  {
   "cell_type": "code",
   "execution_count": null,
   "metadata": {
    "collapsed": true
   },
   "outputs": [],
   "source": [
    "knn_list = range(1,21)\n",
    "def knn_cross_acc(data, num_neigh, Y_col):\n",
    "    from sklearn.cross_validation import train_test_split\n",
    "    from sklearn.cross_validation import cross_val_score\n",
    "    from sklearn.neighbors import KNeighborsClassifier\n",
    "    from sklearn.metrics import accuracy_score\n",
    "    Y = data[Y_col]\n",
    "    X = data.drop([Y_col], axis=1)\n",
    "    X_train, X_test, Y_train, Y_test = train_test_split(X, Y, test_size = .3, random_state = 42)\n",
    "    knn = KNeighborsClassifier(n_neighbors=num_neigh)\n",
    "    knn.fit(X_train,Y_train)\n",
    "    Y_pred = knn.predict(X_test)\n",
    "    return accuracy_score(Y_test, Y_pred)\n",
    "\n",
    "for num in knn_list:\n",
    "    print num, knn_accuracy(df, num, 'party')"
   ]
  },
  {
   "cell_type": "markdown",
   "metadata": {},
   "source": [
    "#### Challenge 8 `[Visualization]`\n",
    "Like in Challenge 6, make a graph of  accuracies for each k value. \n",
    "This time, put error bars in your graph, using your results from Challenge 7.\n",
    "Use the standard deviation of the cross validation accuracy values for each k as its error bar height (for the KNN predictor)."
   ]
  },
  {
   "cell_type": "code",
   "execution_count": null,
   "metadata": {
    "collapsed": true
   },
   "outputs": [],
   "source": []
  },
  {
   "cell_type": "markdown",
   "metadata": {},
   "source": [
    "#### Challenge 9 `[Modeling]`\n",
    "Calculate the accuracy, precision, recall and f1 scores on the test set for each classifier you built (including the trivial ones).\n",
    "(Use only one KNN with the best k, no need to do this for all k values)."
   ]
  },
  {
   "cell_type": "code",
   "execution_count": null,
   "metadata": {
    "collapsed": true
   },
   "outputs": [],
   "source": []
  },
  {
   "cell_type": "markdown",
   "metadata": {},
   "source": [
    "#### Challenge 10 `[Modeling]`\n",
    "Calculate the same metrics as in Challenge 9, but use cross validation instead of that test set."
   ]
  },
  {
   "cell_type": "code",
   "execution_count": null,
   "metadata": {
    "collapsed": true
   },
   "outputs": [],
   "source": []
  },
  {
   "cell_type": "markdown",
   "metadata": {},
   "source": [
    "#### Challenge 11a `[Python]`\n",
    "A Portuguese bank is having a telemrketing campaign. They try to get their clients to subscribe to a term deposit product. Often more than one call to the same client is required. They have been recording their success or failure with each client, along with all the data they have on that client. To cut costs, the bank wants to predict who is likely to subscribe, so they can call those clients and not waste time and money calling people that likely won't subscribe anyway. To that end, [here are their records so far](https://github.com/thisismetis/capitalone-pilottwo/blob/master/project_2/data/bank/bank.csv). You can learn more about each column [here](https://github.com/thisismetis/capitalone-pilottwo/blob/master/project_2/data/bank/bank-description.md).\n",
    "\n",
    "Build a  classifier with all the numeric features. Calculate the accuracy, precision, and recall for identifying the subscribers."
   ]
  },
  {
   "cell_type": "code",
   "execution_count": null,
   "metadata": {
    "collapsed": true
   },
   "outputs": [],
   "source": []
  },
  {
   "cell_type": "markdown",
   "metadata": {},
   "source": [
    "#### Challenge 11b `[Modeling]`\n",
    "Is this a good predictor? Which features are contributing the most? Check if any single feature that you included in your model might be driving the classifier. If so, why? Can you use this model successfully? Can you use a model with just that column? Is something wrong? (Hint: You should not use one of the columns, but it is not obvious at initial look. Find out which one and why that might be)"
   ]
  },
  {
   "cell_type": "code",
   "execution_count": null,
   "metadata": {
    "collapsed": true
   },
   "outputs": [],
   "source": []
  },
  {
   "cell_type": "markdown",
   "metadata": {},
   "source": [
    "_The rest is completely optional specialization challenges. Select the ones you're excited about, or explore other things you got curious about through the first 11-ish challenges._\n",
    "\n",
    "\n",
    "\n",
    "-----\n",
    "\n",
    "\n",
    "\n",
    "#### Extra `[Python]` & `[Modeling]` Challenge A\n",
    "\n",
    "Instead of 'democrat' or 'republican', can you predict the vote of a\n",
    "representative based on their other votes?\n",
    "\n",
    "Reload the data from scratch. Convert y-->1, n-->0.\n",
    "\n",
    "Choose one vote. Build a classifier (logistic regression or KNN), that\n",
    "uses the other votes (do not use the party as a feature) to predict if\n",
    "the vote will be 1 or 0.\n",
    "\n",
    "Convert each ? to the mode of the column (if a senator has not voted,\n",
    "make their vote 1 if most others voted 1, make it 0 if most others\n",
    "voted 0).\n",
    "\n",
    "Calculate the cross validation accuracy of your classifier for\n",
    "predicting how each representative will vote on the issue."
   ]
  },
  {
   "cell_type": "code",
   "execution_count": null,
   "metadata": {
    "collapsed": true
   },
   "outputs": [],
   "source": []
  },
  {
   "cell_type": "markdown",
   "metadata": {},
   "source": [
    "#### Extra `[Modeling]` Challenge B\n",
    "\n",
    "Back to your movie data! Choose one categoric feature to predict. \n",
    "We mention MPAA Rating in the slides, but genre, month, etc. are all decent choices. If\n",
    "you don't have any non-numeric features, you can make two bins out of\n",
    "a numeric one (like \"Runtime>100 mins\" and \"Runtime<=100 mins\")\n",
    "\n",
    "Make a bar graph of how many of each movie there is in the data. For\n",
    "example, with Ratings, show how many G, PG, PG-13, R movies there are,\n",
    "etc. (basically a histogram of your labels).\n",
    "\n",
    "Predict your outcome variable (target/labels) using KNN and logistic\n",
    "regression. Calculate their accuracies.\n",
    "\n",
    "Make a baseline stupid predictor that always predicts the label that\n",
    "is present the most in the data. Calculate its accuracy on a test set.\n",
    "\n",
    "How much better do KNN and logistic regression do versus the baseline?\n",
    "\n",
    "What are the coefficients of logistic regression? Which features\n",
    "affect the outcome how?"
   ]
  },
  {
   "cell_type": "code",
   "execution_count": null,
   "metadata": {
    "collapsed": true
   },
   "outputs": [],
   "source": []
  },
  {
   "cell_type": "markdown",
   "metadata": {},
   "source": [
    "#### Extra`[Modeling]` Challenge C\n",
    "\n",
    "This is a preview of many other classification algorithms. Scikit.learn has the same interface for all of these, so you\n",
    "can use them exactly the same way as you did `LogisticRegression` and\n",
    "`KNeighborsClassifier`. Use each of these to classify your data and\n",
    "print the test accuracy of each:\n",
    "\n",
    "Gaussian Naive Bayes\n",
    "\n",
    "    from sklearn.naive_bayes import GaussianNB\n",
    "\n",
    "\n",
    "SVM (Support Vector Machine) Classifier\n",
    "\n",
    "    from sklearn.svm import SVC\n",
    "\n",
    "\n",
    "Decision Tree\n",
    "\n",
    "    from sklearn.tree import DecisionTreeClassifier\n",
    "\n",
    "\n",
    "Random Forest\n",
    "\n",
    "    from sklearn.ensemble import RandomForestClassifier"
   ]
  },
  {
   "cell_type": "code",
   "execution_count": null,
   "metadata": {
    "collapsed": true
   },
   "outputs": [],
   "source": []
  },
  {
   "cell_type": "markdown",
   "metadata": {},
   "source": [
    "#### Extra `[Python]` Challenge D\n",
    "\n",
    "The representative votes dataset\n",
    "only had 0s and 1s. Let's just swiftly tackle the breast cancer\n",
    "surgery data we talked about in class.\n",
    "\n",
    "The data is [in the repository](haberman.csv). You can learn more about it [here](https://archive.ics.uci.edu/ml/datasets/Haberman%27s+Survival).\n",
    "\n",
    "- What is the average and standard deviation of the age of all of the\n",
    "patients?\n",
    "- What is the average and standard deviation of the age of those\n",
    "patients that survived 5 or more years after surgery?\n",
    "- What is the average and standard deviation of the age of those\n",
    "patients who survived fewer than 5 years after surgery?\n",
    "- Plot a histogram of the ages side by side with a histogram of the\n",
    "number of axillary nodes.\n",
    "- What is the earliest year of surgery in this dataset?\n",
    "- What is the most recent year of surgery?\n",
    "- Use logistic regression to predict survival after 5 years. How well\n",
    "does your model do?\n",
    "- What are the coefficients of logistic regression? Which features\n",
    "affect the outcome how?"
   ]
  },
  {
   "cell_type": "code",
   "execution_count": null,
   "metadata": {
    "collapsed": true
   },
   "outputs": [],
   "source": []
  },
  {
   "cell_type": "markdown",
   "metadata": {},
   "source": [
    "#### Extra `[Modeling]` & `[Visualization]` Challenge E\n",
    "For each representatives classifier (KNN and logistic regression), draw the ROC curve and calculate the AUC.\n",
    "As a `[Visualitation]` track bonus, make the ROC curve look good, following good data visualization principles."
   ]
  },
  {
   "cell_type": "code",
   "execution_count": null,
   "metadata": {
    "collapsed": true
   },
   "outputs": [],
   "source": []
  }
 ],
 "metadata": {
  "kernelspec": {
   "display_name": "Python 2",
   "language": "python",
   "name": "python2"
  },
  "language_info": {
   "codemirror_mode": {
    "name": "ipython",
    "version": 2
   },
   "file_extension": ".py",
   "mimetype": "text/x-python",
   "name": "python",
   "nbconvert_exporter": "python",
   "pygments_lexer": "ipython2",
   "version": "2.7.11"
  }
 },
 "nbformat": 4,
 "nbformat_minor": 0
}
