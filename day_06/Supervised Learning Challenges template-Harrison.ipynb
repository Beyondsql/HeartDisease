{
 "cells": [
  {
   "cell_type": "markdown",
   "metadata": {},
   "source": [
    "# Supervised Learning Challenges\n",
    "\n",
    "\n",
    "Get the [congressional votes data](house-votes-84.csv) in your repo.\n",
    "\n",
    "These are votes of U.S. House of Representatives Congressmen on 16 key\n",
    "issues in 1984. You can find more information about it [here](house-votes-84-description.txt).\n",
    "\n",
    "We will try to see if we can predict the house members' party based on\n",
    "their votes.   \n",
    "We will also use some of the general machine learning tools we learned.\n",
    "\n",
    "#### Challenge 1 `[Python]`\n",
    "Load the data into a pandas dataframe. Replace `'y'`s with `1`s, `'n'`s with\n",
    "`0`s.\n",
    "\n",
    "Now, almost every representative has a `?`. This represents a no vote\n",
    "(they were absent or some other similar reason). If we dropped all the\n",
    "rows that had a `?`, we would throw out most of our data. Instead, we\n",
    "will replace `?` with the _best guess_ (in the Bayesian sense): in the\n",
    "absence of any other information, we will say that the probability of\n",
    "the representative saying YES is the ratio of others that said YES\n",
    "over the whole votes.\n",
    "\n",
    "So, convert each `?` to this probability (when yes=1 and no=0, this is\n",
    "the mean of the column)"
   ]
  },
  {
   "cell_type": "code",
   "execution_count": 1,
   "metadata": {
    "collapsed": false
   },
   "outputs": [],
   "source": [
    "import pandas as pd\n",
    "import numpy as np\n",
    "\n",
    "names_list = ['party']\n",
    "for i in range(1,17):\n",
    "    names_list.append('vote'+str(i))"
   ]
  },
  {
   "cell_type": "code",
   "execution_count": 2,
   "metadata": {
    "collapsed": false
   },
   "outputs": [],
   "source": [
    "df = pd.read_csv('house-votes-84.csv', header=None, names = names_list)"
   ]
  },
  {
   "cell_type": "code",
   "execution_count": 3,
   "metadata": {
    "collapsed": false
   },
   "outputs": [
    {
     "data": {
      "text/html": [
       "<div>\n",
       "<table border=\"1\" class=\"dataframe\">\n",
       "  <thead>\n",
       "    <tr style=\"text-align: right;\">\n",
       "      <th></th>\n",
       "      <th>party</th>\n",
       "      <th>vote1</th>\n",
       "      <th>vote2</th>\n",
       "      <th>vote3</th>\n",
       "      <th>vote4</th>\n",
       "      <th>vote5</th>\n",
       "      <th>vote6</th>\n",
       "      <th>vote7</th>\n",
       "      <th>vote8</th>\n",
       "      <th>vote9</th>\n",
       "      <th>vote10</th>\n",
       "      <th>vote11</th>\n",
       "      <th>vote12</th>\n",
       "      <th>vote13</th>\n",
       "      <th>vote14</th>\n",
       "      <th>vote15</th>\n",
       "      <th>vote16</th>\n",
       "    </tr>\n",
       "  </thead>\n",
       "  <tbody>\n",
       "    <tr>\n",
       "      <th>0</th>\n",
       "      <td>republican</td>\n",
       "      <td>n</td>\n",
       "      <td>y</td>\n",
       "      <td>n</td>\n",
       "      <td>y</td>\n",
       "      <td>y</td>\n",
       "      <td>y</td>\n",
       "      <td>n</td>\n",
       "      <td>n</td>\n",
       "      <td>n</td>\n",
       "      <td>y</td>\n",
       "      <td>?</td>\n",
       "      <td>y</td>\n",
       "      <td>y</td>\n",
       "      <td>y</td>\n",
       "      <td>n</td>\n",
       "      <td>y</td>\n",
       "    </tr>\n",
       "    <tr>\n",
       "      <th>1</th>\n",
       "      <td>republican</td>\n",
       "      <td>n</td>\n",
       "      <td>y</td>\n",
       "      <td>n</td>\n",
       "      <td>y</td>\n",
       "      <td>y</td>\n",
       "      <td>y</td>\n",
       "      <td>n</td>\n",
       "      <td>n</td>\n",
       "      <td>n</td>\n",
       "      <td>n</td>\n",
       "      <td>n</td>\n",
       "      <td>y</td>\n",
       "      <td>y</td>\n",
       "      <td>y</td>\n",
       "      <td>n</td>\n",
       "      <td>?</td>\n",
       "    </tr>\n",
       "    <tr>\n",
       "      <th>2</th>\n",
       "      <td>democrat</td>\n",
       "      <td>?</td>\n",
       "      <td>y</td>\n",
       "      <td>y</td>\n",
       "      <td>?</td>\n",
       "      <td>y</td>\n",
       "      <td>y</td>\n",
       "      <td>n</td>\n",
       "      <td>n</td>\n",
       "      <td>n</td>\n",
       "      <td>n</td>\n",
       "      <td>y</td>\n",
       "      <td>n</td>\n",
       "      <td>y</td>\n",
       "      <td>y</td>\n",
       "      <td>n</td>\n",
       "      <td>n</td>\n",
       "    </tr>\n",
       "    <tr>\n",
       "      <th>3</th>\n",
       "      <td>democrat</td>\n",
       "      <td>n</td>\n",
       "      <td>y</td>\n",
       "      <td>y</td>\n",
       "      <td>n</td>\n",
       "      <td>?</td>\n",
       "      <td>y</td>\n",
       "      <td>n</td>\n",
       "      <td>n</td>\n",
       "      <td>n</td>\n",
       "      <td>n</td>\n",
       "      <td>y</td>\n",
       "      <td>n</td>\n",
       "      <td>y</td>\n",
       "      <td>n</td>\n",
       "      <td>n</td>\n",
       "      <td>y</td>\n",
       "    </tr>\n",
       "    <tr>\n",
       "      <th>4</th>\n",
       "      <td>democrat</td>\n",
       "      <td>y</td>\n",
       "      <td>y</td>\n",
       "      <td>y</td>\n",
       "      <td>n</td>\n",
       "      <td>y</td>\n",
       "      <td>y</td>\n",
       "      <td>n</td>\n",
       "      <td>n</td>\n",
       "      <td>n</td>\n",
       "      <td>n</td>\n",
       "      <td>y</td>\n",
       "      <td>?</td>\n",
       "      <td>y</td>\n",
       "      <td>y</td>\n",
       "      <td>y</td>\n",
       "      <td>y</td>\n",
       "    </tr>\n",
       "  </tbody>\n",
       "</table>\n",
       "</div>"
      ],
      "text/plain": [
       "        party vote1 vote2 vote3 vote4 vote5 vote6 vote7 vote8 vote9 vote10  \\\n",
       "0  republican     n     y     n     y     y     y     n     n     n      y   \n",
       "1  republican     n     y     n     y     y     y     n     n     n      n   \n",
       "2    democrat     ?     y     y     ?     y     y     n     n     n      n   \n",
       "3    democrat     n     y     y     n     ?     y     n     n     n      n   \n",
       "4    democrat     y     y     y     n     y     y     n     n     n      n   \n",
       "\n",
       "  vote11 vote12 vote13 vote14 vote15 vote16  \n",
       "0      ?      y      y      y      n      y  \n",
       "1      n      y      y      y      n      ?  \n",
       "2      y      n      y      y      n      n  \n",
       "3      y      n      y      n      n      y  \n",
       "4      y      ?      y      y      y      y  "
      ]
     },
     "execution_count": 3,
     "metadata": {},
     "output_type": "execute_result"
    }
   ],
   "source": [
    "df.head()"
   ]
  },
  {
   "cell_type": "code",
   "execution_count": 4,
   "metadata": {
    "collapsed": false
   },
   "outputs": [],
   "source": [
    "df = df.replace('n',0)\n",
    "df = df.replace('y',1)\n",
    "df = df.replace('?',np.nan)"
   ]
  },
  {
   "cell_type": "code",
   "execution_count": 5,
   "metadata": {
    "collapsed": false
   },
   "outputs": [],
   "source": [
    "df = df.fillna(df.mean())"
   ]
  },
  {
   "cell_type": "code",
   "execution_count": 6,
   "metadata": {
    "collapsed": false
   },
   "outputs": [
    {
     "data": {
      "text/html": [
       "<div>\n",
       "<table border=\"1\" class=\"dataframe\">\n",
       "  <thead>\n",
       "    <tr style=\"text-align: right;\">\n",
       "      <th></th>\n",
       "      <th>party</th>\n",
       "      <th>vote1</th>\n",
       "      <th>vote2</th>\n",
       "      <th>vote3</th>\n",
       "      <th>vote4</th>\n",
       "      <th>vote5</th>\n",
       "      <th>vote6</th>\n",
       "      <th>vote7</th>\n",
       "      <th>vote8</th>\n",
       "      <th>vote9</th>\n",
       "      <th>vote10</th>\n",
       "      <th>vote11</th>\n",
       "      <th>vote12</th>\n",
       "      <th>vote13</th>\n",
       "      <th>vote14</th>\n",
       "      <th>vote15</th>\n",
       "      <th>vote16</th>\n",
       "    </tr>\n",
       "  </thead>\n",
       "  <tbody>\n",
       "    <tr>\n",
       "      <th>0</th>\n",
       "      <td>republican</td>\n",
       "      <td>0.00000</td>\n",
       "      <td>1.0</td>\n",
       "      <td>0.0</td>\n",
       "      <td>1.000000</td>\n",
       "      <td>1.000000</td>\n",
       "      <td>1.0</td>\n",
       "      <td>0.0</td>\n",
       "      <td>0.0</td>\n",
       "      <td>0.0</td>\n",
       "      <td>1.0</td>\n",
       "      <td>0.362319</td>\n",
       "      <td>1.000000</td>\n",
       "      <td>1.0</td>\n",
       "      <td>1.0</td>\n",
       "      <td>0.0</td>\n",
       "      <td>1.000000</td>\n",
       "    </tr>\n",
       "    <tr>\n",
       "      <th>1</th>\n",
       "      <td>republican</td>\n",
       "      <td>0.00000</td>\n",
       "      <td>1.0</td>\n",
       "      <td>0.0</td>\n",
       "      <td>1.000000</td>\n",
       "      <td>1.000000</td>\n",
       "      <td>1.0</td>\n",
       "      <td>0.0</td>\n",
       "      <td>0.0</td>\n",
       "      <td>0.0</td>\n",
       "      <td>0.0</td>\n",
       "      <td>0.000000</td>\n",
       "      <td>1.000000</td>\n",
       "      <td>1.0</td>\n",
       "      <td>1.0</td>\n",
       "      <td>0.0</td>\n",
       "      <td>0.812689</td>\n",
       "    </tr>\n",
       "    <tr>\n",
       "      <th>2</th>\n",
       "      <td>democrat</td>\n",
       "      <td>0.44208</td>\n",
       "      <td>1.0</td>\n",
       "      <td>1.0</td>\n",
       "      <td>0.417453</td>\n",
       "      <td>1.000000</td>\n",
       "      <td>1.0</td>\n",
       "      <td>0.0</td>\n",
       "      <td>0.0</td>\n",
       "      <td>0.0</td>\n",
       "      <td>0.0</td>\n",
       "      <td>1.000000</td>\n",
       "      <td>0.000000</td>\n",
       "      <td>1.0</td>\n",
       "      <td>1.0</td>\n",
       "      <td>0.0</td>\n",
       "      <td>0.000000</td>\n",
       "    </tr>\n",
       "    <tr>\n",
       "      <th>3</th>\n",
       "      <td>democrat</td>\n",
       "      <td>0.00000</td>\n",
       "      <td>1.0</td>\n",
       "      <td>1.0</td>\n",
       "      <td>0.000000</td>\n",
       "      <td>0.504762</td>\n",
       "      <td>1.0</td>\n",
       "      <td>0.0</td>\n",
       "      <td>0.0</td>\n",
       "      <td>0.0</td>\n",
       "      <td>0.0</td>\n",
       "      <td>1.000000</td>\n",
       "      <td>0.000000</td>\n",
       "      <td>1.0</td>\n",
       "      <td>0.0</td>\n",
       "      <td>0.0</td>\n",
       "      <td>1.000000</td>\n",
       "    </tr>\n",
       "    <tr>\n",
       "      <th>4</th>\n",
       "      <td>democrat</td>\n",
       "      <td>1.00000</td>\n",
       "      <td>1.0</td>\n",
       "      <td>1.0</td>\n",
       "      <td>0.000000</td>\n",
       "      <td>1.000000</td>\n",
       "      <td>1.0</td>\n",
       "      <td>0.0</td>\n",
       "      <td>0.0</td>\n",
       "      <td>0.0</td>\n",
       "      <td>0.0</td>\n",
       "      <td>1.000000</td>\n",
       "      <td>0.423267</td>\n",
       "      <td>1.0</td>\n",
       "      <td>1.0</td>\n",
       "      <td>1.0</td>\n",
       "      <td>1.000000</td>\n",
       "    </tr>\n",
       "  </tbody>\n",
       "</table>\n",
       "</div>"
      ],
      "text/plain": [
       "        party    vote1  vote2  vote3     vote4     vote5  vote6  vote7  vote8  \\\n",
       "0  republican  0.00000    1.0    0.0  1.000000  1.000000    1.0    0.0    0.0   \n",
       "1  republican  0.00000    1.0    0.0  1.000000  1.000000    1.0    0.0    0.0   \n",
       "2    democrat  0.44208    1.0    1.0  0.417453  1.000000    1.0    0.0    0.0   \n",
       "3    democrat  0.00000    1.0    1.0  0.000000  0.504762    1.0    0.0    0.0   \n",
       "4    democrat  1.00000    1.0    1.0  0.000000  1.000000    1.0    0.0    0.0   \n",
       "\n",
       "   vote9  vote10    vote11    vote12  vote13  vote14  vote15    vote16  \n",
       "0    0.0     1.0  0.362319  1.000000     1.0     1.0     0.0  1.000000  \n",
       "1    0.0     0.0  0.000000  1.000000     1.0     1.0     0.0  0.812689  \n",
       "2    0.0     0.0  1.000000  0.000000     1.0     1.0     0.0  0.000000  \n",
       "3    0.0     0.0  1.000000  0.000000     1.0     0.0     0.0  1.000000  \n",
       "4    0.0     0.0  1.000000  0.423267     1.0     1.0     1.0  1.000000  "
      ]
     },
     "execution_count": 6,
     "metadata": {},
     "output_type": "execute_result"
    }
   ],
   "source": [
    "df.head()"
   ]
  },
  {
   "cell_type": "markdown",
   "metadata": {},
   "source": [
    "#### Challenge 2 `[Modeling]`\n",
    "Split the data into a test and training set. Use this\n",
    "function:\n",
    "\n",
    "    from sklearn.cross_validation import train_test_split"
   ]
  },
  {
   "cell_type": "code",
   "execution_count": 7,
   "metadata": {
    "collapsed": true
   },
   "outputs": [],
   "source": [
    "from sklearn.cross_validation import train_test_split"
   ]
  },
  {
   "cell_type": "code",
   "execution_count": 8,
   "metadata": {
    "collapsed": false
   },
   "outputs": [
    {
     "name": "stdout",
     "output_type": "stream",
     "text": [
      "304\n",
      "131\n"
     ]
    }
   ],
   "source": [
    "train, test = train_test_split(df, test_size = .3)\n",
    "print len(train)\n",
    "print len(test)"
   ]
  },
  {
   "cell_type": "markdown",
   "metadata": {},
   "source": [
    "#### Challenge 3 `[Modeling]`\n",
    "Using scikit.learn's KNN algorithm, train a model that predicts the\n",
    "party (republican/democrat):\n",
    "\n",
    "    from sklearn.neighbors import KNeighborsClassifier\n",
    "\n",
    "Read the [documentation](http://scikit-learn.org/stable/modules/generated/sklearn.neighbors.KNeighborsClassifier.html). \n",
    "Get your X (columns of features) and Y (target column) vectors ready for fitting and evaluating. \n",
    "Initiate the model with `knn_model = KNeighborsClassifier(n_neighbors=1)` (for a k=1 KNN). \n",
    "Call `.fit(X, Y)` on the `knn_model` with the X and Y from the training set.\n",
    "\n",
    "Try it with a lot of different k values (number of neighbors), from 1\n",
    "to 20, and on the test set calculate the accuracy (number of correct\n",
    "predictions / number of all predictions) for each k\n",
    "\n",
    "You can use this to calculate accuracy:\n",
    "\n",
    "    from sklearn.metrics import accuracy_score\n",
    "\n",
    "Which k value gives the highest accuracy?"
   ]
  },
  {
   "cell_type": "code",
   "execution_count": 10,
   "metadata": {
    "collapsed": false
   },
   "outputs": [],
   "source": [
    "from sklearn.neighbors import KNeighborsClassifier\n",
    "\n",
    "Y_train = train['party']\n",
    "Y_test = test['party']\n",
    "X_train = train.drop(['party'], axis = 1)\n",
    "X_test = test.drop(['party'], axis = 1)"
   ]
  },
  {
   "cell_type": "code",
   "execution_count": 11,
   "metadata": {
    "collapsed": false
   },
   "outputs": [],
   "source": [
    "knn = KNeighborsClassifier(n_neighbors=1)"
   ]
  },
  {
   "cell_type": "code",
   "execution_count": 12,
   "metadata": {
    "collapsed": false
   },
   "outputs": [
    {
     "name": "stdout",
     "output_type": "stream",
     "text": [
      "[ 0.83870968  1.          0.93548387  0.90322581  1.          0.93333333\n",
      "  0.93333333  0.9         0.96666667  0.93333333]\n"
     ]
    }
   ],
   "source": [
    "###TEST CV\n",
    "from sklearn.cross_validation import cross_val_score\n",
    "\n",
    "test = cross_val_score(knn, X_train, Y_train, cv=10)\n",
    "print test"
   ]
  },
  {
   "cell_type": "code",
   "execution_count": 13,
   "metadata": {
    "collapsed": false
   },
   "outputs": [
    {
     "data": {
      "text/plain": [
       "KNeighborsClassifier(algorithm='auto', leaf_size=30, metric='minkowski',\n",
       "           metric_params=None, n_jobs=1, n_neighbors=1, p=2,\n",
       "           weights='uniform')"
      ]
     },
     "execution_count": 13,
     "metadata": {},
     "output_type": "execute_result"
    }
   ],
   "source": [
    "knn.fit(X_train,Y_train)"
   ]
  },
  {
   "cell_type": "code",
   "execution_count": 14,
   "metadata": {
    "collapsed": false
   },
   "outputs": [
    {
     "name": "stdout",
     "output_type": "stream",
     "text": [
      "['democrat' 'democrat' 'republican' 'democrat' 'republican']\n"
     ]
    }
   ],
   "source": [
    "Y_pred = knn.predict(X_test)\n",
    "print Y_pred[0:5]"
   ]
  },
  {
   "cell_type": "code",
   "execution_count": 15,
   "metadata": {
    "collapsed": false
   },
   "outputs": [
    {
     "data": {
      "text/plain": [
       "0.93129770992366412"
      ]
     },
     "execution_count": 15,
     "metadata": {},
     "output_type": "execute_result"
    }
   ],
   "source": [
    "from sklearn.metrics import accuracy_score\n",
    "\n",
    "accuracy_score(Y_test,Y_pred)"
   ]
  },
  {
   "cell_type": "code",
   "execution_count": 16,
   "metadata": {
    "collapsed": false
   },
   "outputs": [
    {
     "name": "stdout",
     "output_type": "stream",
     "text": [
      "1 0.923664122137\n",
      "2 0.931297709924\n",
      "3 0.946564885496\n",
      "4 0.93893129771\n",
      "5 0.946564885496\n",
      "6 0.93893129771\n",
      "7 0.923664122137\n",
      "8 0.923664122137\n",
      "9 0.923664122137\n",
      "10 0.923664122137\n",
      "11 0.923664122137\n",
      "12 0.923664122137\n",
      "13 0.923664122137\n",
      "14 0.923664122137\n",
      "15 0.923664122137\n",
      "16 0.923664122137\n",
      "17 0.923664122137\n",
      "18 0.923664122137\n",
      "19 0.923664122137\n",
      "20 0.923664122137\n"
     ]
    }
   ],
   "source": [
    "knn_list = range(1,21)\n",
    "def knn_accuracy(data, num_neigh, Y_col):\n",
    "    from sklearn.cross_validation import train_test_split\n",
    "    from sklearn.neighbors import KNeighborsClassifier\n",
    "    from sklearn.metrics import accuracy_score\n",
    "    Y = data[Y_col]\n",
    "    X = data.drop([Y_col], axis=1)\n",
    "    X_train, X_test, Y_train, Y_test = train_test_split(X, Y, test_size = .3, random_state = 42)\n",
    "    knn = KNeighborsClassifier(n_neighbors=num_neigh)\n",
    "    knn.fit(X_train,Y_train)\n",
    "    Y_pred = knn.predict(X_test)\n",
    "    return accuracy_score(Y_test, Y_pred)\n",
    "\n",
    "for num in knn_list:\n",
    "    print num, knn_accuracy(df, num, 'party')"
   ]
  },
  {
   "cell_type": "markdown",
   "metadata": {},
   "source": [
    "#### Challenge 4 `[Modeling]`\n",
    "Make a similar model but with scikit.learn's `LogisticRegression` instead. Calculate\n",
    "test accuracy. Google the documentation. The fit / predict interface is the same for all models in scikit.learn"
   ]
  },
  {
   "cell_type": "code",
   "execution_count": 17,
   "metadata": {
    "collapsed": false
   },
   "outputs": [
    {
     "name": "stdout",
     "output_type": "stream",
     "text": [
      "0.969465648855\n"
     ]
    }
   ],
   "source": [
    "def logreg_accuracy(data, Y_col):\n",
    "    from sklearn.cross_validation import train_test_split\n",
    "    from sklearn.linear_model import LogisticRegression\n",
    "    from sklearn.metrics import accuracy_score\n",
    "    Y = data[Y_col]\n",
    "    X = data.drop([Y_col], axis=1)\n",
    "    X_train, X_test, Y_train, Y_test = train_test_split(X, Y, test_size = .3, random_state = 42)\n",
    "    logreg = LogisticRegression()\n",
    "    logreg.fit(X_train,Y_train)\n",
    "    Y_pred = logreg.predict(X_test)\n",
    "    return accuracy_score(Y_test, Y_pred)\n",
    "\n",
    "print logreg_accuracy(df, 'party')"
   ]
  },
  {
   "cell_type": "markdown",
   "metadata": {},
   "source": [
    "#### Challenge 5 `[Python]`\n",
    "Make a bar graph of democrats and republicans. How many of each are\n",
    "there?\n",
    "\n",
    "Make a very simple predictor that predicts 'democrat' for every\n",
    "incoming example.   \n",
    "(Just make a function that takes in an `X`  --an array or matrix with\n",
    "input examples--, and returns an array of the same length as `X`, where\n",
    "each value is 'democrat'. For example, if `X` is three rows, your\n",
    "function should return `['democrat','democrat','democrat']`) Make a\n",
    "`y_predicted` vector using this and measure its accuracy.\n",
    "\n",
    "Do the same with predicting 'republican' all the time and measure its\n",
    "accuracy."
   ]
  },
  {
   "cell_type": "code",
   "execution_count": 18,
   "metadata": {
    "collapsed": true
   },
   "outputs": [],
   "source": [
    "import matplotlib.pyplot as plt\n",
    "%matplotlib inline"
   ]
  },
  {
   "cell_type": "code",
   "execution_count": 19,
   "metadata": {
    "collapsed": false
   },
   "outputs": [
    {
     "data": {
      "text/plain": [
       "<matplotlib.axes._subplots.AxesSubplot at 0xc009d30>"
      ]
     },
     "execution_count": 19,
     "metadata": {},
     "output_type": "execute_result"
    },
    {
     "data": {
      "image/png": "[encoded data removed]",
      "text/plain": [
       "<matplotlib.figure.Figure at 0xc0095f8>"
      ]
     },
     "metadata": {},
     "output_type": "display_data"
    }
   ],
   "source": [
    "plt.figure()\n",
    "df.groupby('party').size().plot(kind='bar')"
   ]
  },
  {
   "cell_type": "code",
   "execution_count": 25,
   "metadata": {
    "collapsed": true
   },
   "outputs": [],
   "source": [
    "def dem_pred(x):\n",
    "    return ['democrat']*len(x)"
   ]
  },
  {
   "cell_type": "code",
   "execution_count": 26,
   "metadata": {
    "collapsed": false
   },
   "outputs": [
    {
     "name": "stdout",
     "output_type": "stream",
     "text": [
      "0.587786259542\n"
     ]
    }
   ],
   "source": [
    "Y_pred = dem_pred(X_test)\n",
    "print accuracy_score(Y_test, Y_pred)"
   ]
  },
  {
   "cell_type": "markdown",
   "metadata": {},
   "source": [
    "#### Challenge 6 `[Visualization]`\n",
    "Plot the accuracies of each predictor as a function of k. Since k only matters for KNN,\n",
    "your logistic regression accuracy, 'democrat' predictor accuracy and\n",
    "'republican' predictor accuracy will stay the same over all k, so each\n",
    "of these three will be a horizontal line. But the KNN accuracy will\n",
    "change with k."
   ]
  },
  {
   "cell_type": "code",
   "execution_count": 27,
   "metadata": {
    "collapsed": false,
    "scrolled": false
   },
   "outputs": [
    {
     "name": "stdout",
     "output_type": "stream",
     "text": [
      "[1, 2, 3, 4, 5, 6, 7, 8, 9, 10, 11, 12, 13, 14, 15, 16, 17, 18, 19, 20]\n",
      "[0.92366412213740456, 0.93129770992366412, 0.94656488549618323, 0.93893129770992367, 0.94656488549618323, 0.93893129770992367, 0.92366412213740456, 0.92366412213740456, 0.92366412213740456, 0.92366412213740456, 0.92366412213740456, 0.92366412213740456, 0.92366412213740456, 0.92366412213740456, 0.92366412213740456, 0.92366412213740456, 0.92366412213740456, 0.92366412213740456, 0.92366412213740456, 0.92366412213740456]\n"
     ]
    },
    {
     "data": {
      "text/plain": [
       "[<matplotlib.lines.Line2D at 0xc357f98>,\n",
       " <matplotlib.lines.Line2D at 0xc3bc198>,\n",
       " <matplotlib.lines.Line2D at 0xc3bc780>]"
      ]
     },
     "execution_count": 27,
     "metadata": {},
     "output_type": "execute_result"
    },
    {
     "data": {
      "image/png": "[encoded data removed]",
      "text/plain": [
       "<matplotlib.figure.Figure at 0xc0f7ba8>"
      ]
     },
     "metadata": {},
     "output_type": "display_data"
    }
   ],
   "source": [
    "n = range(1,21)\n",
    "knn_acc = []\n",
    "for num in knn_list:\n",
    "    knn_acc.append(knn_accuracy(df, num, 'party'))\n",
    "    \n",
    "log_acc = logreg_accuracy(df, 'party')\n",
    "\n",
    "Y_pred = dem_pred(X_test)\n",
    "dem_acc = accuracy_score(Y_test, Y_pred)\n",
    "\n",
    "print n\n",
    "print knn_acc\n",
    "\n",
    "plt.plot(n, knn_acc, n, [log_acc]*20, n, [dem_acc]*20)"
   ]
  },
  {
   "cell_type": "markdown",
   "metadata": {},
   "source": [
    "#### Challenge 7 `[Modeling]`\n",
    "When you found the k value with highest test accuracy in Challenge 3, you used a single test set. \n",
    "Use scikit.learn's cross-validation tools to get a range of accuracies for each k. \n",
    "Using the average cross validation accuracy, does the best k change? \n",
    "Can you imagine cases where it might and might not change?"
   ]
  },
  {
   "cell_type": "code",
   "execution_count": null,
   "metadata": {
    "collapsed": true
   },
   "outputs": [],
   "source": [
    "knn_list = range(1,21)\n",
    "def knn_accuracy(data, num_neigh, Y_col):\n",
    "    from sklearn.cross_validation import train_test_split\n",
    "    from sklearn.neighbors import KNeighborsClassifier\n",
    "    from sklearn.metrics import accuracy_score\n",
    "    Y = data[Y_col]\n",
    "    X = data.drop([Y_col], axis=1)\n",
    "    X_train, X_test, Y_train, Y_test = train_test_split(X, Y, test_size = .3, random_state = 42)\n",
    "    knn = KNeighborsClassifier(n_neighbors=num_neigh)\n",
    "    knn.fit(X_train,Y_train)\n",
    "    Y_pred = knn.predict(X_test)\n",
    "    return accuracy_score(Y_test, Y_pred)\n",
    "\n",
    "for num in knn_list:\n",
    "    print num, knn_accuracy(df, num, 'party')"
   ]
  },
  {
   "cell_type": "code",
   "execution_count": 40,
   "metadata": {
    "collapsed": false,
    "scrolled": true
   },
   "outputs": [
    {
     "name": "stdout",
     "output_type": "stream",
     "text": [
      " 1 cross 0.933333333333 standard 0.923664122137\n",
      "2 cross 0.942528735632 standard 0.931297709924\n",
      "3 cross 0.933333333333 standard 0.946564885496\n",
      "4 cross 0.942528735632 standard 0.93893129771\n",
      "5 cross 0.933333333333 standard 0.946564885496\n",
      "6 cross 0.933333333333 standard 0.93893129771\n",
      "7 cross 0.928735632184 standard 0.923664122137\n",
      "8 cross 0.931034482759 standard 0.923664122137\n",
      "9 cross 0.924137931034 standard 0.923664122137\n",
      "10 cross 0.928735632184 standard 0.923664122137\n",
      "11 cross 0.928735632184 standard 0.923664122137\n",
      "12 cross 0.924137931034 standard 0.923664122137\n",
      "13 cross 0.924137931034 standard 0.923664122137\n",
      "14 cross 0.92183908046 standard 0.923664122137\n",
      "15 cross 0.924137931034 standard 0.923664122137\n",
      "16 cross 0.926436781609 standard 0.923664122137\n",
      "17 cross 0.924137931034 standard 0.923664122137\n",
      "18 cross 0.926436781609 standard 0.923664122137\n",
      "19 cross 0.92183908046 standard 0.923664122137\n",
      "20 cross 0.92183908046 standard 0.923664122137\n",
      "21 cross 0.919540229885 standard 0.931297709924\n",
      "22 cross 0.919540229885 standard 0.923664122137\n",
      "23 cross 0.91724137931 standard 0.916030534351\n",
      "24 cross 0.919540229885 standard 0.916030534351\n",
      "25 cross 0.91724137931 standard 0.908396946565\n",
      "26 cross 0.919540229885 standard 0.900763358779\n",
      "27 cross 0.914942528736 standard 0.900763358779\n",
      "28 cross 0.914942528736 standard 0.900763358779\n",
      "29 cross 0.908045977011 standard 0.908396946565\n",
      "30 cross 0.908045977011 standard 0.900763358779\n",
      "31 cross 0.912643678161 standard 0.908396946565\n",
      "32 cross 0.908045977011 standard 0.908396946565\n",
      "33 cross 0.903448275862 standard 0.900763358779\n",
      "34 cross 0.908045977011 standard 0.908396946565\n",
      "35 cross 0.905747126437 standard 0.900763358779\n",
      "36 cross 0.908045977011 standard 0.900763358779\n",
      "37 cross 0.905747126437 standard 0.900763358779\n",
      "38 cross 0.908045977011 standard 0.900763358779\n",
      "39 cross 0.910344827586 standard 0.893129770992\n",
      "40 cross 0.910344827586 standard 0.893129770992\n",
      "41 cross 0.910344827586 standard 0.893129770992\n",
      "42 cross 0.908045977011 standard 0.908396946565\n",
      "43 cross 0.908045977011 standard 0.900763358779\n",
      "44 cross 0.908045977011 standard 0.900763358779\n",
      "45 cross 0.908045977011 standard 0.893129770992\n",
      "46 cross 0.905747126437 standard 0.900763358779\n",
      "47 cross 0.905747126437 standard 0.900763358779\n",
      "48 cross 0.908045977011 standard 0.908396946565\n",
      "49 cross 0.908045977011 standard 0.900763358779\n"
     ]
    }
   ],
   "source": [
    "knn_list = range(1,50)\n",
    "def knn_cross_acc(data, num_neigh, Y_col):\n",
    "    from sklearn.cross_validation import cross_val_predict\n",
    "    from sklearn.neighbors import KNeighborsClassifier\n",
    "    from sklearn.metrics import accuracy_score\n",
    "    Y = data[Y_col]\n",
    "    X = data.drop([Y_col], axis=1)\n",
    "    knn = KNeighborsClassifier(n_neighbors=num_neigh)\n",
    "    Y_pred = cross_val_predict(knn,X,Y,cv=5)\n",
    "    return accuracy_score(Y, Y_pred)\n",
    "\n",
    "for num in knn_list:\n",
    "    print num, 'cross', knn_cross_acc(df, num, 'party'), 'standard', knn_accuracy(df, num, 'party')"
   ]
  },
  {
   "cell_type": "markdown",
   "metadata": {},
   "source": [
    "#### Challenge 8 `[Visualization]`\n",
    "Like in Challenge 6, make a graph of  accuracies for each k value. \n",
    "This time, put error bars in your graph, using your results from Challenge 7.\n",
    "Use the standard deviation of the cross validation accuracy values for each k as its error bar height (for the KNN predictor)."
   ]
  },
  {
   "cell_type": "code",
   "execution_count": null,
   "metadata": {
    "collapsed": true
   },
   "outputs": [],
   "source": []
  },
  {
   "cell_type": "markdown",
   "metadata": {},
   "source": [
    "#### Challenge 9 `[Modeling]`\n",
    "Calculate the accuracy, precision, recall and f1 scores on the test set for each classifier you built (including the trivial ones).\n",
    "(Use only one KNN with the best k, no need to do this for all k values)."
   ]
  },
  {
   "cell_type": "code",
   "execution_count": 59,
   "metadata": {
    "collapsed": false
   },
   "outputs": [
    {
     "name": "stdout",
     "output_type": "stream",
     "text": [
      "KNN\n",
      "(array([ 0.93258427,  0.95238095]), array([ 0.97647059,  0.86956522]), array([ 0.95402299,  0.90909091]), array([85, 46], dtype=int64))\n",
      "Logistic Regression\n",
      "(array([ 0.97647059,  0.95652174]), array([ 0.97647059,  0.95652174]), array([ 0.97647059,  0.95652174]), array([85, 46], dtype=int64))\n",
      "All Dems\n",
      "(array([ 0.64885496,  0.        ]), array([ 1.,  0.]), array([ 0.78703704,  0.        ]), array([85, 46], dtype=int64))\n"
     ]
    }
   ],
   "source": [
    "def knnLogDem_preds(data, Y_col, num_neigh=4):\n",
    "    from sklearn.cross_validation import train_test_split\n",
    "    from sklearn.neighbors import KNeighborsClassifier\n",
    "    from sklearn.linear_model import LogisticRegression\n",
    "    from sklearn.metrics import precision_recall_fscore_support\n",
    "    Y = data[Y_col]\n",
    "    X = data.drop([Y_col], axis=1)\n",
    "    X_train, X_test, Y_train, Y_test = train_test_split(X, Y, test_size = .3, random_state = 42)\n",
    "    knn = KNeighborsClassifier(n_neighbors=num_neigh)\n",
    "    knn.fit(X_train,Y_train)\n",
    "    Y_pred_knn = knn.predict(X_test)\n",
    "    logreg = LogisticRegression()\n",
    "    logreg.fit(X_train, Y_train)\n",
    "    Y_pred_logreg = logreg.predict(X_test)\n",
    "    Y_pred_dem = dem_pred(X_test)\n",
    "    print 'KNN'\n",
    "    print precision_recall_fscore_support(Y_test, Y_pred_knn)\n",
    "    print 'Logistic Regression'\n",
    "    print precision_recall_fscore_support(Y_test, Y_pred_logreg)\n",
    "    print 'All Dems'\n",
    "    print precision_recall_fscore_support(Y_test, Y_pred_dem)\n",
    "    \n",
    "knnLogDem_preds(df, 'party')"
   ]
  },
  {
   "cell_type": "markdown",
   "metadata": {},
   "source": [
    "#### Challenge 10 `[Modeling]`\n",
    "Calculate the same metrics as in Challenge 9, but use cross validation instead of that test set."
   ]
  },
  {
   "cell_type": "code",
   "execution_count": 88,
   "metadata": {
    "collapsed": false,
    "scrolled": false
   },
   "outputs": [
    {
     "name": "stdout",
     "output_type": "stream",
     "text": [
      "KNN \n",
      "[ 0.96296296  0.94339623  0.95412844  0.99047619  0.91428571]\n",
      "Logistic Regression \n",
      "[ 0.98148148  0.97196262  0.97247706  0.98113208  0.92156863]\n"
     ]
    }
   ],
   "source": [
    "def knnLog_cv_score(data, Y_col, num_neigh=4, folds=5):\n",
    "    from sklearn.cross_validation import cross_val_score\n",
    "    from sklearn.neighbors import KNeighborsClassifier\n",
    "    from sklearn.linear_model import LogisticRegression\n",
    "    from sklearn.metrics import make_scorer, f1_score\n",
    "    Y = data[Y_col]\n",
    "    X = data.drop([Y_col], axis=1)\n",
    "    knn = KNeighborsClassifier(n_neighbors=num_neigh)\n",
    "    logreg = LogisticRegression()\n",
    "    print 'KNN '\n",
    "    print cross_val_score(knn,X,Y, cv=folds, scoring=make_scorer(f1_score, pos_label='democrat'))\n",
    "    print 'Logistic Regression '\n",
    "    print cross_val_score(logreg,X,Y, cv=folds, scoring=make_scorer(f1_score, pos_label='democrat'))\n",
    "    \n",
    "knnLog_cv_score(df, 'party')"
   ]
  },
  {
   "cell_type": "markdown",
   "metadata": {},
   "source": [
    "#### Challenge 11a `[Python]`\n",
    "A Portuguese bank is having a telemrketing campaign. They try to get their clients to subscribe to a term deposit product. Often more than one call to the same client is required. They have been recording their success or failure with each client, along with all the data they have on that client. To cut costs, the bank wants to predict who is likely to subscribe, so they can call those clients and not waste time and money calling people that likely won't subscribe anyway. To that end, [here are their records so far](https://github.com/thisismetis/capitalone-pilottwo/blob/master/project_2/data/bank/bank.csv). You can learn more about each column [here](https://github.com/thisismetis/capitalone-pilottwo/blob/master/project_2/data/bank/bank-description.md).\n",
    "\n",
    "Build a  classifier with all the numeric features. Calculate the accuracy, precision, and recall for identifying the subscribers."
   ]
  },
  {
   "cell_type": "code",
   "execution_count": null,
   "metadata": {
    "collapsed": true
   },
   "outputs": [],
   "source": []
  },
  {
   "cell_type": "markdown",
   "metadata": {},
   "source": [
    "#### Challenge 11b `[Modeling]`\n",
    "Is this a good predictor? Which features are contributing the most? Check if any single feature that you included in your model might be driving the classifier. If so, why? Can you use this model successfully? Can you use a model with just that column? Is something wrong? (Hint: You should not use one of the columns, but it is not obvious at initial look. Find out which one and why that might be)"
   ]
  },
  {
   "cell_type": "code",
   "execution_count": null,
   "metadata": {
    "collapsed": true
   },
   "outputs": [],
   "source": []
  },
  {
   "cell_type": "markdown",
   "metadata": {},
   "source": [
    "_The rest is completely optional specialization challenges. Select the ones you're excited about, or explore other things you got curious about through the first 11-ish challenges._\n",
    "\n",
    "\n",
    "\n",
    "-----\n",
    "\n",
    "\n",
    "\n",
    "#### Extra `[Python]` & `[Modeling]` Challenge A\n",
    "\n",
    "Instead of 'democrat' or 'republican', can you predict the vote of a\n",
    "representative based on their other votes?\n",
    "\n",
    "Reload the data from scratch. Convert y-->1, n-->0.\n",
    "\n",
    "Choose one vote. Build a classifier (logistic regression or KNN), that\n",
    "uses the other votes (do not use the party as a feature) to predict if\n",
    "the vote will be 1 or 0.\n",
    "\n",
    "Convert each ? to the mode of the column (if a senator has not voted,\n",
    "make their vote 1 if most others voted 1, make it 0 if most others\n",
    "voted 0).\n",
    "\n",
    "Calculate the cross validation accuracy of your classifier for\n",
    "predicting how each representative will vote on the issue."
   ]
  },
  {
   "cell_type": "code",
   "execution_count": null,
   "metadata": {
    "collapsed": true
   },
   "outputs": [],
   "source": []
  },
  {
   "cell_type": "markdown",
   "metadata": {},
   "source": [
    "#### Extra `[Modeling]` Challenge B\n",
    "\n",
    "Back to your movie data! Choose one categoric feature to predict. \n",
    "We mention MPAA Rating in the slides, but genre, month, etc. are all decent choices. If\n",
    "you don't have any non-numeric features, you can make two bins out of\n",
    "a numeric one (like \"Runtime>100 mins\" and \"Runtime<=100 mins\")\n",
    "\n",
    "Make a bar graph of how many of each movie there is in the data. For\n",
    "example, with Ratings, show how many G, PG, PG-13, R movies there are,\n",
    "etc. (basically a histogram of your labels).\n",
    "\n",
    "Predict your outcome variable (target/labels) using KNN and logistic\n",
    "regression. Calculate their accuracies.\n",
    "\n",
    "Make a baseline stupid predictor that always predicts the label that\n",
    "is present the most in the data. Calculate its accuracy on a test set.\n",
    "\n",
    "How much better do KNN and logistic regression do versus the baseline?\n",
    "\n",
    "What are the coefficients of logistic regression? Which features\n",
    "affect the outcome how?"
   ]
  },
  {
   "cell_type": "code",
   "execution_count": null,
   "metadata": {
    "collapsed": true
   },
   "outputs": [],
   "source": []
  },
  {
   "cell_type": "markdown",
   "metadata": {},
   "source": [
    "#### Extra`[Modeling]` Challenge C\n",
    "\n",
    "This is a preview of many other classification algorithms. Scikit.learn has the same interface for all of these, so you\n",
    "can use them exactly the same way as you did `LogisticRegression` and\n",
    "`KNeighborsClassifier`. Use each of these to classify your data and\n",
    "print the test accuracy of each:\n",
    "\n",
    "Gaussian Naive Bayes\n",
    "\n",
    "    from sklearn.naive_bayes import GaussianNB\n",
    "\n",
    "\n",
    "SVM (Support Vector Machine) Classifier\n",
    "\n",
    "    from sklearn.svm import SVC\n",
    "\n",
    "\n",
    "Decision Tree\n",
    "\n",
    "    from sklearn.tree import DecisionTreeClassifier\n",
    "\n",
    "\n",
    "Random Forest\n",
    "\n",
    "    from sklearn.ensemble import RandomForestClassifier"
   ]
  },
  {
   "cell_type": "code",
   "execution_count": null,
   "metadata": {
    "collapsed": true
   },
   "outputs": [],
   "source": []
  },
  {
   "cell_type": "markdown",
   "metadata": {},
   "source": [
    "#### Extra `[Python]` Challenge D\n",
    "\n",
    "The representative votes dataset\n",
    "only had 0s and 1s. Let's just swiftly tackle the breast cancer\n",
    "surgery data we talked about in class.\n",
    "\n",
    "The data is [in the repository](haberman.csv). You can learn more about it [here](https://archive.ics.uci.edu/ml/datasets/Haberman%27s+Survival).\n",
    "\n",
    "- What is the average and standard deviation of the age of all of the\n",
    "patients?\n",
    "- What is the average and standard deviation of the age of those\n",
    "patients that survived 5 or more years after surgery?\n",
    "- What is the average and standard deviation of the age of those\n",
    "patients who survived fewer than 5 years after surgery?\n",
    "- Plot a histogram of the ages side by side with a histogram of the\n",
    "number of axillary nodes.\n",
    "- What is the earliest year of surgery in this dataset?\n",
    "- What is the most recent year of surgery?\n",
    "- Use logistic regression to predict survival after 5 years. How well\n",
    "does your model do?\n",
    "- What are the coefficients of logistic regression? Which features\n",
    "affect the outcome how?"
   ]
  },
  {
   "cell_type": "code",
   "execution_count": null,
   "metadata": {
    "collapsed": true
   },
   "outputs": [],
   "source": []
  },
  {
   "cell_type": "markdown",
   "metadata": {},
   "source": [
    "#### Extra `[Modeling]` & `[Visualization]` Challenge E\n",
    "For each representatives classifier (KNN and logistic regression), draw the ROC curve and calculate the AUC.\n",
    "As a `[Visualitation]` track bonus, make the ROC curve look good, following good data visualization principles."
   ]
  },
  {
   "cell_type": "code",
   "execution_count": null,
   "metadata": {
    "collapsed": true
   },
   "outputs": [],
   "source": []
  }
 ],
 "metadata": {
  "kernelspec": {
   "display_name": "Python 2",
   "language": "python",
   "name": "python2"
  },
  "language_info": {
   "codemirror_mode": {
    "name": "ipython",
    "version": 2
   },
   "file_extension": ".py",
   "mimetype": "text/x-python",
   "name": "python",
   "nbconvert_exporter": "python",
   "pygments_lexer": "ipython2",
   "version": "2.7.11"
  }
 },
 "nbformat": 4,
 "nbformat_minor": 0
}
