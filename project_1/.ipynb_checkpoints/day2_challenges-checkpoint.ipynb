{
 "cells": [
  {
   "cell_type": "code",
   "execution_count": 2,
   "metadata": {
    "collapsed": false
   },
   "outputs": [],
   "source": [
    "import os\n",
    "import json\n",
    "from pprint import pprint"
   ]
  },
  {
   "cell_type": "code",
   "execution_count": 3,
   "metadata": {
    "collapsed": false
   },
   "outputs": [
    {
     "name": "stdout",
     "output_type": "stream",
     "text": [
      "{u'alt_title': u'Blade Runner (1982)',\n",
      " u'director': u'Ridley Scott',\n",
      " u'domestic_gross': 32868943,\n",
      " u'mojo_slug': u'bladerunner',\n",
      " u'opening_per_theater': 4749,\n",
      " u'opening_weekend_take': 6150002,\n",
      " u'production_budget': None,\n",
      " u'release_date_limited': None,\n",
      " u'release_date_wide': u'1982-06-25',\n",
      " u'title': u'Blade Runner',\n",
      " u'widest_release': 1325,\n",
      " u'worldwide_gross': 32868943,\n",
      " u'year': 1982}\n"
     ]
    }
   ],
   "source": [
    "DATA_DIR = os.path.join('data', 'boxofficemojo')\n",
    "target_file_name = 'mojo_bladerunner.json'\n",
    "target_file_path = os.path.join(DATA_DIR, target_file_name)\n",
    "with open(target_file_path, 'r') as target_file:\n",
    "    movie = json.load(target_file)\n",
    "pprint(movie)\n",
    "del movie, target_file_name, target_file_path"
   ]
  },
  {
   "cell_type": "markdown",
   "metadata": {},
   "source": [
    "## Challenge 1"
   ]
  },
  {
   "cell_type": "code",
   "execution_count": 4,
   "metadata": {
    "collapsed": false
   },
   "outputs": [],
   "source": [
    "file_list = os.listdir(DATA_DIR)"
   ]
  },
  {
   "cell_type": "code",
   "execution_count": 5,
   "metadata": {
    "collapsed": true
   },
   "outputs": [],
   "source": [
    "movies = []\n",
    "for files in file_list:\n",
    "    file_path = os.path.join(DATA_DIR, files)\n",
    "    with open(file_path, 'r') as target_file:\n",
    "        movies.append(json.load(target_file))"
   ]
  },
  {
   "cell_type": "code",
   "execution_count": 6,
   "metadata": {
    "collapsed": false
   },
   "outputs": [
    {
     "name": "stdout",
     "output_type": "stream",
     "text": [
      "{u'alt_title': u'10,000 B.C. (2008)',\n",
      " u'director': u'Roland Emmerich',\n",
      " u'domestic_gross': 94784201,\n",
      " u'mojo_slug': u'10000bc',\n",
      " u'opening_per_theater': 10518,\n",
      " u'opening_weekend_take': 35867488,\n",
      " u'production_budget': 105000000,\n",
      " u'release_date_limited': None,\n",
      " u'release_date_wide': u'2008-03-07',\n",
      " u'title': u'10,000 B.C.',\n",
      " u'widest_release': 3454,\n",
      " u'worldwide_gross': 269784201,\n",
      " u'year': 2008}\n"
     ]
    }
   ],
   "source": [
    "pprint(movies[0])"
   ]
  },
  {
   "cell_type": "code",
   "execution_count": 7,
   "metadata": {
    "collapsed": false
   },
   "outputs": [
    {
     "data": {
      "text/plain": [
       "3728"
      ]
     },
     "execution_count": 7,
     "metadata": {},
     "output_type": "execute_result"
    }
   ],
   "source": [
    "len(movies)"
   ]
  },
  {
   "cell_type": "markdown",
   "metadata": {},
   "source": [
    "## Challenge 2"
   ]
  },
  {
   "cell_type": "code",
   "execution_count": 8,
   "metadata": {
    "collapsed": true
   },
   "outputs": [],
   "source": [
    "from collections import Counter"
   ]
  },
  {
   "cell_type": "code",
   "execution_count": 9,
   "metadata": {
    "collapsed": false
   },
   "outputs": [
    {
     "data": {
      "text/plain": [
       "3728"
      ]
     },
     "execution_count": 9,
     "metadata": {},
     "output_type": "execute_result"
    }
   ],
   "source": [
    "movie_years = []\n",
    "for movie in movies:\n",
    "    movie_years.append(movie['year'])\n",
    "len(movie_years)"
   ]
  },
  {
   "cell_type": "code",
   "execution_count": 10,
   "metadata": {
    "collapsed": false
   },
   "outputs": [],
   "source": [
    "year_counts = Counter()\n",
    "for year in movie_years:\n",
    "    year_counts[year] += 1"
   ]
  },
  {
   "cell_type": "code",
   "execution_count": 11,
   "metadata": {
    "collapsed": false
   },
   "outputs": [
    {
     "name": "stdout",
     "output_type": "stream",
     "text": [
      "Counter({2013: 308, 2014: 280, 2011: 264, 2012: 257, 2010: 209, 2008: 194, 2009: 192, 2007: 190, 2006: 184, 2005: 164, 2004: 161, 2003: 146, 2002: 132, 2001: 108, 1999: 106, 2000: 99, 1998: 84, 1997: 74, 2015: 53, 1996: 52, 1995: 51, 1993: 39, 1988: 31, 1994: 30, 1989: 29, 1992: 28, 1987: 27, 1990: 24, 1991: 24, 1986: 21, 1983: 19, 1982: 18, 1984: 17, 1980: 14, 1985: 13, 1981: 12, 1979: 9, None: 7, 1970: 6, 1976: 6, 1978: 6, 1969: 4, 1972: 4, 1974: 4, 1977: 4, 1951: 3, 1975: 3, 1956: 2, 1967: 2, 1968: 2, 1971: 2, 1933: 1, 1936: 1, 1937: 1, 1940: 1, 1946: 1, 1950: 1, 1953: 1, 1959: 1, 1960: 1, 1964: 1})\n"
     ]
    }
   ],
   "source": [
    "pprint(year_counts)"
   ]
  },
  {
   "cell_type": "markdown",
   "metadata": {},
   "source": [
    "## Challenge 3"
   ]
  },
  {
   "cell_type": "code",
   "execution_count": 12,
   "metadata": {
    "collapsed": true
   },
   "outputs": [],
   "source": [
    "%matplotlib inline\n",
    "import matplotlib.pyplot as plt\n",
    "import seaborn as sns"
   ]
  },
  {
   "cell_type": "code",
   "execution_count": 13,
   "metadata": {
    "collapsed": false,
    "scrolled": true
   },
   "outputs": [
    {
     "data": {
      "text/plain": [
       "(array([  4.00000000e+00,   1.00000000e+00,   7.00000000e+00,\n",
       "          3.00000000e+00,   2.00000000e+01,   7.60000000e+01,\n",
       "          1.81000000e+02,   3.82000000e+02,   1.10000000e+03,\n",
       "          1.94700000e+03]),\n",
       " array([ 1933. ,  1941.2,  1949.4,  1957.6,  1965.8,  1974. ,  1982.2,\n",
       "         1990.4,  1998.6,  2006.8,  2015. ]),\n",
       " <a list of 10 Patch objects>)"
      ]
     },
     "execution_count": 13,
     "metadata": {},
     "output_type": "execute_result"
    },
    {
     "data": {
      "image/png": "[encoded data removed]",
      "text/plain": [
       "<matplotlib.figure.Figure at 0x75cf940>"
      ]
     },
     "metadata": {},
     "output_type": "display_data"
    }
   ],
   "source": [
    "movie_years = [x for x in movie_years if x is not None]\n",
    "plt.hist(movie_years)"
   ]
  },
  {
   "cell_type": "markdown",
   "metadata": {},
   "source": [
    "## Challenge 4"
   ]
  },
  {
   "cell_type": "code",
   "execution_count": 14,
   "metadata": {
    "collapsed": false
   },
   "outputs": [
    {
     "data": {
      "text/plain": [
       "(array([   1.,    7.,   21.,   64.,  172.,  270.,  479.,  872.,  870.,   65.]),\n",
       " array([  4.27666612,   6.02385729,   7.77104846,   9.51823963,\n",
       "         11.26543079,  13.01262196,  14.75981313,  16.5070043 ,\n",
       "         18.25419547,  20.00138664,  21.74857781]),\n",
       " <a list of 10 Patch objects>)"
      ]
     },
     "execution_count": 14,
     "metadata": {},
     "output_type": "execute_result"
    },
    {
     "data": {
      "image/png": "[encoded data removed]",
      "text/plain": [
       "<matplotlib.figure.Figure at 0x75cf9b0>"
      ]
     },
     "metadata": {},
     "output_type": "display_data"
    }
   ],
   "source": [
    "import math\n",
    "\n",
    "movie_gross = []\n",
    "for movie in movies:\n",
    "    movie_gross.append(movie['worldwide_gross'])\n",
    "\n",
    "movie_gross = [math.log(x) for x in movie_gross if x is not None]\n",
    "plt.hist(movie_gross)"
   ]
  },
  {
   "cell_type": "markdown",
   "metadata": {},
   "source": [
    "## Challenge 5"
   ]
  },
  {
   "cell_type": "code",
   "execution_count": 15,
   "metadata": {
    "collapsed": true
   },
   "outputs": [],
   "source": [
    "movie_title_length = []\n",
    "for movie in movies:\n",
    "    movie_title_length.append(len(movie['title']))\n",
    "movie_title_length = [x for x in movie_title_length if x is not None]"
   ]
  },
  {
   "cell_type": "code",
   "execution_count": 16,
   "metadata": {
    "collapsed": false
   },
   "outputs": [
    {
     "data": {
      "text/plain": [
       "<matplotlib.text.Text at 0xb3922b0>"
      ]
     },
     "execution_count": 16,
     "metadata": {},
     "output_type": "execute_result"
    },
    {
     "data": {
      "image/png": "[encoded data removed]",
      "text/plain": [
       "<matplotlib.figure.Figure at 0xafb0fd0>"
      ]
     },
     "metadata": {},
     "output_type": "display_data"
    }
   ],
   "source": [
    "plt.hist(movie_title_length)\n",
    "plt.xlabel(\"Characters in Movie Title\")\n",
    "plt.ylabel(\"Number of Instances\")"
   ]
  },
  {
   "cell_type": "markdown",
   "metadata": {},
   "source": [
    "## Challenge 6"
   ]
  },
  {
   "cell_type": "code",
   "execution_count": 17,
   "metadata": {
    "collapsed": false
   },
   "outputs": [
    {
     "data": {
      "text/plain": [
       "<matplotlib.axes._subplots.AxesSubplot at 0xb6be470>"
      ]
     },
     "execution_count": 17,
     "metadata": {},
     "output_type": "execute_result"
    },
    {
     "data": {
      "image/png": "[encoded data removed]",
      "text/plain": [
       "<matplotlib.figure.Figure at 0x2121208>"
      ]
     },
     "metadata": {},
     "output_type": "display_data"
    }
   ],
   "source": [
    "import pandas as pd\n",
    "\n",
    "movies_df = pd.DataFrame(movies)\n",
    "movies_df['year'].hist()"
   ]
  },
  {
   "cell_type": "code",
   "execution_count": 18,
   "metadata": {
    "collapsed": false
   },
   "outputs": [
    {
     "data": {
      "text/plain": [
       "<matplotlib.axes._subplots.AxesSubplot at 0xb9ea5f8>"
      ]
     },
     "execution_count": 18,
     "metadata": {},
     "output_type": "execute_result"
    },
    {
     "data": {
      "image/png": "[encoded data removed]",
      "text/plain": [
       "<matplotlib.figure.Figure at 0xb6f7940>"
      ]
     },
     "metadata": {},
     "output_type": "display_data"
    }
   ],
   "source": [
    "recent_movies = movies_df[movies_df['year']>=1990]\n",
    "recent_movies['year'].hist()"
   ]
  },
  {
   "cell_type": "code",
   "execution_count": 19,
   "metadata": {
    "collapsed": false,
    "scrolled": true
   },
   "outputs": [
    {
     "data": {
      "text/plain": [
       "year\n",
       "1990.0     24\n",
       "1991.0     24\n",
       "1992.0     28\n",
       "1993.0     39\n",
       "1994.0     30\n",
       "1995.0     51\n",
       "1996.0     52\n",
       "1997.0     74\n",
       "1998.0     84\n",
       "1999.0    106\n",
       "2000.0     99\n",
       "2001.0    108\n",
       "2002.0    132\n",
       "2003.0    146\n",
       "2004.0    161\n",
       "2005.0    164\n",
       "2006.0    184\n",
       "2007.0    190\n",
       "2008.0    194\n",
       "2009.0    192\n",
       "2010.0    209\n",
       "2011.0    264\n",
       "2012.0    257\n",
       "2013.0    308\n",
       "2014.0    280\n",
       "2015.0     53\n",
       "dtype: int64"
      ]
     },
     "execution_count": 19,
     "metadata": {},
     "output_type": "execute_result"
    }
   ],
   "source": [
    "recent_movies.groupby('year').size()"
   ]
  },
  {
   "cell_type": "markdown",
   "metadata": {},
   "source": [
    "## Challenge 7"
   ]
  },
  {
   "cell_type": "code",
   "execution_count": 20,
   "metadata": {
    "collapsed": false
   },
   "outputs": [
    {
     "data": {
      "text/plain": [
       "[u'alt_title',\n",
       " u'director',\n",
       " u'domestic_gross',\n",
       " u'mojo_slug',\n",
       " u'opening_per_theater',\n",
       " u'opening_weekend_take',\n",
       " u'production_budget',\n",
       " u'release_date_limited',\n",
       " u'release_date_wide',\n",
       " u'title',\n",
       " u'widest_release',\n",
       " u'worldwide_gross',\n",
       " u'year']"
      ]
     },
     "execution_count": 20,
     "metadata": {},
     "output_type": "execute_result"
    }
   ],
   "source": [
    "list(recent_movies)"
   ]
  },
  {
   "cell_type": "code",
   "execution_count": 21,
   "metadata": {
    "collapsed": false
   },
   "outputs": [
    {
     "name": "stderr",
     "output_type": "stream",
     "text": [
      "c:\\Users\\WZU448\\AppData\\Local\\Continuum\\Anaconda2\\lib\\site-packages\\pandas\\core\\indexing.py:461: SettingWithCopyWarning: \n",
      "A value is trying to be set on a copy of a slice from a DataFrame.\n",
      "Try using .loc[row_indexer,col_indexer] = value instead\n",
      "\n",
      "See the caveats in the documentation: http://pandas.pydata.org/pandas-docs/stable/indexing.html#indexing-view-versus-copy\n",
      "  self.obj[item] = s\n"
     ]
    },
    {
     "data": {
      "text/plain": [
       "(0, 250000000.0)"
      ]
     },
     "execution_count": 21,
     "metadata": {},
     "output_type": "execute_result"
    },
    {
     "data": {
      "image/png": "[encoded data removed]",
      "text/plain": [
       "<matplotlib.figure.Figure at 0xb3f3550>"
      ]
     },
     "metadata": {},
     "output_type": "display_data"
    }
   ],
   "source": [
    "import matplotlib.ticker as mtick\n",
    "recent_movies.loc[:,'year'] = recent_movies.loc[:,'year'].astype(int)\n",
    "gross_box = recent_movies.boxplot('domestic_gross', 'year', figsize = (20,10))\n",
    "gross_box.set_ylim([0,2.5e8])"
   ]
  },
  {
   "cell_type": "markdown",
   "metadata": {
    "collapsed": true
   },
   "source": [
    "## Challenge 8"
   ]
  },
  {
   "cell_type": "code",
   "execution_count": 22,
   "metadata": {
    "collapsed": false
   },
   "outputs": [
    {
     "data": {
      "text/html": [
       "<div>\n",
       "<table border=\"1\" class=\"dataframe\">\n",
       "  <thead>\n",
       "    <tr style=\"text-align: right;\">\n",
       "      <th></th>\n",
       "      <th>alt_title</th>\n",
       "      <th>director</th>\n",
       "      <th>domestic_gross</th>\n",
       "      <th>mojo_slug</th>\n",
       "      <th>opening_per_theater</th>\n",
       "      <th>opening_weekend_take</th>\n",
       "      <th>production_budget</th>\n",
       "      <th>release_date_limited</th>\n",
       "      <th>release_date_wide</th>\n",
       "      <th>title</th>\n",
       "      <th>widest_release</th>\n",
       "      <th>worldwide_gross</th>\n",
       "      <th>year</th>\n",
       "    </tr>\n",
       "  </thead>\n",
       "  <tbody>\n",
       "    <tr>\n",
       "      <th>0</th>\n",
       "      <td>10,000 B.C. (2008)</td>\n",
       "      <td>Roland Emmerich</td>\n",
       "      <td>94784201.0</td>\n",
       "      <td>10000bc</td>\n",
       "      <td>10518.0</td>\n",
       "      <td>35867488.0</td>\n",
       "      <td>105000000.0</td>\n",
       "      <td>None</td>\n",
       "      <td>2008-03-07</td>\n",
       "      <td>10,000 B.C.</td>\n",
       "      <td>3454.0</td>\n",
       "      <td>269784201.0</td>\n",
       "      <td>2008.0</td>\n",
       "    </tr>\n",
       "    <tr>\n",
       "      <th>1</th>\n",
       "      <td>102 Dalmatians (2000)</td>\n",
       "      <td>None</td>\n",
       "      <td>66957026.0</td>\n",
       "      <td>102dalmatians</td>\n",
       "      <td>7353.0</td>\n",
       "      <td>19883351.0</td>\n",
       "      <td>85000000.0</td>\n",
       "      <td>None</td>\n",
       "      <td>2000-11-22</td>\n",
       "      <td>102 Dalmatians</td>\n",
       "      <td>2704.0</td>\n",
       "      <td>183611771.0</td>\n",
       "      <td>2000.0</td>\n",
       "    </tr>\n",
       "    <tr>\n",
       "      <th>2</th>\n",
       "      <td>10 Things I Hate About You (1999)</td>\n",
       "      <td>None</td>\n",
       "      <td>38178166.0</td>\n",
       "      <td>10thingsihateaboutyou</td>\n",
       "      <td>3668.0</td>\n",
       "      <td>8330681.0</td>\n",
       "      <td>30000000.0</td>\n",
       "      <td>None</td>\n",
       "      <td>1999-03-31</td>\n",
       "      <td>10 Things I Hate About You</td>\n",
       "      <td>2311.0</td>\n",
       "      <td>53478166.0</td>\n",
       "      <td>1999.0</td>\n",
       "    </tr>\n",
       "    <tr>\n",
       "      <th>3</th>\n",
       "      <td>10 Years (2012)</td>\n",
       "      <td>Jamie Linden</td>\n",
       "      <td>203373.0</td>\n",
       "      <td>10years</td>\n",
       "      <td>7569.0</td>\n",
       "      <td>22707.0</td>\n",
       "      <td>NaN</td>\n",
       "      <td>None</td>\n",
       "      <td>2012-09-14</td>\n",
       "      <td>10 Years</td>\n",
       "      <td>63.0</td>\n",
       "      <td>203373.0</td>\n",
       "      <td>2012.0</td>\n",
       "    </tr>\n",
       "    <tr>\n",
       "      <th>4</th>\n",
       "      <td>11 Flowers (2013)</td>\n",
       "      <td>None</td>\n",
       "      <td>9213.0</td>\n",
       "      <td>11flowers</td>\n",
       "      <td>1758.0</td>\n",
       "      <td>3516.0</td>\n",
       "      <td>NaN</td>\n",
       "      <td>None</td>\n",
       "      <td>2013-02-22</td>\n",
       "      <td>11 Flowers</td>\n",
       "      <td>2.0</td>\n",
       "      <td>NaN</td>\n",
       "      <td>2013.0</td>\n",
       "    </tr>\n",
       "  </tbody>\n",
       "</table>\n",
       "</div>"
      ],
      "text/plain": [
       "                           alt_title         director  domestic_gross  \\\n",
       "0                 10,000 B.C. (2008)  Roland Emmerich      94784201.0   \n",
       "1              102 Dalmatians (2000)             None      66957026.0   \n",
       "2  10 Things I Hate About You (1999)             None      38178166.0   \n",
       "3                    10 Years (2012)     Jamie Linden        203373.0   \n",
       "4                  11 Flowers (2013)             None          9213.0   \n",
       "\n",
       "               mojo_slug  opening_per_theater  opening_weekend_take  \\\n",
       "0                10000bc              10518.0            35867488.0   \n",
       "1          102dalmatians               7353.0            19883351.0   \n",
       "2  10thingsihateaboutyou               3668.0             8330681.0   \n",
       "3                10years               7569.0               22707.0   \n",
       "4              11flowers               1758.0                3516.0   \n",
       "\n",
       "   production_budget release_date_limited release_date_wide  \\\n",
       "0        105000000.0                 None        2008-03-07   \n",
       "1         85000000.0                 None        2000-11-22   \n",
       "2         30000000.0                 None        1999-03-31   \n",
       "3                NaN                 None        2012-09-14   \n",
       "4                NaN                 None        2013-02-22   \n",
       "\n",
       "                        title  widest_release  worldwide_gross    year  \n",
       "0                 10,000 B.C.          3454.0      269784201.0  2008.0  \n",
       "1             102 Dalmatians           2704.0      183611771.0  2000.0  \n",
       "2  10 Things I Hate About You          2311.0       53478166.0  1999.0  \n",
       "3                    10 Years            63.0         203373.0  2012.0  \n",
       "4                 11 Flowers              2.0              NaN  2013.0  "
      ]
     },
     "execution_count": 22,
     "metadata": {},
     "output_type": "execute_result"
    }
   ],
   "source": [
    "movies_df.head()"
   ]
  },
  {
   "cell_type": "code",
   "execution_count": 23,
   "metadata": {
    "collapsed": false
   },
   "outputs": [
    {
     "data": {
      "text/html": [
       "<div>\n",
       "<table border=\"1\" class=\"dataframe\">\n",
       "  <thead>\n",
       "    <tr style=\"text-align: right;\">\n",
       "      <th></th>\n",
       "      <th>domestic_gross</th>\n",
       "      <th>opening_per_theater</th>\n",
       "      <th>opening_weekend_take</th>\n",
       "      <th>production_budget</th>\n",
       "      <th>widest_release</th>\n",
       "      <th>worldwide_gross</th>\n",
       "      <th>year</th>\n",
       "    </tr>\n",
       "  </thead>\n",
       "  <tbody>\n",
       "    <tr>\n",
       "      <th>count</th>\n",
       "      <td>3.653000e+03</td>\n",
       "      <td>3548.000000</td>\n",
       "      <td>3.548000e+03</td>\n",
       "      <td>1.591000e+03</td>\n",
       "      <td>3576.000000</td>\n",
       "      <td>2.821000e+03</td>\n",
       "      <td>3721.000000</td>\n",
       "    </tr>\n",
       "    <tr>\n",
       "      <th>mean</th>\n",
       "      <td>3.587710e+07</td>\n",
       "      <td>7769.070744</td>\n",
       "      <td>8.919290e+06</td>\n",
       "      <td>4.594223e+07</td>\n",
       "      <td>1359.910794</td>\n",
       "      <td>9.117943e+07</td>\n",
       "      <td>2004.740124</td>\n",
       "    </tr>\n",
       "    <tr>\n",
       "      <th>std</th>\n",
       "      <td>5.660351e+07</td>\n",
       "      <td>8251.101404</td>\n",
       "      <td>1.403204e+07</td>\n",
       "      <td>4.056849e+07</td>\n",
       "      <td>1293.817347</td>\n",
       "      <td>1.489563e+08</td>\n",
       "      <td>9.127232</td>\n",
       "    </tr>\n",
       "    <tr>\n",
       "      <th>min</th>\n",
       "      <td>7.200000e+01</td>\n",
       "      <td>72.000000</td>\n",
       "      <td>7.200000e+01</td>\n",
       "      <td>2.200000e+02</td>\n",
       "      <td>1.000000</td>\n",
       "      <td>7.200000e+01</td>\n",
       "      <td>1933.000000</td>\n",
       "    </tr>\n",
       "    <tr>\n",
       "      <th>25%</th>\n",
       "      <td>6.353250e+05</td>\n",
       "      <td>3212.000000</td>\n",
       "      <td>4.748775e+04</td>\n",
       "      <td>1.675000e+07</td>\n",
       "      <td>52.000000</td>\n",
       "      <td>5.710236e+06</td>\n",
       "      <td>2001.000000</td>\n",
       "    </tr>\n",
       "    <tr>\n",
       "      <th>50%</th>\n",
       "      <td>1.323532e+07</td>\n",
       "      <td>5520.500000</td>\n",
       "      <td>3.334686e+06</td>\n",
       "      <td>3.500000e+07</td>\n",
       "      <td>1074.500000</td>\n",
       "      <td>3.554776e+07</td>\n",
       "      <td>2007.000000</td>\n",
       "    </tr>\n",
       "    <tr>\n",
       "      <th>75%</th>\n",
       "      <td>4.966253e+07</td>\n",
       "      <td>9463.500000</td>\n",
       "      <td>1.268750e+07</td>\n",
       "      <td>6.500000e+07</td>\n",
       "      <td>2584.250000</td>\n",
       "      <td>1.166729e+08</td>\n",
       "      <td>2011.000000</td>\n",
       "    </tr>\n",
       "    <tr>\n",
       "      <th>max</th>\n",
       "      <td>7.605076e+08</td>\n",
       "      <td>204230.000000</td>\n",
       "      <td>1.741446e+08</td>\n",
       "      <td>2.150000e+08</td>\n",
       "      <td>4468.000000</td>\n",
       "      <td>2.787965e+09</td>\n",
       "      <td>2015.000000</td>\n",
       "    </tr>\n",
       "  </tbody>\n",
       "</table>\n",
       "</div>"
      ],
      "text/plain": [
       "       domestic_gross  opening_per_theater  opening_weekend_take  \\\n",
       "count    3.653000e+03          3548.000000          3.548000e+03   \n",
       "mean     3.587710e+07          7769.070744          8.919290e+06   \n",
       "std      5.660351e+07          8251.101404          1.403204e+07   \n",
       "min      7.200000e+01            72.000000          7.200000e+01   \n",
       "25%      6.353250e+05          3212.000000          4.748775e+04   \n",
       "50%      1.323532e+07          5520.500000          3.334686e+06   \n",
       "75%      4.966253e+07          9463.500000          1.268750e+07   \n",
       "max      7.605076e+08        204230.000000          1.741446e+08   \n",
       "\n",
       "       production_budget  widest_release  worldwide_gross         year  \n",
       "count       1.591000e+03     3576.000000     2.821000e+03  3721.000000  \n",
       "mean        4.594223e+07     1359.910794     9.117943e+07  2004.740124  \n",
       "std         4.056849e+07     1293.817347     1.489563e+08     9.127232  \n",
       "min         2.200000e+02        1.000000     7.200000e+01  1933.000000  \n",
       "25%         1.675000e+07       52.000000     5.710236e+06  2001.000000  \n",
       "50%         3.500000e+07     1074.500000     3.554776e+07  2007.000000  \n",
       "75%         6.500000e+07     2584.250000     1.166729e+08  2011.000000  \n",
       "max         2.150000e+08     4468.000000     2.787965e+09  2015.000000  "
      ]
     },
     "execution_count": 23,
     "metadata": {},
     "output_type": "execute_result"
    }
   ],
   "source": [
    "movies_df.describe()"
   ]
  },
  {
   "cell_type": "code",
   "execution_count": 24,
   "metadata": {
    "collapsed": false
   },
   "outputs": [],
   "source": [
    "movies_df.dropna(subset=['production_budget'], inplace=True)"
   ]
  },
  {
   "cell_type": "code",
   "execution_count": 25,
   "metadata": {
    "collapsed": false
   },
   "outputs": [
    {
     "data": {
      "text/html": [
       "<div>\n",
       "<table border=\"1\" class=\"dataframe\">\n",
       "  <thead>\n",
       "    <tr style=\"text-align: right;\">\n",
       "      <th></th>\n",
       "      <th>domestic_gross</th>\n",
       "      <th>opening_per_theater</th>\n",
       "      <th>opening_weekend_take</th>\n",
       "      <th>production_budget</th>\n",
       "      <th>widest_release</th>\n",
       "      <th>worldwide_gross</th>\n",
       "      <th>year</th>\n",
       "    </tr>\n",
       "  </thead>\n",
       "  <tbody>\n",
       "    <tr>\n",
       "      <th>count</th>\n",
       "      <td>1.588000e+03</td>\n",
       "      <td>1574.000000</td>\n",
       "      <td>1.574000e+03</td>\n",
       "      <td>1.591000e+03</td>\n",
       "      <td>1576.000000</td>\n",
       "      <td>1.468000e+03</td>\n",
       "      <td>1591.000000</td>\n",
       "    </tr>\n",
       "    <tr>\n",
       "      <th>mean</th>\n",
       "      <td>6.411525e+07</td>\n",
       "      <td>7865.506989</td>\n",
       "      <td>1.649038e+07</td>\n",
       "      <td>4.594223e+07</td>\n",
       "      <td>2297.262690</td>\n",
       "      <td>1.423870e+08</td>\n",
       "      <td>2004.597109</td>\n",
       "    </tr>\n",
       "    <tr>\n",
       "      <th>std</th>\n",
       "      <td>6.780603e+07</td>\n",
       "      <td>6817.955244</td>\n",
       "      <td>1.711644e+07</td>\n",
       "      <td>4.056849e+07</td>\n",
       "      <td>1071.924067</td>\n",
       "      <td>1.662742e+08</td>\n",
       "      <td>7.015649</td>\n",
       "    </tr>\n",
       "    <tr>\n",
       "      <th>min</th>\n",
       "      <td>2.216000e+03</td>\n",
       "      <td>237.000000</td>\n",
       "      <td>2.216000e+03</td>\n",
       "      <td>2.200000e+02</td>\n",
       "      <td>1.000000</td>\n",
       "      <td>2.760000e+03</td>\n",
       "      <td>1953.000000</td>\n",
       "    </tr>\n",
       "    <tr>\n",
       "      <th>25%</th>\n",
       "      <td>1.825423e+07</td>\n",
       "      <td>3858.250000</td>\n",
       "      <td>5.319644e+06</td>\n",
       "      <td>1.675000e+07</td>\n",
       "      <td>1658.500000</td>\n",
       "      <td>3.638466e+07</td>\n",
       "      <td>2001.000000</td>\n",
       "    </tr>\n",
       "    <tr>\n",
       "      <th>50%</th>\n",
       "      <td>4.387414e+07</td>\n",
       "      <td>6047.500000</td>\n",
       "      <td>1.208024e+07</td>\n",
       "      <td>3.500000e+07</td>\n",
       "      <td>2570.500000</td>\n",
       "      <td>8.898538e+07</td>\n",
       "      <td>2005.000000</td>\n",
       "    </tr>\n",
       "    <tr>\n",
       "      <th>75%</th>\n",
       "      <td>8.865223e+07</td>\n",
       "      <td>9570.500000</td>\n",
       "      <td>2.175148e+07</td>\n",
       "      <td>6.500000e+07</td>\n",
       "      <td>3070.250000</td>\n",
       "      <td>1.902124e+08</td>\n",
       "      <td>2010.000000</td>\n",
       "    </tr>\n",
       "    <tr>\n",
       "      <th>max</th>\n",
       "      <td>6.586723e+08</td>\n",
       "      <td>93230.000000</td>\n",
       "      <td>1.741446e+08</td>\n",
       "      <td>2.150000e+08</td>\n",
       "      <td>4468.000000</td>\n",
       "      <td>2.186772e+09</td>\n",
       "      <td>2015.000000</td>\n",
       "    </tr>\n",
       "  </tbody>\n",
       "</table>\n",
       "</div>"
      ],
      "text/plain": [
       "       domestic_gross  opening_per_theater  opening_weekend_take  \\\n",
       "count    1.588000e+03          1574.000000          1.574000e+03   \n",
       "mean     6.411525e+07          7865.506989          1.649038e+07   \n",
       "std      6.780603e+07          6817.955244          1.711644e+07   \n",
       "min      2.216000e+03           237.000000          2.216000e+03   \n",
       "25%      1.825423e+07          3858.250000          5.319644e+06   \n",
       "50%      4.387414e+07          6047.500000          1.208024e+07   \n",
       "75%      8.865223e+07          9570.500000          2.175148e+07   \n",
       "max      6.586723e+08         93230.000000          1.741446e+08   \n",
       "\n",
       "       production_budget  widest_release  worldwide_gross         year  \n",
       "count       1.591000e+03     1576.000000     1.468000e+03  1591.000000  \n",
       "mean        4.594223e+07     2297.262690     1.423870e+08  2004.597109  \n",
       "std         4.056849e+07     1071.924067     1.662742e+08     7.015649  \n",
       "min         2.200000e+02        1.000000     2.760000e+03  1953.000000  \n",
       "25%         1.675000e+07     1658.500000     3.638466e+07  2001.000000  \n",
       "50%         3.500000e+07     2570.500000     8.898538e+07  2005.000000  \n",
       "75%         6.500000e+07     3070.250000     1.902124e+08  2010.000000  \n",
       "max         2.150000e+08     4468.000000     2.186772e+09  2015.000000  "
      ]
     },
     "execution_count": 25,
     "metadata": {},
     "output_type": "execute_result"
    }
   ],
   "source": [
    "movies_df.describe()"
   ]
  },
  {
   "cell_type": "markdown",
   "metadata": {},
   "source": [
    "## Challenge 9"
   ]
  },
  {
   "cell_type": "code",
   "execution_count": 26,
   "metadata": {
    "collapsed": false
   },
   "outputs": [
    {
     "name": "stdout",
     "output_type": "stream",
     "text": [
      "1574\n"
     ]
    },
    {
     "data": {
      "text/plain": [
       "<matplotlib.axes._subplots.AxesSubplot at 0xc772be0>"
      ]
     },
     "execution_count": 26,
     "metadata": {},
     "output_type": "execute_result"
    },
    {
     "data": {
      "image/png": "[encoded data removed]",
      "text/plain": [
       "<matplotlib.figure.Figure at 0xb6cb860>"
      ]
     },
     "metadata": {},
     "output_type": "display_data"
    }
   ],
   "source": [
    "movies_scatter = movies_df.dropna(subset=['opening_weekend_take','domestic_gross'])\n",
    "print len(movies_scatter)\n",
    "movies_scatter.plot(kind='scatter', x = 'opening_weekend_take', y = 'domestic_gross')"
   ]
  },
  {
   "cell_type": "markdown",
   "metadata": {},
   "source": [
    "## Challenge 10\n",
    "# Regression"
   ]
  },
  {
   "cell_type": "code",
   "execution_count": 27,
   "metadata": {
    "collapsed": true
   },
   "outputs": [],
   "source": [
    "df = movies_df.dropna(subset=['opening_weekend_take','domestic_gross'])"
   ]
  },
  {
   "cell_type": "code",
   "execution_count": 28,
   "metadata": {
    "collapsed": true
   },
   "outputs": [],
   "source": [
    "import statsmodels.api as sm\n",
    "\n",
    "Y = df.domestic_gross\n",
    "X = sm.add_constant(df.opening_weekend_take)\n",
    "\n",
    "linmodel = sm.OLS(Y,X).fit()"
   ]
  },
  {
   "cell_type": "code",
   "execution_count": 29,
   "metadata": {
    "collapsed": false
   },
   "outputs": [
    {
     "data": {
      "text/html": [
       "<table class=\"simpletable\">\n",
       "<caption>OLS Regression Results</caption>\n",
       "<tr>\n",
       "  <th>Dep. Variable:</th>     <td>domestic_gross</td>  <th>  R-squared:         </th> <td>   0.667</td> \n",
       "</tr>\n",
       "<tr>\n",
       "  <th>Model:</th>                   <td>OLS</td>       <th>  Adj. R-squared:    </th> <td>   0.666</td> \n",
       "</tr>\n",
       "<tr>\n",
       "  <th>Method:</th>             <td>Least Squares</td>  <th>  F-statistic:       </th> <td>   3143.</td> \n",
       "</tr>\n",
       "<tr>\n",
       "  <th>Date:</th>             <td>Wed, 13 Apr 2016</td> <th>  Prob (F-statistic):</th>  <td>  0.00</td>  \n",
       "</tr>\n",
       "<tr>\n",
       "  <th>Time:</th>                 <td>14:38:01</td>     <th>  Log-Likelihood:    </th> <td> -29755.</td> \n",
       "</tr>\n",
       "<tr>\n",
       "  <th>No. Observations:</th>      <td>  1574</td>      <th>  AIC:               </th> <td>5.951e+04</td>\n",
       "</tr>\n",
       "<tr>\n",
       "  <th>Df Residuals:</th>          <td>  1572</td>      <th>  BIC:               </th> <td>5.953e+04</td>\n",
       "</tr>\n",
       "<tr>\n",
       "  <th>Df Model:</th>              <td>     1</td>      <th>                     </th>     <td> </td>    \n",
       "</tr>\n",
       "<tr>\n",
       "  <th>Covariance Type:</th>      <td>nonrobust</td>    <th>                     </th>     <td> </td>    \n",
       "</tr>\n",
       "</table>\n",
       "<table class=\"simpletable\">\n",
       "<tr>\n",
       "            <td></td>              <th>coef</th>     <th>std err</th>      <th>t</th>      <th>P>|t|</th> <th>[95.0% Conf. Int.]</th> \n",
       "</tr>\n",
       "<tr>\n",
       "  <th>const</th>                <td> 1.077e+07</td> <td> 1.37e+06</td> <td>    7.832</td> <td> 0.000</td> <td> 8.07e+06  1.35e+07</td>\n",
       "</tr>\n",
       "<tr>\n",
       "  <th>opening_weekend_take</th> <td>    3.2431</td> <td>    0.058</td> <td>   56.066</td> <td> 0.000</td> <td>    3.130     3.357</td>\n",
       "</tr>\n",
       "</table>\n",
       "<table class=\"simpletable\">\n",
       "<tr>\n",
       "  <th>Omnibus:</th>       <td>1523.261</td> <th>  Durbin-Watson:     </th>  <td>   1.910</td> \n",
       "</tr>\n",
       "<tr>\n",
       "  <th>Prob(Omnibus):</th>  <td> 0.000</td>  <th>  Jarque-Bera (JB):  </th> <td>107141.731</td>\n",
       "</tr>\n",
       "<tr>\n",
       "  <th>Skew:</th>           <td> 4.403</td>  <th>  Prob(JB):          </th>  <td>    0.00</td> \n",
       "</tr>\n",
       "<tr>\n",
       "  <th>Kurtosis:</th>       <td>42.448</td>  <th>  Cond. No.          </th>  <td>3.30e+07</td> \n",
       "</tr>\n",
       "</table>"
      ],
      "text/plain": [
       "<class 'statsmodels.iolib.summary.Summary'>\n",
       "\"\"\"\n",
       "                            OLS Regression Results                            \n",
       "==============================================================================\n",
       "Dep. Variable:         domestic_gross   R-squared:                       0.667\n",
       "Model:                            OLS   Adj. R-squared:                  0.666\n",
       "Method:                 Least Squares   F-statistic:                     3143.\n",
       "Date:                Wed, 13 Apr 2016   Prob (F-statistic):               0.00\n",
       "Time:                        14:38:01   Log-Likelihood:                -29755.\n",
       "No. Observations:                1574   AIC:                         5.951e+04\n",
       "Df Residuals:                    1572   BIC:                         5.953e+04\n",
       "Df Model:                           1                                         \n",
       "Covariance Type:            nonrobust                                         \n",
       "========================================================================================\n",
       "                           coef    std err          t      P>|t|      [95.0% Conf. Int.]\n",
       "----------------------------------------------------------------------------------------\n",
       "const                 1.077e+07   1.37e+06      7.832      0.000      8.07e+06  1.35e+07\n",
       "opening_weekend_take     3.2431      0.058     56.066      0.000         3.130     3.357\n",
       "==============================================================================\n",
       "Omnibus:                     1523.261   Durbin-Watson:                   1.910\n",
       "Prob(Omnibus):                  0.000   Jarque-Bera (JB):           107141.731\n",
       "Skew:                           4.403   Prob(JB):                         0.00\n",
       "Kurtosis:                      42.448   Cond. No.                     3.30e+07\n",
       "==============================================================================\n",
       "\n",
       "Warnings:\n",
       "[1] Standard Errors assume that the covariance matrix of the errors is correctly specified.\n",
       "[2] The condition number is large, 3.3e+07. This might indicate that there are\n",
       "strong multicollinearity or other numerical problems.\n",
       "\"\"\""
      ]
     },
     "execution_count": 29,
     "metadata": {},
     "output_type": "execute_result"
    }
   ],
   "source": [
    "linmodel.summary()"
   ]
  },
  {
   "cell_type": "code",
   "execution_count": 30,
   "metadata": {
    "collapsed": false
   },
   "outputs": [
    {
     "data": {
      "text/plain": [
       "<matplotlib.text.Text at 0xd483d30>"
      ]
     },
     "execution_count": 30,
     "metadata": {},
     "output_type": "execute_result"
    },
    {
     "data": {
      "image/png": "[encoded data removed]",
      "text/plain": [
       "<matplotlib.figure.Figure at 0xbb8fc18>"
      ]
     },
     "metadata": {},
     "output_type": "display_data"
    }
   ],
   "source": [
    "predicted_gross = linmodel.predict(X)\n",
    "plt.scatter(df.opening_weekend_take, df.domestic_gross, color='gray')\n",
    "plt.plot(df.opening_weekend_take, predicted_gross)\n",
    "plt.title(\"Opening Weekend Based Model for Domestic Gross\")\n",
    "plt.xlabel(\"Opening Weekend Take ($100M)\")\n",
    "plt.ylabel(\"Domestic Gross ($100M)\")"
   ]
  },
  {
   "cell_type": "code",
   "execution_count": 31,
   "metadata": {
    "collapsed": false
   },
   "outputs": [
    {
     "data": {
      "text/plain": [
       "<matplotlib.text.Text at 0xd496358>"
      ]
     },
     "execution_count": 31,
     "metadata": {},
     "output_type": "execute_result"
    },
    {
     "data": {
      "image/png": "[encoded data removed]",
      "text/plain": [
       "<matplotlib.figure.Figure at 0xd3eefd0>"
      ]
     },
     "metadata": {},
     "output_type": "display_data"
    }
   ],
   "source": [
    "plt.scatter(df.domestic_gross, predicted_gross, color='gray')\n",
    "plt.plot([0,7e8],[0,7e8])\n",
    "plt.title(\"Actual Domestic Gross vs. Predicted\")\n",
    "plt.xlabel(\"Actual Domestic Gross\")\n",
    "plt.ylabel(\"Predicted Domestic Gross\")"
   ]
  },
  {
   "cell_type": "markdown",
   "metadata": {},
   "source": [
    "## Challenge 11"
   ]
  },
  {
   "cell_type": "code",
   "execution_count": 32,
   "metadata": {
    "collapsed": false
   },
   "outputs": [
    {
     "data": {
      "text/plain": [
       "<matplotlib.text.Text at 0xd6f29e8>"
      ]
     },
     "execution_count": 32,
     "metadata": {},
     "output_type": "execute_result"
    },
    {
     "data": {
      "image/png": "[encoded data removed]",
      "text/plain": [
       "<matplotlib.figure.Figure at 0xd73e3c8>"
      ]
     },
     "metadata": {},
     "output_type": "display_data"
    }
   ],
   "source": [
    "residuals = df.domestic_gross - predicted_gross\n",
    "plt.scatter(predicted_gross, residuals, color='gray')\n",
    "plt.plot([0,6e8],[0,0])\n",
    "plt.title(\"Predicted Domestic Gross vs. Residuals\")\n",
    "plt.xlabel(\"Predicted Domestic Gross\")\n",
    "plt.ylabel(\"Residuals\")"
   ]
  },
  {
   "cell_type": "markdown",
   "metadata": {},
   "source": [
    "## Challenge 12"
   ]
  },
  {
   "cell_type": "code",
   "execution_count": 33,
   "metadata": {
    "collapsed": false
   },
   "outputs": [
    {
     "name": "stderr",
     "output_type": "stream",
     "text": [
      "c:\\Users\\WZU448\\AppData\\Local\\Continuum\\Anaconda2\\lib\\site-packages\\ipykernel\\__main__.py:1: SettingWithCopyWarning: \n",
      "A value is trying to be set on a copy of a slice from a DataFrame.\n",
      "Try using .loc[row_indexer,col_indexer] = value instead\n",
      "\n",
      "See the caveats in the documentation: http://pandas.pydata.org/pandas-docs/stable/indexing.html#indexing-view-versus-copy\n",
      "  if __name__ == '__main__':\n",
      "c:\\Users\\WZU448\\AppData\\Local\\Continuum\\Anaconda2\\lib\\site-packages\\ipykernel\\__main__.py:2: SettingWithCopyWarning: \n",
      "A value is trying to be set on a copy of a slice from a DataFrame.\n",
      "Try using .loc[row_indexer,col_indexer] = value instead\n",
      "\n",
      "See the caveats in the documentation: http://pandas.pydata.org/pandas-docs/stable/indexing.html#indexing-view-versus-copy\n",
      "  from ipykernel import kernelapp as app\n"
     ]
    }
   ],
   "source": [
    "df['domestic_gross_log'] = df.domestic_gross.apply(math.log)\n",
    "df['opening_weekend_log'] = df.opening_weekend_take.apply(math.log)"
   ]
  },
  {
   "cell_type": "code",
   "execution_count": 34,
   "metadata": {
    "collapsed": true
   },
   "outputs": [],
   "source": [
    "Y = df.domestic_gross_log\n",
    "X = sm.add_constant(df.opening_weekend_log)\n",
    "\n",
    "linmodel = sm.OLS(Y,X).fit()"
   ]
  },
  {
   "cell_type": "code",
   "execution_count": 35,
   "metadata": {
    "collapsed": false
   },
   "outputs": [
    {
     "data": {
      "text/html": [
       "<table class=\"simpletable\">\n",
       "<caption>OLS Regression Results</caption>\n",
       "<tr>\n",
       "  <th>Dep. Variable:</th>    <td>domestic_gross_log</td> <th>  R-squared:         </th> <td>   0.795</td>\n",
       "</tr>\n",
       "<tr>\n",
       "  <th>Model:</th>                    <td>OLS</td>        <th>  Adj. R-squared:    </th> <td>   0.794</td>\n",
       "</tr>\n",
       "<tr>\n",
       "  <th>Method:</th>              <td>Least Squares</td>   <th>  F-statistic:       </th> <td>   6082.</td>\n",
       "</tr>\n",
       "<tr>\n",
       "  <th>Date:</th>              <td>Wed, 13 Apr 2016</td>  <th>  Prob (F-statistic):</th>  <td>  0.00</td> \n",
       "</tr>\n",
       "<tr>\n",
       "  <th>Time:</th>                  <td>14:38:02</td>      <th>  Log-Likelihood:    </th> <td> -1684.5</td>\n",
       "</tr>\n",
       "<tr>\n",
       "  <th>No. Observations:</th>       <td>  1574</td>       <th>  AIC:               </th> <td>   3373.</td>\n",
       "</tr>\n",
       "<tr>\n",
       "  <th>Df Residuals:</th>           <td>  1572</td>       <th>  BIC:               </th> <td>   3384.</td>\n",
       "</tr>\n",
       "<tr>\n",
       "  <th>Df Model:</th>               <td>     1</td>       <th>                     </th>     <td> </td>   \n",
       "</tr>\n",
       "<tr>\n",
       "  <th>Covariance Type:</th>       <td>nonrobust</td>     <th>                     </th>     <td> </td>   \n",
       "</tr>\n",
       "</table>\n",
       "<table class=\"simpletable\">\n",
       "<tr>\n",
       "           <td></td>              <th>coef</th>     <th>std err</th>      <th>t</th>      <th>P>|t|</th> <th>[95.0% Conf. Int.]</th> \n",
       "</tr>\n",
       "<tr>\n",
       "  <th>const</th>               <td>    5.4451</td> <td>    0.153</td> <td>   35.589</td> <td> 0.000</td> <td>    5.145     5.745</td>\n",
       "</tr>\n",
       "<tr>\n",
       "  <th>opening_weekend_log</th> <td>    0.7496</td> <td>    0.010</td> <td>   77.984</td> <td> 0.000</td> <td>    0.731     0.768</td>\n",
       "</tr>\n",
       "</table>\n",
       "<table class=\"simpletable\">\n",
       "<tr>\n",
       "  <th>Omnibus:</th>       <td>178.337</td> <th>  Durbin-Watson:     </th> <td>   2.058</td> \n",
       "</tr>\n",
       "<tr>\n",
       "  <th>Prob(Omnibus):</th> <td> 0.000</td>  <th>  Jarque-Bera (JB):  </th> <td> 720.084</td> \n",
       "</tr>\n",
       "<tr>\n",
       "  <th>Skew:</th>          <td> 0.485</td>  <th>  Prob(JB):          </th> <td>4.32e-157</td>\n",
       "</tr>\n",
       "<tr>\n",
       "  <th>Kurtosis:</th>      <td> 6.168</td>  <th>  Cond. No.          </th> <td>    137.</td> \n",
       "</tr>\n",
       "</table>"
      ],
      "text/plain": [
       "<class 'statsmodels.iolib.summary.Summary'>\n",
       "\"\"\"\n",
       "                            OLS Regression Results                            \n",
       "==============================================================================\n",
       "Dep. Variable:     domestic_gross_log   R-squared:                       0.795\n",
       "Model:                            OLS   Adj. R-squared:                  0.794\n",
       "Method:                 Least Squares   F-statistic:                     6082.\n",
       "Date:                Wed, 13 Apr 2016   Prob (F-statistic):               0.00\n",
       "Time:                        14:38:02   Log-Likelihood:                -1684.5\n",
       "No. Observations:                1574   AIC:                             3373.\n",
       "Df Residuals:                    1572   BIC:                             3384.\n",
       "Df Model:                           1                                         \n",
       "Covariance Type:            nonrobust                                         \n",
       "=======================================================================================\n",
       "                          coef    std err          t      P>|t|      [95.0% Conf. Int.]\n",
       "---------------------------------------------------------------------------------------\n",
       "const                   5.4451      0.153     35.589      0.000         5.145     5.745\n",
       "opening_weekend_log     0.7496      0.010     77.984      0.000         0.731     0.768\n",
       "==============================================================================\n",
       "Omnibus:                      178.337   Durbin-Watson:                   2.058\n",
       "Prob(Omnibus):                  0.000   Jarque-Bera (JB):              720.084\n",
       "Skew:                           0.485   Prob(JB):                    4.32e-157\n",
       "Kurtosis:                       6.168   Cond. No.                         137.\n",
       "==============================================================================\n",
       "\n",
       "Warnings:\n",
       "[1] Standard Errors assume that the covariance matrix of the errors is correctly specified.\n",
       "\"\"\""
      ]
     },
     "execution_count": 35,
     "metadata": {},
     "output_type": "execute_result"
    }
   ],
   "source": [
    "linmodel.summary()"
   ]
  },
  {
   "cell_type": "code",
   "execution_count": 36,
   "metadata": {
    "collapsed": false
   },
   "outputs": [
    {
     "data": {
      "text/plain": [
       "<matplotlib.text.Text at 0xd7004a8>"
      ]
     },
     "execution_count": 36,
     "metadata": {},
     "output_type": "execute_result"
    },
    {
     "data": {
      "image/png": "[encoded data removed]",
      "text/plain": [
       "<matplotlib.figure.Figure at 0xd718ba8>"
      ]
     },
     "metadata": {},
     "output_type": "display_data"
    }
   ],
   "source": [
    "predicted_gross = linmodel.predict(X)\n",
    "plt.scatter(df.opening_weekend_log, df.domestic_gross_log, color='gray')\n",
    "plt.plot(df.opening_weekend_log, predicted_gross)\n",
    "plt.title(\"Opening Weekend Based Model for Domestic Gross, Log\")\n",
    "plt.xlabel(\"Log of Opening Weekend Take\")\n",
    "plt.ylabel(\"Log of Domestic Gross\")"
   ]
  },
  {
   "cell_type": "code",
   "execution_count": 37,
   "metadata": {
    "collapsed": false
   },
   "outputs": [
    {
     "data": {
      "text/plain": [
       "<matplotlib.text.Text at 0xdcdaeb8>"
      ]
     },
     "execution_count": 37,
     "metadata": {},
     "output_type": "execute_result"
    },
    {
     "data": {
      "image/png": "[encoded data removed]",
      "text/plain": [
       "<matplotlib.figure.Figure at 0xb6e3e48>"
      ]
     },
     "metadata": {},
     "output_type": "display_data"
    }
   ],
   "source": [
    "plt.scatter(df.domestic_gross_log, predicted_gross, color='gray')\n",
    "plt.plot([7,21],[7,21])\n",
    "plt.title(\"Actual Domestic Gross vs. Predicted, Log\")\n",
    "plt.xlabel(\"Log of Actual Domestic Gross\")\n",
    "plt.ylabel(\"Log of Predicted Domestic Gross\")"
   ]
  },
  {
   "cell_type": "code",
   "execution_count": 38,
   "metadata": {
    "collapsed": false,
    "scrolled": true
   },
   "outputs": [
    {
     "data": {
      "text/plain": [
       "<matplotlib.text.Text at 0xdcc3278>"
      ]
     },
     "execution_count": 38,
     "metadata": {},
     "output_type": "execute_result"
    },
    {
     "data": {
      "image/png": "[encoded data removed]",
      "text/plain": [
       "<matplotlib.figure.Figure at 0xbf419e8>"
      ]
     },
     "metadata": {},
     "output_type": "display_data"
    }
   ],
   "source": [
    "residuals = df.domestic_gross_log - predicted_gross\n",
    "plt.scatter(predicted_gross, residuals, color='gray')\n",
    "plt.plot([10,20],[0,0])\n",
    "plt.title(\"Predicted Domestic Gross vs. Residuals\")\n",
    "plt.xlabel(\"Predicted Domestic Gross\")\n",
    "plt.ylabel(\"Residuals\")"
   ]
  },
  {
   "cell_type": "markdown",
   "metadata": {},
   "source": [
    "## Challenge 13"
   ]
  },
  {
   "cell_type": "code",
   "execution_count": 39,
   "metadata": {
    "collapsed": false
   },
   "outputs": [
    {
     "name": "stderr",
     "output_type": "stream",
     "text": [
      "c:\\Users\\WZU448\\AppData\\Local\\Continuum\\Anaconda2\\lib\\site-packages\\ipykernel\\__main__.py:1: SettingWithCopyWarning: \n",
      "A value is trying to be set on a copy of a slice from a DataFrame.\n",
      "Try using .loc[row_indexer,col_indexer] = value instead\n",
      "\n",
      "See the caveats in the documentation: http://pandas.pydata.org/pandas-docs/stable/indexing.html#indexing-view-versus-copy\n",
      "  if __name__ == '__main__':\n"
     ]
    },
    {
     "data": {
      "text/html": [
       "<div>\n",
       "<table border=\"1\" class=\"dataframe\">\n",
       "  <thead>\n",
       "    <tr style=\"text-align: right;\">\n",
       "      <th></th>\n",
       "      <th>domestic_gross</th>\n",
       "      <th>opening_per_theater</th>\n",
       "      <th>opening_weekend_take</th>\n",
       "      <th>production_budget</th>\n",
       "      <th>widest_release</th>\n",
       "      <th>worldwide_gross</th>\n",
       "      <th>year</th>\n",
       "      <th>domestic_gross_log</th>\n",
       "      <th>opening_weekend_log</th>\n",
       "      <th>opening_weekend_logsq</th>\n",
       "    </tr>\n",
       "  </thead>\n",
       "  <tbody>\n",
       "    <tr>\n",
       "      <th>count</th>\n",
       "      <td>1.574000e+03</td>\n",
       "      <td>1574.000000</td>\n",
       "      <td>1.574000e+03</td>\n",
       "      <td>1.574000e+03</td>\n",
       "      <td>1571.000000</td>\n",
       "      <td>1.463000e+03</td>\n",
       "      <td>1574.000000</td>\n",
       "      <td>1574.000000</td>\n",
       "      <td>1574.000000</td>\n",
       "      <td>1574.000000</td>\n",
       "    </tr>\n",
       "    <tr>\n",
       "      <th>mean</th>\n",
       "      <td>6.424453e+07</td>\n",
       "      <td>7865.506989</td>\n",
       "      <td>1.649038e+07</td>\n",
       "      <td>4.634777e+07</td>\n",
       "      <td>2303.917250</td>\n",
       "      <td>1.426206e+08</td>\n",
       "      <td>2004.846252</td>\n",
       "      <td>17.295735</td>\n",
       "      <td>15.809284</td>\n",
       "      <td>253.361126</td>\n",
       "    </tr>\n",
       "    <tr>\n",
       "      <th>std</th>\n",
       "      <td>6.798735e+07</td>\n",
       "      <td>6817.955244</td>\n",
       "      <td>1.711644e+07</td>\n",
       "      <td>4.059018e+07</td>\n",
       "      <td>1067.021111</td>\n",
       "      <td>1.663716e+08</td>\n",
       "      <td>6.382529</td>\n",
       "      <td>1.557358</td>\n",
       "      <td>1.851981</td>\n",
       "      <td>52.567225</td>\n",
       "    </tr>\n",
       "    <tr>\n",
       "      <th>min</th>\n",
       "      <td>2.216000e+03</td>\n",
       "      <td>237.000000</td>\n",
       "      <td>2.216000e+03</td>\n",
       "      <td>2.200000e+02</td>\n",
       "      <td>1.000000</td>\n",
       "      <td>2.760000e+03</td>\n",
       "      <td>1972.000000</td>\n",
       "      <td>7.703459</td>\n",
       "      <td>7.703459</td>\n",
       "      <td>59.343281</td>\n",
       "    </tr>\n",
       "    <tr>\n",
       "      <th>25%</th>\n",
       "      <td>1.831343e+07</td>\n",
       "      <td>3858.250000</td>\n",
       "      <td>5.319644e+06</td>\n",
       "      <td>1.700000e+07</td>\n",
       "      <td>1697.000000</td>\n",
       "      <td>3.644547e+07</td>\n",
       "      <td>2001.000000</td>\n",
       "      <td>16.723145</td>\n",
       "      <td>15.486915</td>\n",
       "      <td>239.844529</td>\n",
       "    </tr>\n",
       "    <tr>\n",
       "      <th>50%</th>\n",
       "      <td>4.379415e+07</td>\n",
       "      <td>6047.500000</td>\n",
       "      <td>1.208024e+07</td>\n",
       "      <td>3.500000e+07</td>\n",
       "      <td>2573.000000</td>\n",
       "      <td>8.916216e+07</td>\n",
       "      <td>2005.000000</td>\n",
       "      <td>17.595010</td>\n",
       "      <td>16.307082</td>\n",
       "      <td>265.920915</td>\n",
       "    </tr>\n",
       "    <tr>\n",
       "      <th>75%</th>\n",
       "      <td>8.875503e+07</td>\n",
       "      <td>9570.500000</td>\n",
       "      <td>2.175148e+07</td>\n",
       "      <td>6.500000e+07</td>\n",
       "      <td>3071.500000</td>\n",
       "      <td>1.902128e+08</td>\n",
       "      <td>2010.000000</td>\n",
       "      <td>18.301391</td>\n",
       "      <td>16.895193</td>\n",
       "      <td>285.447531</td>\n",
       "    </tr>\n",
       "    <tr>\n",
       "      <th>max</th>\n",
       "      <td>6.586723e+08</td>\n",
       "      <td>93230.000000</td>\n",
       "      <td>1.741446e+08</td>\n",
       "      <td>2.150000e+08</td>\n",
       "      <td>4468.000000</td>\n",
       "      <td>2.186772e+09</td>\n",
       "      <td>2015.000000</td>\n",
       "      <td>20.305737</td>\n",
       "      <td>18.975396</td>\n",
       "      <td>360.065671</td>\n",
       "    </tr>\n",
       "  </tbody>\n",
       "</table>\n",
       "</div>"
      ],
      "text/plain": [
       "       domestic_gross  opening_per_theater  opening_weekend_take  \\\n",
       "count    1.574000e+03          1574.000000          1.574000e+03   \n",
       "mean     6.424453e+07          7865.506989          1.649038e+07   \n",
       "std      6.798735e+07          6817.955244          1.711644e+07   \n",
       "min      2.216000e+03           237.000000          2.216000e+03   \n",
       "25%      1.831343e+07          3858.250000          5.319644e+06   \n",
       "50%      4.379415e+07          6047.500000          1.208024e+07   \n",
       "75%      8.875503e+07          9570.500000          2.175148e+07   \n",
       "max      6.586723e+08         93230.000000          1.741446e+08   \n",
       "\n",
       "       production_budget  widest_release  worldwide_gross         year  \\\n",
       "count       1.574000e+03     1571.000000     1.463000e+03  1574.000000   \n",
       "mean        4.634777e+07     2303.917250     1.426206e+08  2004.846252   \n",
       "std         4.059018e+07     1067.021111     1.663716e+08     6.382529   \n",
       "min         2.200000e+02        1.000000     2.760000e+03  1972.000000   \n",
       "25%         1.700000e+07     1697.000000     3.644547e+07  2001.000000   \n",
       "50%         3.500000e+07     2573.000000     8.916216e+07  2005.000000   \n",
       "75%         6.500000e+07     3071.500000     1.902128e+08  2010.000000   \n",
       "max         2.150000e+08     4468.000000     2.186772e+09  2015.000000   \n",
       "\n",
       "       domestic_gross_log  opening_weekend_log  opening_weekend_logsq  \n",
       "count         1574.000000          1574.000000            1574.000000  \n",
       "mean            17.295735            15.809284             253.361126  \n",
       "std              1.557358             1.851981              52.567225  \n",
       "min              7.703459             7.703459              59.343281  \n",
       "25%             16.723145            15.486915             239.844529  \n",
       "50%             17.595010            16.307082             265.920915  \n",
       "75%             18.301391            16.895193             285.447531  \n",
       "max             20.305737            18.975396             360.065671  "
      ]
     },
     "execution_count": 39,
     "metadata": {},
     "output_type": "execute_result"
    }
   ],
   "source": [
    "df['opening_weekend_logsq'] = df['opening_weekend_log']**2\n",
    "df.describe()"
   ]
  },
  {
   "cell_type": "code",
   "execution_count": 40,
   "metadata": {
    "collapsed": false
   },
   "outputs": [],
   "source": [
    "Y = df.domestic_gross_log\n",
    "X = sm.add_constant(df[['opening_weekend_log','opening_weekend_logsq']])\n",
    "\n",
    "linmodel = sm.OLS(Y,X).fit()"
   ]
  },
  {
   "cell_type": "code",
   "execution_count": 41,
   "metadata": {
    "collapsed": false
   },
   "outputs": [
    {
     "data": {
      "text/html": [
       "<table class=\"simpletable\">\n",
       "<caption>OLS Regression Results</caption>\n",
       "<tr>\n",
       "  <th>Dep. Variable:</th>    <td>domestic_gross_log</td> <th>  R-squared:         </th> <td>   0.795</td>\n",
       "</tr>\n",
       "<tr>\n",
       "  <th>Model:</th>                    <td>OLS</td>        <th>  Adj. R-squared:    </th> <td>   0.795</td>\n",
       "</tr>\n",
       "<tr>\n",
       "  <th>Method:</th>              <td>Least Squares</td>   <th>  F-statistic:       </th> <td>   3043.</td>\n",
       "</tr>\n",
       "<tr>\n",
       "  <th>Date:</th>              <td>Wed, 13 Apr 2016</td>  <th>  Prob (F-statistic):</th>  <td>  0.00</td> \n",
       "</tr>\n",
       "<tr>\n",
       "  <th>Time:</th>                  <td>14:38:03</td>      <th>  Log-Likelihood:    </th> <td> -1683.6</td>\n",
       "</tr>\n",
       "<tr>\n",
       "  <th>No. Observations:</th>       <td>  1574</td>       <th>  AIC:               </th> <td>   3373.</td>\n",
       "</tr>\n",
       "<tr>\n",
       "  <th>Df Residuals:</th>           <td>  1571</td>       <th>  BIC:               </th> <td>   3389.</td>\n",
       "</tr>\n",
       "<tr>\n",
       "  <th>Df Model:</th>               <td>     2</td>       <th>                     </th>     <td> </td>   \n",
       "</tr>\n",
       "<tr>\n",
       "  <th>Covariance Type:</th>       <td>nonrobust</td>     <th>                     </th>     <td> </td>   \n",
       "</tr>\n",
       "</table>\n",
       "<table class=\"simpletable\">\n",
       "<tr>\n",
       "            <td></td>               <th>coef</th>     <th>std err</th>      <th>t</th>      <th>P>|t|</th> <th>[95.0% Conf. Int.]</th> \n",
       "</tr>\n",
       "<tr>\n",
       "  <th>const</th>                 <td>    6.4350</td> <td>    0.752</td> <td>    8.553</td> <td> 0.000</td> <td>    4.959     7.911</td>\n",
       "</tr>\n",
       "<tr>\n",
       "  <th>opening_weekend_log</th>   <td>    0.6050</td> <td>    0.108</td> <td>    5.602</td> <td> 0.000</td> <td>    0.393     0.817</td>\n",
       "</tr>\n",
       "<tr>\n",
       "  <th>opening_weekend_logsq</th> <td>    0.0051</td> <td>    0.004</td> <td>    1.344</td> <td> 0.179</td> <td>   -0.002     0.013</td>\n",
       "</tr>\n",
       "</table>\n",
       "<table class=\"simpletable\">\n",
       "<tr>\n",
       "  <th>Omnibus:</th>       <td>182.989</td> <th>  Durbin-Watson:     </th> <td>   2.057</td> \n",
       "</tr>\n",
       "<tr>\n",
       "  <th>Prob(Omnibus):</th> <td> 0.000</td>  <th>  Jarque-Bera (JB):  </th> <td> 845.892</td> \n",
       "</tr>\n",
       "<tr>\n",
       "  <th>Skew:</th>          <td> 0.455</td>  <th>  Prob(JB):          </th> <td>2.07e-184</td>\n",
       "</tr>\n",
       "<tr>\n",
       "  <th>Kurtosis:</th>      <td> 6.474</td>  <th>  Cond. No.          </th> <td>1.11e+04</td> \n",
       "</tr>\n",
       "</table>"
      ],
      "text/plain": [
       "<class 'statsmodels.iolib.summary.Summary'>\n",
       "\"\"\"\n",
       "                            OLS Regression Results                            \n",
       "==============================================================================\n",
       "Dep. Variable:     domestic_gross_log   R-squared:                       0.795\n",
       "Model:                            OLS   Adj. R-squared:                  0.795\n",
       "Method:                 Least Squares   F-statistic:                     3043.\n",
       "Date:                Wed, 13 Apr 2016   Prob (F-statistic):               0.00\n",
       "Time:                        14:38:03   Log-Likelihood:                -1683.6\n",
       "No. Observations:                1574   AIC:                             3373.\n",
       "Df Residuals:                    1571   BIC:                             3389.\n",
       "Df Model:                           2                                         \n",
       "Covariance Type:            nonrobust                                         \n",
       "=========================================================================================\n",
       "                            coef    std err          t      P>|t|      [95.0% Conf. Int.]\n",
       "-----------------------------------------------------------------------------------------\n",
       "const                     6.4350      0.752      8.553      0.000         4.959     7.911\n",
       "opening_weekend_log       0.6050      0.108      5.602      0.000         0.393     0.817\n",
       "opening_weekend_logsq     0.0051      0.004      1.344      0.179        -0.002     0.013\n",
       "==============================================================================\n",
       "Omnibus:                      182.989   Durbin-Watson:                   2.057\n",
       "Prob(Omnibus):                  0.000   Jarque-Bera (JB):              845.892\n",
       "Skew:                           0.455   Prob(JB):                    2.07e-184\n",
       "Kurtosis:                       6.474   Cond. No.                     1.11e+04\n",
       "==============================================================================\n",
       "\n",
       "Warnings:\n",
       "[1] Standard Errors assume that the covariance matrix of the errors is correctly specified.\n",
       "[2] The condition number is large, 1.11e+04. This might indicate that there are\n",
       "strong multicollinearity or other numerical problems.\n",
       "\"\"\""
      ]
     },
     "execution_count": 41,
     "metadata": {},
     "output_type": "execute_result"
    }
   ],
   "source": [
    "linmodel.summary()"
   ]
  },
  {
   "cell_type": "code",
   "execution_count": 42,
   "metadata": {
    "collapsed": true
   },
   "outputs": [],
   "source": [
    "predicted_gross = linmodel.predict(X)"
   ]
  },
  {
   "cell_type": "code",
   "execution_count": 43,
   "metadata": {
    "collapsed": false
   },
   "outputs": [
    {
     "data": {
      "text/plain": [
       "<matplotlib.text.Text at 0xe5e1a90>"
      ]
     },
     "execution_count": 43,
     "metadata": {},
     "output_type": "execute_result"
    },
    {
     "data": {
      "image/png": "[encoded data removed]",
      "text/plain": [
       "<matplotlib.figure.Figure at 0xc793f28>"
      ]
     },
     "metadata": {},
     "output_type": "display_data"
    }
   ],
   "source": [
    "residuals = df.domestic_gross_log - predicted_gross\n",
    "plt.scatter(predicted_gross, residuals, color='gray')\n",
    "plt.plot([10,20],[0,0])\n",
    "plt.title(\"Predicted Domestic Gross vs. Residuals\")\n",
    "plt.xlabel(\"Predicted Domestic Gross\")\n",
    "plt.ylabel(\"Residuals\")"
   ]
  },
  {
   "cell_type": "markdown",
   "metadata": {},
   "source": [
    "## Challenge 14"
   ]
  },
  {
   "cell_type": "code",
   "execution_count": null,
   "metadata": {
    "collapsed": true
   },
   "outputs": [],
   "source": [
    "import statsmodels.formula.api as smf"
   ]
  },
  {
   "cell_type": "code",
   "execution_count": 64,
   "metadata": {
    "collapsed": false
   },
   "outputs": [],
   "source": [
    "linmodel = smf.ols(formula = 'domestic_gross_log ~ opening_weekend_log + I(opening_weekend_log**2)', data=df).fit()"
   ]
  },
  {
   "cell_type": "code",
   "execution_count": 63,
   "metadata": {
    "collapsed": false
   },
   "outputs": [
    {
     "data": {
      "text/html": [
       "<table class=\"simpletable\">\n",
       "<caption>OLS Regression Results</caption>\n",
       "<tr>\n",
       "  <th>Dep. Variable:</th>    <td>domestic_gross_log</td> <th>  R-squared:         </th> <td>   0.795</td>\n",
       "</tr>\n",
       "<tr>\n",
       "  <th>Model:</th>                    <td>OLS</td>        <th>  Adj. R-squared:    </th> <td>   0.795</td>\n",
       "</tr>\n",
       "<tr>\n",
       "  <th>Method:</th>              <td>Least Squares</td>   <th>  F-statistic:       </th> <td>   3043.</td>\n",
       "</tr>\n",
       "<tr>\n",
       "  <th>Date:</th>              <td>Wed, 13 Apr 2016</td>  <th>  Prob (F-statistic):</th>  <td>  0.00</td> \n",
       "</tr>\n",
       "<tr>\n",
       "  <th>Time:</th>                  <td>14:45:17</td>      <th>  Log-Likelihood:    </th> <td> -1683.6</td>\n",
       "</tr>\n",
       "<tr>\n",
       "  <th>No. Observations:</th>       <td>  1574</td>       <th>  AIC:               </th> <td>   3373.</td>\n",
       "</tr>\n",
       "<tr>\n",
       "  <th>Df Residuals:</th>           <td>  1571</td>       <th>  BIC:               </th> <td>   3389.</td>\n",
       "</tr>\n",
       "<tr>\n",
       "  <th>Df Model:</th>               <td>     2</td>       <th>                     </th>     <td> </td>   \n",
       "</tr>\n",
       "<tr>\n",
       "  <th>Covariance Type:</th>       <td>nonrobust</td>     <th>                     </th>     <td> </td>   \n",
       "</tr>\n",
       "</table>\n",
       "<table class=\"simpletable\">\n",
       "<tr>\n",
       "               <td></td>                  <th>coef</th>     <th>std err</th>      <th>t</th>      <th>P>|t|</th> <th>[95.0% Conf. Int.]</th> \n",
       "</tr>\n",
       "<tr>\n",
       "  <th>Intercept</th>                   <td>    6.4350</td> <td>    0.752</td> <td>    8.553</td> <td> 0.000</td> <td>    4.959     7.911</td>\n",
       "</tr>\n",
       "<tr>\n",
       "  <th>opening_weekend_log</th>         <td>    0.6050</td> <td>    0.108</td> <td>    5.602</td> <td> 0.000</td> <td>    0.393     0.817</td>\n",
       "</tr>\n",
       "<tr>\n",
       "  <th>I(opening_weekend_log ** 2)</th> <td>    0.0051</td> <td>    0.004</td> <td>    1.344</td> <td> 0.179</td> <td>   -0.002     0.013</td>\n",
       "</tr>\n",
       "</table>\n",
       "<table class=\"simpletable\">\n",
       "<tr>\n",
       "  <th>Omnibus:</th>       <td>182.989</td> <th>  Durbin-Watson:     </th> <td>   2.057</td> \n",
       "</tr>\n",
       "<tr>\n",
       "  <th>Prob(Omnibus):</th> <td> 0.000</td>  <th>  Jarque-Bera (JB):  </th> <td> 845.892</td> \n",
       "</tr>\n",
       "<tr>\n",
       "  <th>Skew:</th>          <td> 0.455</td>  <th>  Prob(JB):          </th> <td>2.07e-184</td>\n",
       "</tr>\n",
       "<tr>\n",
       "  <th>Kurtosis:</th>      <td> 6.474</td>  <th>  Cond. No.          </th> <td>1.11e+04</td> \n",
       "</tr>\n",
       "</table>"
      ],
      "text/plain": [
       "<class 'statsmodels.iolib.summary.Summary'>\n",
       "\"\"\"\n",
       "                            OLS Regression Results                            \n",
       "==============================================================================\n",
       "Dep. Variable:     domestic_gross_log   R-squared:                       0.795\n",
       "Model:                            OLS   Adj. R-squared:                  0.795\n",
       "Method:                 Least Squares   F-statistic:                     3043.\n",
       "Date:                Wed, 13 Apr 2016   Prob (F-statistic):               0.00\n",
       "Time:                        14:45:17   Log-Likelihood:                -1683.6\n",
       "No. Observations:                1574   AIC:                             3373.\n",
       "Df Residuals:                    1571   BIC:                             3389.\n",
       "Df Model:                           2                                         \n",
       "Covariance Type:            nonrobust                                         \n",
       "===============================================================================================\n",
       "                                  coef    std err          t      P>|t|      [95.0% Conf. Int.]\n",
       "-----------------------------------------------------------------------------------------------\n",
       "Intercept                       6.4350      0.752      8.553      0.000         4.959     7.911\n",
       "opening_weekend_log             0.6050      0.108      5.602      0.000         0.393     0.817\n",
       "I(opening_weekend_log ** 2)     0.0051      0.004      1.344      0.179        -0.002     0.013\n",
       "==============================================================================\n",
       "Omnibus:                      182.989   Durbin-Watson:                   2.057\n",
       "Prob(Omnibus):                  0.000   Jarque-Bera (JB):              845.892\n",
       "Skew:                           0.455   Prob(JB):                    2.07e-184\n",
       "Kurtosis:                       6.474   Cond. No.                     1.11e+04\n",
       "==============================================================================\n",
       "\n",
       "Warnings:\n",
       "[1] Standard Errors assume that the covariance matrix of the errors is correctly specified.\n",
       "[2] The condition number is large, 1.11e+04. This might indicate that there are\n",
       "strong multicollinearity or other numerical problems.\n",
       "\"\"\""
      ]
     },
     "execution_count": 63,
     "metadata": {},
     "output_type": "execute_result"
    }
   ],
   "source": [
    "linmodel.summary()"
   ]
  },
  {
   "cell_type": "code",
   "execution_count": 65,
   "metadata": {
    "collapsed": false
   },
   "outputs": [
    {
     "data": {
      "text/plain": [
       "<matplotlib.text.Text at 0xf2beba8>"
      ]
     },
     "execution_count": 65,
     "metadata": {},
     "output_type": "execute_result"
    },
    {
     "data": {
      "image/png": "[encoded data removed]",
      "text/plain": [
       "<matplotlib.figure.Figure at 0xf204a20>"
      ]
     },
     "metadata": {},
     "output_type": "display_data"
    }
   ],
   "source": [
    "predicted_gross = linmodel.predict(X)\n",
    "residuals = df.domestic_gross_log - predicted_gross\n",
    "plt.scatter(predicted_gross, residuals, color='gray')\n",
    "plt.plot([10,20],[0,0])\n",
    "plt.title(\"Predicted Domestic Gross vs. Residuals\")\n",
    "plt.xlabel(\"Predicted Domestic Gross\")\n",
    "plt.ylabel(\"Residuals\")"
   ]
  },
  {
   "cell_type": "markdown",
   "metadata": {},
   "source": [
    "## Challenge 15"
   ]
  },
  {
   "cell_type": "code",
   "execution_count": 66,
   "metadata": {
    "collapsed": false
   },
   "outputs": [
    {
     "data": {
      "text/plain": [
       "LinearRegression(copy_X=True, fit_intercept=True, n_jobs=1, normalize=False)"
      ]
     },
     "execution_count": 66,
     "metadata": {},
     "output_type": "execute_result"
    }
   ],
   "source": [
    "from sklearn.linear_model import LinearRegression\n",
    "model = LinearRegression()\n",
    "Y = df['domestic_gross']\n",
    "X = df[['opening_weekend_take']]\n",
    "model.fit(X, Y)"
   ]
  },
  {
   "cell_type": "code",
   "execution_count": 70,
   "metadata": {
    "collapsed": false
   },
   "outputs": [
    {
     "name": "stdout",
     "output_type": "stream",
     "text": [
      "[ 3.24305346]\n",
      "10765351.5622\n"
     ]
    }
   ],
   "source": [
    "print model.coef_\n",
    "print model.intercept_"
   ]
  },
  {
   "cell_type": "code",
   "execution_count": 71,
   "metadata": {
    "collapsed": false
   },
   "outputs": [
    {
     "name": "stdout",
     "output_type": "stream",
     "text": [
      "1.53999354028e+15\n"
     ]
    }
   ],
   "source": [
    "from sklearn.metrics import mean_squared_error\n",
    "Y_pred = model.predict(X)\n",
    "Y_true = Y\n",
    "print mean_squared_error(Y_pred, Y_true)"
   ]
  },
  {
   "cell_type": "code",
   "execution_count": null,
   "metadata": {
    "collapsed": true
   },
   "outputs": [],
   "source": []
  }
 ],
 "metadata": {
  "kernelspec": {
   "display_name": "Python 2",
   "language": "python",
   "name": "python2"
  },
  "language_info": {
   "codemirror_mode": {
    "name": "ipython",
    "version": 2
   },
   "file_extension": ".py",
   "mimetype": "text/x-python",
   "name": "python",
   "nbconvert_exporter": "python",
   "pygments_lexer": "ipython2",
   "version": "2.7.11"
  }
 },
 "nbformat": 4,
 "nbformat_minor": 0
}
