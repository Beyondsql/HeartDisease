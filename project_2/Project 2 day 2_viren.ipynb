{
 "cells": [
  {
   "cell_type": "code",
   "execution_count": 96,
   "metadata": {
    "collapsed": false
   },
   "outputs": [],
   "source": [
    "import pandas as pd\n",
    "import numpy as np\n",
    "\n",
    "filename1 = \"data/heart_disease/processed.cleveland.data\"\n",
    "filename2 = \"data/heart_disease/processed.hungarian.data\"\n",
    "filename3 = \"data/heart_disease/processed.va.data\"\n",
    "filename4 = \"data/heart_disease/processed.switzerland.data\" \n",
    "'''\n",
    "description of fields:\n",
    "  -- 1. #3  (age)  \n",
    "  -- 2. #4  (sex)        \n",
    "  -- 3. #9  (cp)         chest pain type      \n",
    "  -- 4. #10 (trestbps)   resting blood pressure\n",
    "  -- 5. #12 (chol)       serum cholesterol\n",
    "  -- 6. #16 (fbs)        (fasting blood sugar > 120 mg/dl)  (1 = true; 0 = false)\n",
    "  -- 7. #19 (restecg)    resting ecg results (Normal =0, abnormal =1 ,hypetrophy = 2) --> Dummy\n",
    "  -- 8. #32 (thalach)    maximum heart rate received\n",
    "  -- 9. #38 (exang)      exercise induced angina (1 = yes; 0 = no) \n",
    "  -- 10. #40 (oldpeak)   ST depression induced by exercise relative to rest\n",
    "  -- 11. #41 (slope)     the slope of the peak exercise ST segment (1: upsloping, 2: flat, 3: downsloping) --> Dummy\n",
    "  -- 12. #44 (ca)        number of major vessels (0-3) colored by flourosopy --> Dummy\n",
    "  -- 13. #51 (thal)      3 = normal; 6 = fixed defect; 7 = reversable defect --> Dummy\n",
    "  -- 14. #58 (num)       (the predicted attribute)  diagnosis of heart disease (Value 0: < 50% diameter narrowing, Value 1: > 50% diameter narrowing)\n",
    "\n",
    "column_names = ['Age', \n",
    "               'Sex', \n",
    "               'ChestPain', \n",
    "               'RestingBloodPressure',\n",
    "               'Cholesterol', \n",
    "               'FastingBloodSugar',\n",
    "               'RestingECG',\n",
    "               'MaxHeartRate',\n",
    "               'ExerciseAngina',\n",
    "               'STExerciseInduced',\n",
    "               'Slope',\n",
    "               'NumberVessels',\n",
    "               'Thal',\n",
    "               'HeartDisease']\n",
    "\n",
    "               \n",
    "''' \n",
    "column_names = ['age', \n",
    "               'sex', \n",
    "               'cp', \n",
    "               'trestbps',\n",
    "               'chol', \n",
    "               'fbs',\n",
    "               'restecg',\n",
    "               'thalach',\n",
    "               'exang',\n",
    "               'oldpeak',\n",
    "               'slope',\n",
    "               'ca',\n",
    "               'thal',\n",
    "               'num']\n",
    "\n",
    "\n",
    "def loaddata (filename,col_names):\n",
    " \n",
    "    df =  pd.read_csv(filename,index_col=None,names=col_names, na_values='?')\n",
    "  \n",
    "    return df\n",
    "\n",
    "# load all the files\n",
    "df_cleveland = loaddata (filename1,column_names)\n",
    "df_hungarian = loaddata (filename2,column_names)\n",
    "df_va = loaddata (filename3,column_names)\n",
    "df_switzerland = loaddata (filename4,column_names)"
   ]
  },
  {
   "cell_type": "code",
   "execution_count": 97,
   "metadata": {
    "collapsed": false
   },
   "outputs": [],
   "source": [
    "# Merge the files into a single df\n",
    "hospitals = [df_hungarian,df_va,df_cleveland,df_switzerland]\n",
    "df = pd.concat(hospitals)"
   ]
  },
  {
   "cell_type": "code",
   "execution_count": 98,
   "metadata": {
    "collapsed": false
   },
   "outputs": [
    {
     "name": "stderr",
     "output_type": "stream",
     "text": [
      "c:\\Users\\flk207\\AppData\\Local\\Continuum\\Anaconda2\\lib\\site-packages\\ipykernel\\__main__.py:2: SettingWithCopyWarning: \n",
      "A value is trying to be set on a copy of a slice from a DataFrame\n",
      "\n",
      "See the caveats in the documentation: http://pandas.pydata.org/pandas-docs/stable/indexing.html#indexing-view-versus-copy\n",
      "  from ipykernel import kernelapp as app\n",
      "c:\\Users\\flk207\\AppData\\Local\\Continuum\\Anaconda2\\lib\\site-packages\\ipykernel\\__main__.py:5: SettingWithCopyWarning: \n",
      "A value is trying to be set on a copy of a slice from a DataFrame\n",
      "\n",
      "See the caveats in the documentation: http://pandas.pydata.org/pandas-docs/stable/indexing.html#indexing-view-versus-copy\n"
     ]
    },
    {
     "data": {
      "text/plain": [
       "age         920\n",
       "sex         920\n",
       "cp          920\n",
       "trestbps    861\n",
       "chol        718\n",
       "fbs         830\n",
       "restecg     918\n",
       "thalach     865\n",
       "exang       865\n",
       "oldpeak     858\n",
       "slope       611\n",
       "ca          309\n",
       "thal        434\n",
       "num         920\n",
       "dtype: int64"
      ]
     },
     "execution_count": 98,
     "metadata": {},
     "output_type": "execute_result"
    }
   ],
   "source": [
    "# convert HeartDiseases to 0 , and 1 (1,2,3)\n",
    "df.num[df.num >=1] = 1\n",
    "\n",
    "# set cholesterol=0 to NaN\n",
    "df.chol[df.chol ==0] = np.NaN\n",
    "\n",
    "#df.describe()\n",
    "df.count()\n",
    "#df.oldpeak"
   ]
  },
  {
   "cell_type": "code",
   "execution_count": 99,
   "metadata": {
    "collapsed": false
   },
   "outputs": [
    {
     "data": {
      "text/plain": [
       "'\\nfor i in list(df.columns):\\n    sns.distplot(df[i])\\n    plt.show()\\n    \\n'"
      ]
     },
     "execution_count": 99,
     "metadata": {},
     "output_type": "execute_result"
    }
   ],
   "source": [
    "# Adding dummy variables to categoricals\n",
    "restecg_dummies = pd.get_dummies(df['restecg'], prefix=\"restecg\")\n",
    "#slope_dummies = pd.get_dummies(df['slope'], prefix=\"slope\")\n",
    "#ca_dummies = pd.get_dummies(df['ca'], prefix=\"ca\")\n",
    "#thal_dummies = pd.get_dummies(df['thal'], prefix=\"thal\")\n",
    "cp_dummies = pd.get_dummies(df['cp'], prefix=\"cp\")\n",
    "exang_dummies = pd.get_dummies(df['exang'], prefix=\"exang\")\n",
    "\n",
    "df = pd.concat([df,restecg_dummies,\n",
    "                        #slope_dummies,\n",
    "                        #ca_dummies,\n",
    "                        #thal_dummies,\n",
    "                        cp_dummies,\n",
    "                       exang_dummies],axis=1)\n",
    "\n",
    "df.count()\n",
    "'''\n",
    "for i in list(df.columns):\n",
    "    sns.distplot(df[i])\n",
    "    plt.show()\n",
    "    \n",
    "'''\n"
   ]
  },
  {
   "cell_type": "code",
   "execution_count": null,
   "metadata": {
    "collapsed": false
   },
   "outputs": [],
   "source": []
  },
  {
   "cell_type": "code",
   "execution_count": 100,
   "metadata": {
    "collapsed": false
   },
   "outputs": [
    {
     "data": {
      "text/plain": [
       "age            920\n",
       "sex            920\n",
       "cp             920\n",
       "trestbps       861\n",
       "chol           718\n",
       "fbs            830\n",
       "restecg        918\n",
       "thalach        865\n",
       "exang          865\n",
       "oldpeak        858\n",
       "slope          611\n",
       "ca             309\n",
       "thal           434\n",
       "num            920\n",
       "restecg_0.0    920\n",
       "restecg_1.0    920\n",
       "restecg_2.0    920\n",
       "cp_1.0         920\n",
       "cp_2.0         920\n",
       "cp_3.0         920\n",
       "cp_4.0         920\n",
       "exang_0.0      920\n",
       "exang_1.0      920\n",
       "dtype: int64"
      ]
     },
     "execution_count": 100,
     "metadata": {},
     "output_type": "execute_result"
    }
   ],
   "source": [
    "df[df.notnull().any(axis=1)].count()\n",
    "#df[df.isnull().any(axis=1)].count()"
   ]
  },
  {
   "cell_type": "code",
   "execution_count": 101,
   "metadata": {
    "collapsed": false
   },
   "outputs": [
    {
     "data": {
      "text/plain": [
       "age            661\n",
       "sex            661\n",
       "cp             661\n",
       "trestbps       661\n",
       "chol           661\n",
       "fbs            661\n",
       "restecg        661\n",
       "thalach        661\n",
       "exang          661\n",
       "oldpeak        661\n",
       "num            661\n",
       "restecg_0.0    661\n",
       "restecg_1.0    661\n",
       "restecg_2.0    661\n",
       "cp_1.0         661\n",
       "cp_2.0         661\n",
       "cp_3.0         661\n",
       "cp_4.0         661\n",
       "exang_0.0      661\n",
       "exang_1.0      661\n",
       "dtype: int64"
      ]
     },
     "execution_count": 101,
     "metadata": {},
     "output_type": "execute_result"
    }
   ],
   "source": [
    "# delete fields we don't want\n",
    "fields_to_delete = ['ca','slope','thal']\n",
    "df = df.drop(fields_to_delete,axis=1)\n",
    "df[df.notnull().any(axis=1)].count()\n",
    "df = df.dropna()\n",
    "df.count()"
   ]
  },
  {
   "cell_type": "code",
   "execution_count": 113,
   "metadata": {
    "collapsed": false
   },
   "outputs": [
    {
     "data": {
      "text/plain": [
       "age            661\n",
       "sex            661\n",
       "trestbps       661\n",
       "chol           661\n",
       "fbs            661\n",
       "thalach        661\n",
       "oldpeak        661\n",
       "restecg_0.0    661\n",
       "restecg_1.0    661\n",
       "restecg_2.0    661\n",
       "exang_0.0      661\n",
       "exang_1.0      661\n",
       "cp_1.0         661\n",
       "cp_2.0         661\n",
       "cp_3.0         661\n",
       "cp_4.0         661\n",
       "dtype: int64"
      ]
     },
     "execution_count": 113,
     "metadata": {},
     "output_type": "execute_result"
    }
   ],
   "source": [
    "#Set X and Y\n",
    "\n",
    "Y = df.num\n",
    "X = df[[ 'age', 'sex', 'trestbps', 'chol', 'fbs', 'thalach', 'oldpeak', \n",
    "                'restecg_0.0', 'restecg_1.0', 'restecg_2.0', \n",
    "               # 'slope_1.0', 'slope_2.0', 'slope_3.0', \n",
    "               #'ca_0.0', 'ca_1.0', 'ca_2.0', 'ca_3.0', \n",
    "               # 'thal_1.0', 'thal_3.0', 'thal_6.0', 'thal_7.0',\n",
    "                'exang_0.0','exang_1.0',\n",
    "                'cp_1.0', 'cp_2.0', 'cp_3.0', 'cp_4.0']]\n",
    "\n",
    "X.count()"
   ]
  },
  {
   "cell_type": "code",
   "execution_count": 105,
   "metadata": {
    "collapsed": false
   },
   "outputs": [],
   "source": [
    "#print (len(X),len(Y))\n",
    "#Y"
   ]
  },
  {
   "cell_type": "code",
   "execution_count": 106,
   "metadata": {
    "collapsed": true
   },
   "outputs": [],
   "source": [
    "%matplotlib inline\n",
    "import seaborn as sns\n",
    "import matplotlib.pyplot as plt"
   ]
  },
  {
   "cell_type": "code",
   "execution_count": 107,
   "metadata": {
    "collapsed": true
   },
   "outputs": [],
   "source": [
    "from sklearn.cross_validation import cross_val_score\n",
    "from sklearn import metrics\n",
    "# import all the models \n",
    "from sklearn.neighbors import KNeighborsClassifier\n",
    "from sklearn.linear_model import LogisticRegression\n",
    "from sklearn.tree import DecisionTreeClassifier\n",
    "from sklearn.naive_bayes import GaussianNB\n",
    "from sklearn.svm import SVC\n",
    "from sklearn.ensemble import (RandomForestClassifier, ExtraTreesClassifier, AdaBoostClassifier)"
   ]
  },
  {
   "cell_type": "code",
   "execution_count": 108,
   "metadata": {
    "collapsed": false
   },
   "outputs": [],
   "source": [
    "def cross_val (X,Y, \n",
    "               algorithm_tuple =(LogisticRegression,KNeighborsClassifier), \n",
    "               cross_folds=10,\n",
    "               knn_size=1,\n",
    "               DTC_depth=5,\n",
    "               trees=40,\n",
    "               scoring_list=[\"accuracy\",\"precision\",\"recall\"]):\n",
    "    from sklearn.cross_validation import cross_val_score\n",
    "    names, accs = [],[]\n",
    "    print \"Using CV:\",cross_folds,\"              \",scoring_list\n",
    "    print \"--------------------------------------\"\n",
    "    \n",
    "    for algorithm in (algorithm_tuple):\n",
    "        #special case for KNN\n",
    "        if algorithm == KNeighborsClassifier:\n",
    "            for n in range(1,knn_size+1):\n",
    "                scores = []\n",
    "                index = 0\n",
    "                message_to_print_part1=\"'%-23s (n=%i)   \"\n",
    "                message_to_print_part2=\" (algorithm.__name__,n\"\n",
    "                for score_item in scoring_list:\n",
    "                    mean_score = np.mean(cross_val_score(KNeighborsClassifier(n), X,Y, cv=cross_folds,scoring=score_item))\n",
    "                    scores.append(mean_score)\n",
    "                    message_to_print_part1+=\" %.4f\"\n",
    "                    message_to_print_part2+=\", scores[\"+str(index)+\"]\"\n",
    "                    index +=1\n",
    "                    #print \"in it\",score_item, mean_score\n",
    "                #print \"out of it\", scores\n",
    "                message_to_print_part1+=\"' %\"\n",
    "                message_to_print_part2+=\")\"\n",
    "                message_to_print_part1+=message_to_print_part2\n",
    "                names.append(algorithm.__name__)    \n",
    "                print (eval(message_to_print_part1))\n",
    "                #print '%-23s (n=%i)  %.4f %.4f %.4f' % (algorithm.__name__,n, scores[0], scores[1], scores[2])   \n",
    "                accs.append(scores)        \n",
    "                \n",
    "        elif algorithm ==DecisionTreeClassifier:     \n",
    "            for depth in range(1,DTC_depth+1):\n",
    "                scores = []\n",
    "                for score_item in scoring_list:\n",
    "                    mean_score = np.mean(cross_val_score(DecisionTreeClassifier(max_depth=depth, class_weight=\"balanced\"), X,Y, \n",
    "                                                       cv=cross_folds,scoring=score_item))\n",
    "                    scores.append(mean_score)\n",
    "                \n",
    "                print '%-23s (Dep=%i) %.4f  %.4f %.4f' % (algorithm.__name__,depth, scores[0], scores[1], scores[2])\n",
    "                names.append(algorithm.__name__)\n",
    "                accs.append(scores)\n",
    "        \n",
    "        elif algorithm in (RandomForestClassifier,ExtraTreesClassifier):\n",
    "               for depth in range(1,DTC_depth+1):\n",
    "                scores = []\n",
    "                for score_item in scoring_list:\n",
    "                    mean_score = np.mean(cross_val_score(algorithm(n_estimators=trees,max_depth=depth), X,Y, \n",
    "                                                         cv=cross_folds,scoring=score_item))\n",
    "                    scores.append(mean_score)\n",
    "                \n",
    "                print '%-23s (Dep=%i) %.4f  %.4f %.4f' % (algorithm.__name__,depth, scores[0], scores[1], scores[2])\n",
    "                names.append(algorithm.__name__)\n",
    "                accs.append(scores)             \n",
    "        else:\n",
    "            scores = []\n",
    "            for score_item in scoring_list:\n",
    "                mean_score = np.mean(cross_val_score(algorithm(), X,Y, cv=cross_folds,scoring=score_item))\n",
    "                scores.append(mean_score)\n",
    "\n",
    "            print '%-30s %.4f %.4f %.4f' % (algorithm.__name__, scores[0], scores[1], scores[2])  \n",
    "            names.append(algorithm.__name__)\n",
    "            accs.append(scores)\n",
    "            \n",
    "    #print 'Max accuracy:              %.4f' % max(accs) \n",
    "    return accs, names"
   ]
  },
  {
   "cell_type": "code",
   "execution_count": 109,
   "metadata": {
    "collapsed": false
   },
   "outputs": [
    {
     "name": "stdout",
     "output_type": "stream",
     "text": [
      "Using CV: 10                ['accuracy', 'precision', 'recall']\n",
      "--------------------------------------\n",
      "LogisticRegression             0.8045 0.8313 0.7836\n",
      "KNeighborsClassifier    (n=1)    0.5899 0.5711 0.5829\n",
      "KNeighborsClassifier    (n=2)    0.6125 0.6638 0.3883\n",
      "KNeighborsClassifier    (n=3)    0.6155 0.5965 0.6049\n",
      "KNeighborsClassifier    (n=4)    0.6428 0.6758 0.4905\n",
      "KNeighborsClassifier    (n=5)    0.6426 0.6395 0.6143\n",
      "KNeighborsClassifier    (n=6)    0.6442 0.6878 0.5030\n",
      "KNeighborsClassifier    (n=7)    0.6595 0.6691 0.6175\n",
      "KNeighborsClassifier    (n=8)    0.6413 0.6694 0.5189\n",
      "KNeighborsClassifier    (n=9)    0.6474 0.6519 0.6145\n",
      "KNeighborsClassifier    (n=10)    0.6399 0.6678 0.5320\n",
      "GaussianNB                     0.7864 0.8202 0.7452\n",
      "DecisionTreeClassifier  (Dep=1) 0.7638  0.7399 0.7832\n",
      "DecisionTreeClassifier  (Dep=2) 0.7623  0.7343 0.7895\n",
      "DecisionTreeClassifier  (Dep=3) 0.7559  0.8002 0.7327\n",
      "DecisionTreeClassifier  (Dep=4) 0.7302  0.7460 0.7451\n",
      "DecisionTreeClassifier  (Dep=5) 0.7318  0.7354 0.7230\n",
      "RandomForestClassifier  (Dep=1) 0.7605  0.8122 0.6778\n",
      "RandomForestClassifier  (Dep=2) 0.7802  0.8301 0.6841\n",
      "RandomForestClassifier  (Dep=3) 0.7849  0.8431 0.7160\n",
      "RandomForestClassifier  (Dep=4) 0.7772  0.8339 0.7291\n",
      "RandomForestClassifier  (Dep=5) 0.7879  0.8211 0.7258\n",
      "ExtraTreesClassifier    (Dep=1) 0.7544  0.8243 0.6297\n",
      "ExtraTreesClassifier    (Dep=2) 0.7575  0.8198 0.6394\n",
      "ExtraTreesClassifier    (Dep=3) 0.7759  0.8253 0.6813\n",
      "ExtraTreesClassifier    (Dep=4) 0.7682  0.8452 0.7003\n",
      "ExtraTreesClassifier    (Dep=5) 0.7894  0.8408 0.7130\n",
      "AdaBoostClassifier             0.7684 0.7903 0.7455\n"
     ]
    },
    {
     "data": {
      "text/plain": [
       "([[0.80454162752670233, 0.83133618188107783, 0.78356854838709677],\n",
       "  [0.58994746546985355, 0.57113202522036022, 0.58286290322580647],\n",
       "  [0.61251991789305227, 0.66382607836891727, 0.38830645161290323],\n",
       "  [0.61545698083011513, 0.5965026844070962, 0.60493951612903218],\n",
       "  [0.64275858469888314, 0.6758195540460602, 0.490524193548387],\n",
       "  [0.64264481786869854, 0.63952585233802939, 0.61431451612903232],\n",
       "  [0.64422781198900592, 0.68782780574973468, 0.50302419354838701],\n",
       "  [0.65945273631840806, 0.66905953777664295, 0.61754032258064517],\n",
       "  [0.64126604738545034, 0.66944776714513554, 0.51885080645161286],\n",
       "  [0.64737536095745052, 0.6518546976823717, 0.61451612903225805],\n",
       "  [0.63986605434366628, 0.66775113775113781, 0.53195564516129035],\n",
       "  [0.78635633023692719, 0.82021354969083138, 0.74516129032258072],\n",
       "  [0.76378457363531993, 0.73994155474331247, 0.7831653225806452],\n",
       "  [0.76229203632188702, 0.73430521286408634, 0.7895161290322581],\n",
       "  [0.75593466235257289, 0.80022341532665597, 0.73266129032258065],\n",
       "  [0.73019622168875897, 0.74598634763989513, 0.74506048387096779],\n",
       "  [0.73180183001078525, 0.73542662575093343, 0.72298387096774197],\n",
       "  [0.76047942107643607, 0.81220618597415495, 0.67782258064516143],\n",
       "  [0.78022579410639115, 0.83008369271156979, 0.68407258064516141],\n",
       "  [0.7848637929234944, 0.84308220159613345, 0.71602822580645165],\n",
       "  [0.77717287687436942, 0.83390687290533683, 0.72913306451612914],\n",
       "  [0.78787217757367012, 0.82105204936324472, 0.72580645161290325],\n",
       "  [0.75439411334933726, 0.82428858577565478, 0.62973790322580647],\n",
       "  [0.75751556900810635, 0.81981357865726923, 0.63941532258064515],\n",
       "  [0.77593257488779876, 0.82528053645700705, 0.68125000000000013],\n",
       "  [0.7681957346136451, 0.84517356900315299, 0.70030241935483883],\n",
       "  [0.78936401906551157, 0.84079739994350999, 0.71300403225806464],\n",
       "  [0.76840065407229585, 0.79025663539550384, 0.74546370967741937]],\n",
       " ['LogisticRegression',\n",
       "  'KNeighborsClassifier',\n",
       "  'KNeighborsClassifier',\n",
       "  'KNeighborsClassifier',\n",
       "  'KNeighborsClassifier',\n",
       "  'KNeighborsClassifier',\n",
       "  'KNeighborsClassifier',\n",
       "  'KNeighborsClassifier',\n",
       "  'KNeighborsClassifier',\n",
       "  'KNeighborsClassifier',\n",
       "  'KNeighborsClassifier',\n",
       "  'GaussianNB',\n",
       "  'DecisionTreeClassifier',\n",
       "  'DecisionTreeClassifier',\n",
       "  'DecisionTreeClassifier',\n",
       "  'DecisionTreeClassifier',\n",
       "  'DecisionTreeClassifier',\n",
       "  'RandomForestClassifier',\n",
       "  'RandomForestClassifier',\n",
       "  'RandomForestClassifier',\n",
       "  'RandomForestClassifier',\n",
       "  'RandomForestClassifier',\n",
       "  'ExtraTreesClassifier',\n",
       "  'ExtraTreesClassifier',\n",
       "  'ExtraTreesClassifier',\n",
       "  'ExtraTreesClassifier',\n",
       "  'ExtraTreesClassifier',\n",
       "  'AdaBoostClassifier'])"
      ]
     },
     "execution_count": 109,
     "metadata": {},
     "output_type": "execute_result"
    }
   ],
   "source": [
    "cross_val (X,Y,\n",
    "               (  LogisticRegression,\n",
    "                  KNeighborsClassifier,\n",
    "                  GaussianNB,\n",
    "                 # SVC,\n",
    "                  DecisionTreeClassifier,\n",
    "                  RandomForestClassifier,\n",
    "                  ExtraTreesClassifier, \n",
    "                  AdaBoostClassifier),\n",
    "           cross_folds=10,\n",
    "           knn_size=10,\n",
    "           DTC_depth=5,\n",
    "          trees=50)"
   ]
  },
  {
   "cell_type": "code",
   "execution_count": 114,
   "metadata": {
    "collapsed": false
   },
   "outputs": [
    {
     "data": {
      "text/plain": [
       "Index([u'age', u'sex', u'trestbps', u'chol', u'fbs', u'thalach', u'oldpeak',\n",
       "       u'restecg_0.0', u'restecg_1.0', u'restecg_2.0', u'exang_0.0',\n",
       "       u'exang_1.0', u'cp_1.0', u'cp_2.0', u'cp_3.0', u'cp_4.0'],\n",
       "      dtype='object')"
      ]
     },
     "execution_count": 114,
     "metadata": {},
     "output_type": "execute_result"
    }
   ],
   "source": [
    "##################################\n",
    "#### GradientBoostingRegressor ###\n",
    "##################################\n",
    "import sklearn as sk\n",
    "from sklearn.cross_validation import train_test_split\n",
    "from sklearn import ensemble\n",
    "from sklearn import metrics\n",
    "from sklearn.metrics import mean_squared_error\n",
    "\n",
    "\n",
    "X_train, X_test, Y_train, Y_test = train_test_split(X, Y, test_size=0.33)\n",
    "names = X.columns\n",
    "names\n",
    "#X_train.count()\n",
    "#X_train[X_train.notnull().any(axis=1)].count()"
   ]
  },
  {
   "cell_type": "code",
   "execution_count": 115,
   "metadata": {
    "collapsed": false
   },
   "outputs": [
    {
     "name": "stdout",
     "output_type": "stream",
     "text": [
      "nan\n",
      "MSE: 0.1438\n"
     ]
    }
   ],
   "source": [
    "sk.utils.check_random_state(1)\n",
    "# Fit regression model\n",
    "params = {'n_estimators': 500, \n",
    "          'max_depth': 2, \n",
    "          'min_samples_split': 10,\n",
    "          'learning_rate': 0.01, \n",
    "          'loss': 'ls'}\n",
    "clf = ensemble.GradientBoostingRegressor(**params)\n",
    "\n",
    "clf.fit(X_train, Y_train)\n",
    "mse = mean_squared_error(Y_test, clf.predict(X_test))\n",
    "fpr, tpr, thresholds = metrics.roc_curve(Y_test, clf.predict(X_test), pos_label=50 )\n",
    "print metrics.auc(fpr, tpr)\n",
    "print(\"MSE: %.4f\" % mse)"
   ]
  },
  {
   "cell_type": "code",
   "execution_count": 116,
   "metadata": {
    "collapsed": false
   },
   "outputs": [
    {
     "name": "stdout",
     "output_type": "stream",
     "text": [
      "[ 0.09746942  0.08937776  0.02579594  0.14708662  0.0336978   0.12910111\n",
      "  0.19032007  0.          0.04358578  0.02887707  0.03204386  0.03009791\n",
      "  0.          0.00892342  0.00827406  0.13534917]\n"
     ]
    }
   ],
   "source": [
    "print clf.feature_importances_"
   ]
  },
  {
   "cell_type": "code",
   "execution_count": 117,
   "metadata": {
    "collapsed": false
   },
   "outputs": [
    {
     "data": {
      "image/png": "[encoded data removed]",
      "text/plain": [
       "<matplotlib.figure.Figure at 0xa505be0>"
      ]
     },
     "metadata": {},
     "output_type": "display_data"
    }
   ],
   "source": [
    "#%matplotlib inline\n",
    "import matplotlib.pyplot as plt \n",
    "feature_importance = clf.feature_importances_\n",
    "# make importances relative to max importance\n",
    "feature_importance = 100.0 * (feature_importance / feature_importance.max())\n",
    "sorted_idx = np.argsort(feature_importance)[-13:]\n",
    "pos = np.arange(sorted_idx.shape[0]) + .5\n",
    "plt.figure(figsize=(8, 6))\n",
    "plt.barh(pos, feature_importance[sorted_idx], align='center')\n",
    "plt.yticks(pos, X.columns[sorted_idx])\n",
    "plt.xlabel('Relative Importance')\n",
    "plt.title('Variable Importance')\n",
    "#with seaborn.axes_style('white'):\n",
    "plt.show()"
   ]
  },
  {
   "cell_type": "code",
   "execution_count": 119,
   "metadata": {
    "collapsed": false
   },
   "outputs": [
    {
     "data": {
      "text/plain": [
       "Index([u'oldpeak', u'exang_1.0', u'thalach', u'age', u'cp_4.0'], dtype='object')"
      ]
     },
     "execution_count": 119,
     "metadata": {},
     "output_type": "execute_result"
    }
   ],
   "source": [
    "#Set new variables\n",
    "#Set X and Y\n",
    "Y = df.num\n",
    "include_list = ['oldpeak','exang_1.0','thalach','age', 'cp_4.0']\n",
    "X = df[include_list]\n",
    "\n",
    "X.columns"
   ]
  },
  {
   "cell_type": "code",
   "execution_count": 18,
   "metadata": {
    "collapsed": false
   },
   "outputs": [
    {
     "name": "stdout",
     "output_type": "stream",
     "text": [
      "Using CV: 10                ['accuracy', 'precision', 'recall']\n",
      "--------------------------------------\n",
      "LogisticRegression             0.7896 0.8022 0.7706\n",
      "GaussianNB                     0.7879 0.8072 0.7705\n",
      "DecisionTreeClassifier  (Dep=1) 0.7638  0.7399 0.7832\n",
      "DecisionTreeClassifier  (Dep=2) 0.7623  0.7343 0.7895\n",
      "DecisionTreeClassifier  (Dep=3) 0.7759  0.7632 0.8351\n",
      "DecisionTreeClassifier  (Dep=4) 0.7531  0.7455 0.8091\n",
      "RandomForestClassifier  (Dep=1) 0.7730  0.7695 0.7289\n",
      "RandomForestClassifier  (Dep=2) 0.7699  0.7985 0.7353\n",
      "RandomForestClassifier  (Dep=3) 0.7654  0.7941 0.7608\n",
      "RandomForestClassifier  (Dep=4) 0.7684  0.7842 0.7610\n",
      "ExtraTreesClassifier    (Dep=1) 0.7699  0.7620 0.7735\n",
      "ExtraTreesClassifier    (Dep=2) 0.7773  0.7734 0.7606\n",
      "ExtraTreesClassifier    (Dep=3) 0.7819  0.7724 0.7702\n",
      "ExtraTreesClassifier    (Dep=4) 0.7834  0.7802 0.7735\n",
      "AdaBoostClassifier             0.7503 0.7698 0.7359\n"
     ]
    }
   ],
   "source": [
    "cross_val (X,Y,\n",
    "               (  LogisticRegression,\n",
    "                  GaussianNB,\n",
    "                  DecisionTreeClassifier,\n",
    "                  RandomForestClassifier,\n",
    "                  ExtraTreesClassifier, \n",
    "                  AdaBoostClassifier),\n",
    "           cross_folds=10,\n",
    "           knn_size=10,\n",
    "           DTC_depth=4)"
   ]
  },
  {
   "cell_type": "code",
   "execution_count": 19,
   "metadata": {
    "collapsed": false
   },
   "outputs": [
    {
     "data": {
      "text/plain": [
       "'\\nfor i in include_list:\\n    sns.distplot(df[i])\\n    plt.show()\\n    \\n'"
      ]
     },
     "execution_count": 19,
     "metadata": {},
     "output_type": "execute_result"
    }
   ],
   "source": [
    "'''\n",
    "for i in include_list:\n",
    "    sns.distplot(df[i])\n",
    "    plt.show()\n",
    "    \n",
    "'''"
   ]
  },
  {
   "cell_type": "code",
   "execution_count": 120,
   "metadata": {
    "collapsed": false
   },
   "outputs": [],
   "source": [
    "def cross_val (X,Y, \n",
    "               algorithm_tuple =(LogisticRegression,KNeighborsClassifier), \n",
    "               cross_folds=10,\n",
    "               knn_size=1,\n",
    "               DTC_depth=5,\n",
    "               trees=40,\n",
    "               scoring_list=[\"accuracy\",\"precision\",\"recall\"]):\n",
    "    from sklearn.cross_validation import cross_val_score\n",
    "    names, accs = [],[]\n",
    "    print \"Using CV:\",cross_folds,\"              \",scoring_list\n",
    "    print \"--------------------------------------\"\n",
    "    \n",
    "    for algorithm in (algorithm_tuple):\n",
    "        #special case for KNN\n",
    "        if algorithm == KNeighborsClassifier:\n",
    "            for n in range(1,knn_size+1):\n",
    "                scores = []\n",
    "                index = 0\n",
    "                message_to_print_part1=\"'%-23s (n=%i)   \"\n",
    "                message_to_print_part2=\" (algorithm.__name__,n\"\n",
    "                for score_item in scoring_list:\n",
    "                    mean_score = np.mean(cross_val_score(KNeighborsClassifier(n), X,Y, cv=cross_folds,scoring=score_item))\n",
    "                    scores.append(mean_score)\n",
    "                    message_to_print_part1+=\" %.4f\"\n",
    "                    message_to_print_part2+=\", scores[\"+str(index)+\"]\"\n",
    "                    index +=1\n",
    "                    #print \"in it\",score_item, mean_score\n",
    "                #print \"out of it\", scores\n",
    "                message_to_print_part1+=\"' %\"\n",
    "                message_to_print_part2+=\")\"\n",
    "                message_to_print_part1+=message_to_print_part2\n",
    "                names.append(algorithm.__name__ + \" N=\"+str(n)) \n",
    "                print (eval(message_to_print_part1))\n",
    "                #print '%-23s (n=%i)  %.4f %.4f %.4f' % (algorithm.__name__,n, scores[0], scores[1], scores[2])   \n",
    "                accs.append(scores)        \n",
    "                \n",
    "        elif algorithm ==DecisionTreeClassifier:     \n",
    "            for depth in range(1,DTC_depth+1):\n",
    "                scores = []\n",
    "                for score_item in scoring_list:\n",
    "                    mean_score = np.mean(cross_val_score(DecisionTreeClassifier(max_depth=depth, class_weight=\"balanced\"), X,Y, \n",
    "                                                       cv=cross_folds,scoring=score_item))\n",
    "                    scores.append(mean_score)\n",
    "                \n",
    "                print '%-23s (Dep=%i) %.4f  %.4f %.4f' % (algorithm.__name__,depth, scores[0], scores[1], scores[2])\n",
    "                names.append(algorithm.__name__ + \" D=\"+str(depth)) \n",
    "                accs.append(scores)\n",
    "        \n",
    "        elif algorithm in (RandomForestClassifier,ExtraTreesClassifier):\n",
    "               for depth in range(1,DTC_depth+1):\n",
    "                scores = []\n",
    "                for score_item in scoring_list:\n",
    "                    mean_score = np.mean(cross_val_score(algorithm(n_estimators=trees,max_depth=depth), X,Y, \n",
    "                                                         cv=cross_folds,scoring=score_item))\n",
    "                    scores.append(mean_score)\n",
    "                \n",
    "                print '%-23s (Dep=%i) %.4f  %.4f %.4f' % (algorithm.__name__,depth, scores[0], scores[1], scores[2])\n",
    "                names.append(algorithm.__name__ + \" D=\"+str(depth)) \n",
    "                accs.append(scores)             \n",
    "        else:\n",
    "            scores = []\n",
    "            for score_item in scoring_list:\n",
    "                mean_score = np.mean(cross_val_score(algorithm(), X,Y, cv=cross_folds,scoring=score_item))\n",
    "                scores.append(mean_score)\n",
    "\n",
    "            print '%-30s %.4f %.4f %.4f' % (algorithm.__name__, scores[0], scores[1], scores[2])  \n",
    "            names.append(algorithm.__name__)\n",
    "            accs.append(scores)\n",
    "            \n",
    "    #print 'Max accuracy:              %.4f' % max(accs) \n",
    "    return accs, names"
   ]
  },
  {
   "cell_type": "code",
   "execution_count": 121,
   "metadata": {
    "collapsed": false
   },
   "outputs": [
    {
     "name": "stdout",
     "output_type": "stream",
     "text": [
      "Using CV: 10                ['accuracy', 'f1', 'recall']\n",
      "--------------------------------------\n",
      "KNeighborsClassifier    (n=1)    0.6638 0.6551 0.6754\n",
      "KNeighborsClassifier    (n=2)    0.6971 0.6137 0.5319\n",
      "KNeighborsClassifier    (n=3)    0.7304 0.7071 0.6976\n",
      "KNeighborsClassifier    (n=4)    0.7409 0.6927 0.6303\n",
      "KNeighborsClassifier    (n=5)    0.7334 0.7146 0.7101\n",
      "LogisticRegression             0.7833 0.7643 0.7483\n",
      "GaussianNB                     0.7969 0.7810 0.7706\n",
      "DecisionTreeClassifier  (Dep=1) 0.7638  0.7595 0.7832\n",
      "DecisionTreeClassifier  (Dep=2) 0.7623  0.7594 0.7895\n",
      "DecisionTreeClassifier  (Dep=3) 0.7591  0.7332 0.6974\n",
      "DecisionTreeClassifier  (Dep=4) 0.7424  0.7320 0.7259\n",
      "DecisionTreeClassifier  (Dep=5) 0.7349  0.7354 0.7611\n",
      "RandomForestClassifier  (Dep=1) 0.7773  0.7439 0.7000\n",
      "RandomForestClassifier  (Dep=2) 0.7758  0.7471 0.6971\n",
      "RandomForestClassifier  (Dep=3) 0.7803  0.7464 0.7229\n",
      "RandomForestClassifier  (Dep=4) 0.7803  0.7571 0.7136\n",
      "RandomForestClassifier  (Dep=5) 0.7606  0.7337 0.7259\n",
      "ExtraTreesClassifier    (Dep=1) 0.7757  0.7333 0.7636\n",
      "ExtraTreesClassifier    (Dep=2) 0.7743  0.7473 0.7292\n",
      "ExtraTreesClassifier    (Dep=3) 0.7714  0.7400 0.7197\n",
      "ExtraTreesClassifier    (Dep=4) 0.7803  0.7460 0.7133\n",
      "ExtraTreesClassifier    (Dep=5) 0.7712  0.7422 0.6970\n",
      "AdaBoostClassifier             0.7444 0.7349 0.7392\n"
     ]
    }
   ],
   "source": [
    "from sklearn import preprocessing\n",
    "X = preprocessing.scale(X)\n",
    "\n",
    "(scores,names)= cross_val (X,Y,\n",
    "               (  KNeighborsClassifier,\n",
    "                  LogisticRegression,\n",
    "                  GaussianNB,\n",
    "                  DecisionTreeClassifier,\n",
    "                  RandomForestClassifier,\n",
    "                  ExtraTreesClassifier, \n",
    "                  AdaBoostClassifier),\n",
    "           cross_folds=10,\n",
    "           knn_size=5,\n",
    "           DTC_depth=5,\n",
    "            scoring_list=[\"accuracy\",\"f1\",\"recall\"])"
   ]
  },
  {
   "cell_type": "code",
   "execution_count": 140,
   "metadata": {
    "collapsed": false
   },
   "outputs": [],
   "source": [
    "def plot_classifiers (scores,names,scoring=\"accs\"):\n",
    "    \n",
    "    #scoring options are: accs, prec, reca\n",
    "    \n",
    "    import matplotlib.pyplot as plt \n",
    "    accs = [x[0] for x in scores]\n",
    "    prec = [x[1] for x in scores]\n",
    "    reca = [x[2] for x in scores]\n",
    "    \n",
    "    if scoring == \"accs\":\n",
    "        accs = accs\n",
    "        label_name = \"Accuracy\"\n",
    "    elif scoring ==\"prec\":\n",
    "        accs = prec\n",
    "        label_name = \"f1\"\n",
    "    else:\n",
    "        accs = reca\n",
    "        label_name = \"Recall\"\n",
    "        \n",
    "    min_score = min(accs)-0.02\n",
    "    max_score = max(accs)+0.02\n",
    "\n",
    "    num_bars = len(accs)\n",
    "    plt.figure(figsize=(15,5))\n",
    "\n",
    "    plt.subplot(121)\n",
    "    plt.bar(range(num_bars), accs, color='#75A3FF')\n",
    "    plt.xticks(np.arange(num_bars)+0.35, names, rotation=90)\n",
    "    #plt.xticks(names, rotation=90)\n",
    "    plt.ylabel(label_name)\n",
    "    plt.title('Scoring by model')\n",
    "\n",
    "    plt.subplot(122)\n",
    "    plt.bar(range(num_bars), accs, color='#CC6699')\n",
    "    plt.xticks(np.arange(num_bars)+0.35, names, rotation=90)\n",
    "    plt.ylim(min_score, max_score)\n",
    "    plt.ylabel(label_name)\n",
    "    plt.title('Zooming in to see differences')\n",
    "    \n",
    "    return None"
   ]
  },
  {
   "cell_type": "code",
   "execution_count": 141,
   "metadata": {
    "collapsed": false
   },
   "outputs": [
    {
     "data": {
      "image/png": "[encoded data removed]",
      "text/plain": [
       "<matplotlib.figure.Figure at 0xdfde240>"
      ]
     },
     "metadata": {},
     "output_type": "display_data"
    },
    {
     "data": {
      "image/png": "[encoded data removed]",
      "text/plain": [
       "<matplotlib.figure.Figure at 0xdfde7f0>"
      ]
     },
     "metadata": {},
     "output_type": "display_data"
    },
    {
     "data": {
      "image/png": "[encoded data removed]",
      "text/plain": [
       "<matplotlib.figure.Figure at 0xe28feb8>"
      ]
     },
     "metadata": {},
     "output_type": "display_data"
    }
   ],
   "source": [
    "plot_classifiers (scores,names,scoring=\"accs\")\n",
    "plot_classifiers (scores,names,scoring=\"prec\")\n",
    "plot_classifiers (scores,names,scoring=\"reca\")\n"
   ]
  },
  {
   "cell_type": "code",
   "execution_count": 185,
   "metadata": {
    "collapsed": false
   },
   "outputs": [
    {
     "name": "stdout",
     "output_type": "stream",
     "text": [
      "Using CV: 10                ['accuracy', 'precision', 'recall']\n",
      "--------------------------------------\n",
      "KNeighborsClassifier    (n=1)    0.6638 0.6692 0.6754\n",
      "KNeighborsClassifier    (n=2)    0.6971 0.7834 0.5319\n",
      "KNeighborsClassifier    (n=3)    0.7304 0.7484 0.6976\n",
      "KNeighborsClassifier    (n=4)    0.7409 0.8134 0.6303\n",
      "KNeighborsClassifier    (n=5)    0.7334 0.7448 0.7101\n",
      "LogisticRegression             0.7833 0.8092 0.7483\n",
      "GaussianNB                     0.7969 0.8196 0.7706\n",
      "DecisionTreeClassifier  (Dep=1) 0.7638  0.7399 0.7832\n",
      "DecisionTreeClassifier  (Dep=2) 0.7623  0.7343 0.7895\n",
      "DecisionTreeClassifier  (Dep=3) 0.7591  0.8080 0.6974\n",
      "DecisionTreeClassifier  (Dep=4) 0.7424  0.7559 0.7290\n",
      "DecisionTreeClassifier  (Dep=5) 0.7349  0.7327 0.7611\n",
      "RandomForestClassifier  (Dep=1) 0.7698  0.8017 0.7258\n",
      "RandomForestClassifier  (Dep=2) 0.7788  0.8242 0.7004\n",
      "RandomForestClassifier  (Dep=3) 0.7728  0.8125 0.7100\n",
      "RandomForestClassifier  (Dep=4) 0.7788  0.8181 0.7165\n",
      "RandomForestClassifier  (Dep=5) 0.7683  0.8126 0.7034\n",
      "ExtraTreesClassifier    (Dep=1) 0.7863  0.7750 0.7582\n",
      "ExtraTreesClassifier    (Dep=2) 0.7758  0.8321 0.7670\n",
      "ExtraTreesClassifier    (Dep=3) 0.7653  0.8160 0.7324\n",
      "ExtraTreesClassifier    (Dep=4) 0.7743  0.8128 0.7132\n",
      "ExtraTreesClassifier    (Dep=5) 0.7788  0.8242 0.7036\n",
      "AdaBoostClassifier             0.7444 0.7501 0.7392\n"
     ]
    }
   ],
   "source": [
    "(scores,names)= cross_val (X,Y,\n",
    "               (  KNeighborsClassifier,\n",
    "                  LogisticRegression,\n",
    "                  GaussianNB,\n",
    "                  DecisionTreeClassifier,\n",
    "                  RandomForestClassifier,\n",
    "                  ExtraTreesClassifier, \n",
    "                  AdaBoostClassifier),\n",
    "           cross_folds=10,\n",
    "           knn_size=5,\n",
    "           DTC_depth=5,\n",
    "            scoring_list=[\"accuracy\",\"precision\",\"recall\"])"
   ]
  },
  {
   "cell_type": "code",
   "execution_count": 186,
   "metadata": {
    "collapsed": false
   },
   "outputs": [],
   "source": [
    "import numpy as np\n",
    "score_array = np.array(scores)\n",
    "precision = score_array[:][:,1]\n",
    "recall = score_array[:][:,2]"
   ]
  },
  {
   "cell_type": "code",
   "execution_count": 187,
   "metadata": {
    "collapsed": false
   },
   "outputs": [
    {
     "data": {
      "text/plain": [
       "<matplotlib.collections.PathCollection at 0xed0fa20>"
      ]
     },
     "execution_count": 187,
     "metadata": {},
     "output_type": "execute_result"
    },
    {
     "data": {
      "image/png": "[encoded data removed]",
      "text/plain": [
       "<matplotlib.figure.Figure at 0xdca1208>"
      ]
     },
     "metadata": {},
     "output_type": "display_data"
    }
   ],
   "source": [
    "plt.scatter(precision,recall, alpha=0.5)"
   ]
  }
 ],
 "metadata": {
  "kernelspec": {
   "display_name": "Python 2",
   "language": "python",
   "name": "python2"
  },
  "language_info": {
   "codemirror_mode": {
    "name": "ipython",
    "version": 2
   },
   "file_extension": ".py",
   "mimetype": "text/x-python",
   "name": "python",
   "nbconvert_exporter": "python",
   "pygments_lexer": "ipython2",
   "version": "2.7.11"
  }
 },
 "nbformat": 4,
 "nbformat_minor": 0
}
